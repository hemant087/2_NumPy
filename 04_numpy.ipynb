{
 "cells": [
  {
   "cell_type": "code",
   "execution_count": 2,
   "id": "d4c2d672-c6c6-4253-977b-f68752ef3e14",
   "metadata": {},
   "outputs": [],
   "source": [
    "import numpy as np"
   ]
  },
  {
   "cell_type": "markdown",
   "id": "7658f43a-7dd9-41d3-830e-622d02850c0d",
   "metadata": {},
   "source": [
    "How to stack two arrays vertically?\r\n",
    "Difficulty Level: L2\r\n",
    "\r\n",
    "Q. Stack arrays a and b vertically\r\n",
    "\r\n",
    "Input\r\n",
    "\r\n",
    "a = np.arange(10).reshape(2,-1)\r\n",
    "b = np.repeat(1, 10).reshape(2,-1)\r\n",
    "Desired Output:\r\n",
    "\r\n",
    "#> array([[0, 1, 2, 3, 4],\r\n",
    "#>        [5, 6, 7, 8, 9],\r\n",
    "#>        [1, 1, 1, 1, 1],\r\n",
    "#>        [1, 1, 1, 1, 1]])"
   ]
  },
  {
   "cell_type": "code",
   "execution_count": 13,
   "id": "f64f31b2-286a-495d-a5a0-82106c182172",
   "metadata": {},
   "outputs": [
    {
     "name": "stdout",
     "output_type": "stream",
     "text": [
      "[[0 1 2 3 4]\n",
      " [5 6 7 8 9]] [[1 1 1 1 1]\n",
      " [1 1 1 1 1]]\n"
     ]
    }
   ],
   "source": [
    "a = np.arange(10).reshape(2,-1) \n",
    "b = np.repeat(1, 10).reshape(2,-1)\n",
    "print(a,b)"
   ]
  },
  {
   "cell_type": "code",
   "execution_count": 27,
   "id": "b73d3c59-33d6-4c13-99d3-1b383237b581",
   "metadata": {},
   "outputs": [
    {
     "data": {
      "text/plain": [
       "array([[0, 1, 2, 3, 4, 1, 1, 1, 1, 1],\n",
       "       [5, 6, 7, 8, 9, 1, 1, 1, 1, 1]])"
      ]
     },
     "execution_count": 27,
     "metadata": {},
     "output_type": "execute_result"
    }
   ],
   "source": [
    "ans = np.hstack((a,b))\n",
    "ans"
   ]
  },
  {
   "cell_type": "markdown",
   "id": "a41ec663-386b-49a2-9a42-71f3548b2dbc",
   "metadata": {},
   "source": [
    "10. How to generate custom sequences in numpy without hardcoding?\r\n",
    "Difficulty Level: L2\r\n",
    "\r\n",
    "Q. Create the following pattern without hardcoding. Use only numpy functions and the below input array a.\r\n",
    "\r\n",
    "Input:\r\n",
    "\r\n",
    "a = np.array([1,2,3])`\r\n",
    "Desired Output:\r\n",
    "\r\n",
    "#> array([1, 1, 1, 2, 2, 2, 3, 3, 3, 1, 2, 3, 1, 2, 3, 1, 2, 3])"
   ]
  },
  {
   "cell_type": "code",
   "execution_count": 48,
   "id": "3110727d-3242-457f-b1f8-69db0076363a",
   "metadata": {},
   "outputs": [],
   "source": [
    "a = np.array([1,2,3])"
   ]
  },
  {
   "cell_type": "code",
   "execution_count": 54,
   "id": "43075b6d-260f-4274-882b-095c0b0fc3fc",
   "metadata": {},
   "outputs": [
    {
     "data": {
      "text/plain": [
       "array([1, 1, 1, 2, 2, 2, 3, 3, 3, 1, 2, 3, 1, 2, 3, 1, 2, 3])"
      ]
     },
     "execution_count": 54,
     "metadata": {},
     "output_type": "execute_result"
    }
   ],
   "source": [
    "ab = np.repeat(a,3)\n",
    "a = np.hstack((a,a,a))\n",
    "np.hstack((ab,a))"
   ]
  },
  {
   "cell_type": "code",
   "execution_count": 66,
   "id": "f7b1df8f-b6a8-4f5c-8c13-319d823a342b",
   "metadata": {},
   "outputs": [
    {
     "data": {
      "text/plain": [
       "array([1, 1, 1, 2, 2, 2, 3, 3, 3, 1, 2, 3, 1, 2, 3, 1, 2, 3])"
      ]
     },
     "execution_count": 66,
     "metadata": {},
     "output_type": "execute_result"
    }
   ],
   "source": [
    "a = np.array([1,2,3])\n",
    "np.r_[np.repeat(a,3),np.tile(a,3)]"
   ]
  },
  {
   "cell_type": "markdown",
   "id": "362773b9-a482-4527-81dc-06e2a660fed2",
   "metadata": {},
   "source": [
    "11. How to get the common items between two python numpy arrays?\r\n",
    "Difficulty Level: L2\r\n",
    "\r\n",
    "Q. Get the common items between a and b\r\n",
    "\r\n",
    "Input:\r\n",
    "\r\n",
    "a = np.array([1,2,3,2,3,4,3,4,5,6])\r\n",
    "b = np.array([7,2,10,2,7,4,9,4,9,8])\r\n",
    "Desired Output:\r\n",
    "\r\n",
    "array([2, 4])"
   ]
  },
  {
   "cell_type": "code",
   "execution_count": 73,
   "id": "406aed45-8c01-4e9a-aab1-1b1fae9c4da1",
   "metadata": {},
   "outputs": [],
   "source": [
    "a = np.array([1,2,3,2,3,4,3,4,5,6]) \n",
    "b = np.array([7,2,10,2,7,4,9,4,9,8])"
   ]
  },
  {
   "cell_type": "code",
   "execution_count": 75,
   "id": "dbe838fc-9f88-4147-948b-e6a95c6d359e",
   "metadata": {},
   "outputs": [
    {
     "data": {
      "text/plain": [
       "array([2, 4])"
      ]
     },
     "execution_count": 75,
     "metadata": {},
     "output_type": "execute_result"
    }
   ],
   "source": [
    "np.intersect1d(a,b)"
   ]
  },
  {
   "cell_type": "markdown",
   "id": "61a0633c-b946-4028-8877-3293e47db584",
   "metadata": {},
   "source": [
    "12. How to remove from one array those items that exist in another?\r\n",
    "Difficulty Level: L2\r\n",
    "\r\n",
    "Q. From array a remove all items present in array b\r\n",
    "\r\n",
    "Input:\r\n",
    "\r\n",
    "a = np.array([1,2,3,4,5])\r\n",
    "b = np.array([5,6,7,8,9])\r\n",
    "Desired Output:\r\n",
    "\r\n",
    "array([1,2,3,4])"
   ]
  },
  {
   "cell_type": "code",
   "execution_count": 78,
   "id": "7d86ea1c-957f-4fca-b2b0-52bda1bab1f4",
   "metadata": {},
   "outputs": [],
   "source": [
    "a = np.array([1,2,3,4,5])\n",
    "b = np.array([5,6,7,8,9])"
   ]
  },
  {
   "cell_type": "code",
   "execution_count": 84,
   "id": "d9a8383f-32af-4475-8b55-92f8b6597444",
   "metadata": {},
   "outputs": [
    {
     "data": {
      "text/plain": [
       "array([0, 0, 0, 0, 0])"
      ]
     },
     "execution_count": 84,
     "metadata": {},
     "output_type": "execute_result"
    }
   ],
   "source": [
    "np.where(b in a , a,0)"
   ]
  },
  {
   "cell_type": "code",
   "execution_count": 92,
   "id": "300e8e7f-cb86-436f-aa2c-9e1cfa6be827",
   "metadata": {},
   "outputs": [
    {
     "data": {
      "text/plain": [
       "array([1, 2, 3, 4])"
      ]
     },
     "execution_count": 92,
     "metadata": {},
     "output_type": "execute_result"
    }
   ],
   "source": [
    "a[~np.isin(a,b)]"
   ]
  },
  {
   "cell_type": "code",
   "execution_count": 94,
   "id": "07ddfedd-fb25-45af-b2d6-801e7b84f0b4",
   "metadata": {},
   "outputs": [
    {
     "data": {
      "text/plain": [
       "array([1, 2, 3, 4])"
      ]
     },
     "execution_count": 94,
     "metadata": {},
     "output_type": "execute_result"
    }
   ],
   "source": [
    "np.setdiff1d(a,b)"
   ]
  },
  {
   "cell_type": "markdown",
   "id": "23d4a91c-937b-4182-b16e-5545c14b8990",
   "metadata": {},
   "source": [
    "13. How to get the positions where elements of two arrays match?\n",
    "Difficulty Level: L2\n",
    "\n",
    "Q. Get the positions where elements of a and b match\n",
    "\n",
    "Input:\n",
    "\n",
    "a = np.array([1,2,3,2,3,4,3,4,5,6])\n",
    "b = np.array([7,2,10,2,7,4,9,4,9,8])\n",
    "Desired Output:\n",
    "\n",
    "#> (array([1, 3, 5, 7]),)"
   ]
  },
  {
   "cell_type": "code",
   "execution_count": 119,
   "id": "03538e0e-3084-4403-a05e-5b619db66028",
   "metadata": {},
   "outputs": [],
   "source": [
    "a = np.array([1,2,3,2,3,4,0,4,9,6])\n",
    "b = np.array([7,2,10,2,7,4,9,4,9,4])"
   ]
  },
  {
   "cell_type": "code",
   "execution_count": 129,
   "id": "c813e59c-94cc-4a75-b61b-d89798851130",
   "metadata": {},
   "outputs": [],
   "source": [
    "# a[np.isin(a,b),np.argwhere()] "
   ]
  },
  {
   "cell_type": "code",
   "execution_count": 123,
   "id": "c04610d6-aae2-4569-86e1-5fd28738d6f8",
   "metadata": {},
   "outputs": [
    {
     "data": {
      "text/plain": [
       "(array([1, 3, 5, 7, 8], dtype=int64),)"
      ]
     },
     "execution_count": 123,
     "metadata": {},
     "output_type": "execute_result"
    }
   ],
   "source": [
    "np.where(a==b)"
   ]
  },
  {
   "cell_type": "markdown",
   "id": "cdaf14ba-72b2-42bf-9c6c-c05a3cc08a65",
   "metadata": {},
   "source": [
    "14. How to extract all numbers between a given range from a numpy array?\r\n",
    "Difficulty Level: L2\r\n",
    "\r\n",
    "Q. Get all items between 5 and 10 from a.\r\n",
    "\r\n",
    "Input:\r\n",
    "\r\n",
    "a = np.array([2, 6, 1, 9, 10, 3, 27])\r\n",
    "Desired Output:\r\n",
    "\r\n",
    "(array([6, 9, 10]),)"
   ]
  },
  {
   "cell_type": "code",
   "execution_count": 132,
   "id": "6282aee6-ea71-478c-a2bd-95e59efc00ad",
   "metadata": {},
   "outputs": [],
   "source": [
    "a = np.array([2, 6, 1, 9, 10, 3, 27])"
   ]
  },
  {
   "cell_type": "code",
   "execution_count": 142,
   "id": "62c132e6-f265-4e47-ba17-4e81532adb7f",
   "metadata": {},
   "outputs": [
    {
     "data": {
      "text/plain": [
       "array([ 6,  9, 10])"
      ]
     },
     "execution_count": 142,
     "metadata": {},
     "output_type": "execute_result"
    }
   ],
   "source": [
    "a[(a>=5) & (a<=10)]"
   ]
  },
  {
   "cell_type": "code",
   "execution_count": 154,
   "id": "3b9d06aa-4e86-4b2b-b195-d3fd764c92b4",
   "metadata": {},
   "outputs": [],
   "source": [
    "inx = np.where((a>=5) & (a<=10))"
   ]
  },
  {
   "cell_type": "code",
   "execution_count": 156,
   "id": "3e662719-dfe1-4033-a4b6-f42acfb6863a",
   "metadata": {},
   "outputs": [
    {
     "data": {
      "text/plain": [
       "array([ 6,  9, 10])"
      ]
     },
     "execution_count": 156,
     "metadata": {},
     "output_type": "execute_result"
    }
   ],
   "source": [
    "a[inx]"
   ]
  },
  {
   "cell_type": "markdown",
   "id": "9be265f5-adb9-4bd9-8b78-51c3cd64d927",
   "metadata": {},
   "source": [
    "15. How to make a python function that handles scalars to work on numpy arrays?\r\n",
    "Difficulty Level: L2\r\n",
    "\r\n",
    "Q. Convert the function maxx that works on two scalars, to work on two arrays.\r\n",
    "\r\n",
    "Input:\r\n",
    "\r\n",
    "def maxx(x, y):\r\n",
    "    \"\"\"Get the maximum of two items\"\"\"\r\n",
    "    if x >= y:\r\n",
    "        return x\r\n",
    "    else:\r\n",
    "        return y\r\n",
    "\r\n",
    "maxx(1, 5)\r\n",
    "#> 5\r\n",
    "Desired Output:\r\n",
    "\r\n",
    "a = np.array([5, 7, 9, 8, 6, 4, 5])\r\n",
    "b = np.array([6, 3, 4, 8, 9, 7, 1])\r\n",
    "pair_max(a, b)\r\n",
    "#> array([ 6.,  7.,  9.,  8.,  9.,  7.,  5.])"
   ]
  },
  {
   "cell_type": "code",
   "execution_count": 201,
   "id": "327b890c-1ee9-47cd-bd34-3a2bd1cb50b5",
   "metadata": {},
   "outputs": [],
   "source": [
    "def maxx(x, y):\n",
    "    \"\"\"Get the maximum of two items\"\"\"\n",
    "    if x >= y:\n",
    "        return x\n",
    "    else:\n",
    "        return y"
   ]
  },
  {
   "cell_type": "code",
   "execution_count": 203,
   "id": "296fc322-c779-4b21-b110-0334867f68cc",
   "metadata": {},
   "outputs": [],
   "source": [
    "a = np.array([5, 7, 9, 8, 6, 4, 5])\n",
    "b = np.array([6, 3, 4, 8, 9, 7, 1])\n",
    "#> array([ 6.,  7.,  9.,  8.,  9.,  7.,  5.])"
   ]
  },
  {
   "cell_type": "code",
   "execution_count": 205,
   "id": "00612148-a65b-4ab1-aae4-373b43710e51",
   "metadata": {},
   "outputs": [
    {
     "data": {
      "text/plain": [
       "[6, 7, 9, 8, 9, 7, 5]"
      ]
     },
     "execution_count": 205,
     "metadata": {},
     "output_type": "execute_result"
    }
   ],
   "source": [
    "[maxx(a[i],b[i]) for i in range(len(a))] "
   ]
  },
  {
   "cell_type": "code",
   "execution_count": 221,
   "id": "02d279b5-d693-4387-8ea8-bf410ec4efea",
   "metadata": {},
   "outputs": [
    {
     "data": {
      "text/plain": [
       "array([6, 7, 9, 8, 9, 7, 5])"
      ]
     },
     "execution_count": 221,
     "metadata": {},
     "output_type": "execute_result"
    }
   ],
   "source": [
    "temp = np.vectorize(maxx)\n",
    "temp(a,b)"
   ]
  },
  {
   "cell_type": "markdown",
   "id": "63818de1-5203-4a51-9d98-e512b70398ee",
   "metadata": {},
   "source": [
    "16. How to swap two columns in a 2d numpy array?\n",
    "Difficulty Level: L2\n",
    "\n",
    "Q. Swap columns 1 and 2 in the array arr.\n",
    "\n",
    "arr = np.arange(9).reshape(3,3)\n",
    "arr"
   ]
  },
  {
   "cell_type": "code",
   "execution_count": 229,
   "id": "0b006863-436d-4952-8431-97cd10383529",
   "metadata": {},
   "outputs": [
    {
     "data": {
      "text/plain": [
       "array([[0, 1, 2],\n",
       "       [3, 4, 5],\n",
       "       [6, 7, 8]])"
      ]
     },
     "execution_count": 229,
     "metadata": {},
     "output_type": "execute_result"
    }
   ],
   "source": [
    "arr = np.arange(9).reshape(3,3)\n",
    "arr"
   ]
  },
  {
   "cell_type": "code",
   "execution_count": 231,
   "id": "dcaf32d9-3610-4b53-a5f0-35bf1b37c82e",
   "metadata": {},
   "outputs": [
    {
     "data": {
      "text/plain": [
       "array([[2, 1, 0],\n",
       "       [5, 4, 3],\n",
       "       [8, 7, 6]])"
      ]
     },
     "execution_count": 231,
     "metadata": {},
     "output_type": "execute_result"
    }
   ],
   "source": [
    "arr[:,[2,1,0]]"
   ]
  },
  {
   "cell_type": "markdown",
   "id": "b3eac7f3-c193-48c1-bb5e-4d2c09ecd6e8",
   "metadata": {},
   "source": [
    "17. How to swap two rows in a 2d numpy array?\r\n",
    "Difficulty Level: L2\r\n",
    "\r\n",
    "Q. Swap rows 1 and 2 in the array arr:\r\n",
    "\r\n",
    "arr = np.arange(9).reshape(3,3)\r\n",
    "arr"
   ]
  },
  {
   "cell_type": "code",
   "execution_count": 234,
   "id": "6253e5ba-ae43-4666-bbeb-093bff7dd1b7",
   "metadata": {},
   "outputs": [
    {
     "data": {
      "text/plain": [
       "array([[6, 7, 8],\n",
       "       [0, 1, 2],\n",
       "       [3, 4, 5]])"
      ]
     },
     "execution_count": 234,
     "metadata": {},
     "output_type": "execute_result"
    }
   ],
   "source": [
    "arr[[2,0,1],:]"
   ]
  },
  {
   "cell_type": "markdown",
   "id": "75b8afaa-5e3f-47d0-8d85-f2b4efd24b61",
   "metadata": {},
   "source": [
    "18. How to reverse the rows of a 2D array?\r\n",
    "Difficulty Level: L2\r\n",
    "\r\n",
    "Q. Reverse the rows of a 2D array arr.\r\n",
    "\r\n",
    "# Input\r\n",
    "arr = np.arange(9).reshape(3,3)"
   ]
  },
  {
   "cell_type": "code",
   "execution_count": 237,
   "id": "50aa3c04-edcd-474f-95eb-213bea6988d0",
   "metadata": {},
   "outputs": [
    {
     "data": {
      "text/plain": [
       "array([[0, 1, 2],\n",
       "       [3, 4, 5],\n",
       "       [6, 7, 8]])"
      ]
     },
     "execution_count": 237,
     "metadata": {},
     "output_type": "execute_result"
    }
   ],
   "source": [
    "arr"
   ]
  },
  {
   "cell_type": "code",
   "execution_count": 249,
   "id": "3acfc379-6bb0-4974-8a6e-fc0f93b07556",
   "metadata": {},
   "outputs": [
    {
     "data": {
      "text/plain": [
       "array([[8, 7, 6],\n",
       "       [5, 4, 3],\n",
       "       [2, 1, 0]])"
      ]
     },
     "execution_count": 249,
     "metadata": {},
     "output_type": "execute_result"
    }
   ],
   "source": [
    "arr[::-1,::-1]"
   ]
  },
  {
   "cell_type": "markdown",
   "id": "40de6462-442b-4cac-9db7-f56395c4b398",
   "metadata": {},
   "source": [
    "19. How to reverse the columns of a 2D array?\r\n",
    "Difficulty Level: L2\r\n",
    "\r\n",
    "Q. Reverse the columns of a 2D array arr.\r\n",
    "\r\n",
    "# Input\r\n",
    "arr = np.arange(9).reshape(3,3)"
   ]
  },
  {
   "cell_type": "code",
   "execution_count": null,
   "id": "1873273f-c90d-4803-89ca-cf6afca780bf",
   "metadata": {},
   "outputs": [],
   "source": []
  },
  {
   "cell_type": "code",
   "execution_count": null,
   "id": "37158783-fe50-4df5-9bd5-9f292161ab7b",
   "metadata": {},
   "outputs": [],
   "source": []
  },
  {
   "cell_type": "markdown",
   "id": "f683ef50-815d-4a07-8594-0e1a60258c98",
   "metadata": {},
   "source": [
    "20. How to create a 2D array containing random floats between 5 and 10?\r\n",
    "Difficulty Level: L2\r\n",
    "\r\n",
    "Q. Create a 2D array of shape 5x3 to contain random decimal numbers between 5 and 10."
   ]
  },
  {
   "cell_type": "markdown",
   "id": "2ecb643f-9947-43ab-83e2-7449f182d920",
   "metadata": {},
   "source": [
    "np.random.randint(5,10,(5,3))+np.random.rand(15).reshape(5,3)"
   ]
  },
  {
   "cell_type": "code",
   "execution_count": 255,
   "id": "df85cf30-d914-4edb-b4e7-58c1f664974c",
   "metadata": {},
   "outputs": [
    {
     "data": {
      "text/plain": [
       "array([[8.5543193 , 9.79218233, 8.90964671],\n",
       "       [6.04802509, 5.18829537, 5.19139775],\n",
       "       [5.31082766, 8.34024726, 5.4352841 ],\n",
       "       [5.33522886, 5.52460921, 5.16812949],\n",
       "       [5.03390081, 7.46521988, 9.88848098]])"
      ]
     },
     "execution_count": 255,
     "metadata": {},
     "output_type": "execute_result"
    }
   ],
   "source": [
    "np.random.uniform(5,10,(5,3))"
   ]
  },
  {
   "cell_type": "raw",
   "id": "71a9e748-e33d-4736-abb0-8530c90c3aa1",
   "metadata": {},
   "source": [
    "21. How to print only 3 decimal places in python numpy array?\n",
    "Difficulty Level: L1\n",
    "\n",
    "Q. Print or show only 3 decimal places of the numpy array rand_arr.\n",
    "\n",
    "Input:\n",
    "\n",
    "rand_arr = np.random.random((5,3))"
   ]
  },
  {
   "cell_type": "code",
   "execution_count": 267,
   "id": "16c018cd-9d8a-46fe-b9ad-a181a80263b3",
   "metadata": {},
   "outputs": [],
   "source": [
    "r = np.random.random(10)"
   ]
  },
  {
   "cell_type": "code",
   "execution_count": 269,
   "id": "e3cfa870-1cdc-499e-af76-2cf7d342a646",
   "metadata": {},
   "outputs": [
    {
     "data": {
      "text/plain": [
       "array([0.24801897, 0.10470792, 0.4098855 , 0.2341138 , 0.45174137,\n",
       "       0.50340114, 0.90022968, 0.11186356, 0.08250902, 0.04405448])"
      ]
     },
     "execution_count": 269,
     "metadata": {},
     "output_type": "execute_result"
    }
   ],
   "source": [
    "r"
   ]
  },
  {
   "cell_type": "code",
   "execution_count": 281,
   "id": "3e77a1c2-849d-4a76-89a4-904a7c3930be",
   "metadata": {},
   "outputs": [
    {
     "data": {
      "text/plain": [
       "['0.25',\n",
       " '0.10',\n",
       " '0.41',\n",
       " '0.23',\n",
       " '0.45',\n",
       " '0.50',\n",
       " '0.90',\n",
       " '0.11',\n",
       " '0.08',\n",
       " '0.04']"
      ]
     },
     "execution_count": 281,
     "metadata": {},
     "output_type": "execute_result"
    }
   ],
   "source": [
    "lst = [\"{:.2f}\".format(val) for val in r]\n",
    "lst"
   ]
  },
  {
   "cell_type": "code",
   "execution_count": null,
   "id": "705b2e9d-c174-42f4-94f1-fe5f51c66f09",
   "metadata": {},
   "outputs": [],
   "source": []
  },
  {
   "cell_type": "markdown",
   "id": "c91c7156-550c-40ed-b630-e1a4b40999c1",
   "metadata": {},
   "source": [
    "22. How to pretty print a numpy array by suppressing the scientific notation (like 1e10)?\r\n",
    "Difficulty Level: L1\r\n",
    "\r\n",
    "Q. Pretty print rand_arr by suppressing the scientific notation (like 1e10)\r\n",
    "\r\n",
    "Input:\r\n",
    "\r\n",
    "# Create the random array\r\n",
    "np.random.seed(100)\r\n",
    "rand_arr = np.random.random([3,3])/1e3\r\n",
    "rand_arr\r\n",
    "\r\n",
    "#> array([[  5.434049e-04,   2.783694e-04,   4.245176e-04],\r\n",
    "#>        [  8.447761e-04,   4.718856e-06,   1.215691e-04],\r\n",
    "#>        [  6.707491e-04,   8.258528e-04,   1.367066e-04]])\r\n",
    "Desired Output:\r\n",
    "\r\n",
    "#> array([[ 0.000543,  0.000278,  0.000425],\r\n",
    "#>        [ 0.000845,  0.000005,  0.000122],\r\n",
    "#>        [ 0.000671,  0.000826,  0.000137]])"
   ]
  },
  {
   "cell_type": "code",
   "execution_count": 3,
   "id": "650ec59c-524d-4fb4-9f6b-47d024d4395a",
   "metadata": {},
   "outputs": [],
   "source": [
    "import numpy as np"
   ]
  },
  {
   "cell_type": "code",
   "execution_count": 4,
   "id": "2cd124fb-92e0-4e1b-ac0b-9b36cacd3d46",
   "metadata": {},
   "outputs": [
    {
     "data": {
      "text/plain": [
       "array([[4.77324836e-04, 6.66005632e-04, 9.49090937e-04],\n",
       "       [4.77688937e-04, 6.78278347e-04, 4.58112733e-04],\n",
       "       [5.55340985e-04, 2.16405574e-06, 9.95903098e-04]])"
      ]
     },
     "execution_count": 4,
     "metadata": {},
     "output_type": "execute_result"
    }
   ],
   "source": [
    "arr = np.random.random([3,3])/1e3\n",
    "arr"
   ]
  },
  {
   "cell_type": "code",
   "execution_count": 17,
   "id": "27fa2faf-1cf1-4d52-a3cd-8eacf11d6d24",
   "metadata": {},
   "outputs": [
    {
     "data": {
      "text/plain": [
       "array([[7.25e-04, 9.17e-04, 5.48e-04],\n",
       "       [8.58e-04, 4.10e-05, 1.74e-04],\n",
       "       [2.97e-04, 5.79e-04, 4.98e-04]])"
      ]
     },
     "execution_count": 17,
     "metadata": {},
     "output_type": "execute_result"
    }
   ],
   "source": [
    "np.around(arr, decimals=6)"
   ]
  },
  {
   "cell_type": "code",
   "execution_count": 19,
   "id": "776233a6-a1aa-4af7-b059-1817517767cd",
   "metadata": {},
   "outputs": [
    {
     "data": {
      "text/plain": [
       "array([[7.24632295e-04, 9.16540190e-04, 5.48487791e-04],\n",
       "       [8.58450068e-04, 4.07921249e-05, 1.74402777e-04],\n",
       "       [2.97203644e-04, 5.79079552e-04, 4.97526624e-04]])"
      ]
     },
     "execution_count": 19,
     "metadata": {},
     "output_type": "execute_result"
    }
   ],
   "source": [
    "# np.set_printoptions(suppress=True, precision=8)\n",
    "arr"
   ]
  },
  {
   "cell_type": "code",
   "execution_count": null,
   "id": "bc846ab8-827b-4bfd-b44a-d93077e12c3f",
   "metadata": {},
   "outputs": [],
   "source": [
    "np.set_printoptions()"
   ]
  },
  {
   "cell_type": "markdown",
   "id": "1dbe3ec9-b533-4438-a094-b3eaed8d2866",
   "metadata": {},
   "source": [
    "25. How to import a dataset with numbers and texts keeping the text intact in python numpy?\r\n",
    "Difficulty Level: L2\r\n",
    "\r\n",
    "Q. Import the iris dataset keeping the text intact."
   ]
  },
  {
   "cell_type": "code",
   "execution_count": 39,
   "id": "d757e2a2-3c11-46f0-a649-2f4a07c6a35f",
   "metadata": {},
   "outputs": [
    {
     "data": {
      "text/html": [
       "<div>\n",
       "<style scoped>\n",
       "    .dataframe tbody tr th:only-of-type {\n",
       "        vertical-align: middle;\n",
       "    }\n",
       "\n",
       "    .dataframe tbody tr th {\n",
       "        vertical-align: top;\n",
       "    }\n",
       "\n",
       "    .dataframe thead th {\n",
       "        text-align: right;\n",
       "    }\n",
       "</style>\n",
       "<table border=\"1\" class=\"dataframe\">\n",
       "  <thead>\n",
       "    <tr style=\"text-align: right;\">\n",
       "      <th></th>\n",
       "      <th>A</th>\n",
       "      <th>B</th>\n",
       "      <th>C</th>\n",
       "      <th>D</th>\n",
       "      <th>Category</th>\n",
       "    </tr>\n",
       "  </thead>\n",
       "  <tbody>\n",
       "    <tr>\n",
       "      <th>0</th>\n",
       "      <td>5.1</td>\n",
       "      <td>3.5</td>\n",
       "      <td>1.4</td>\n",
       "      <td>0.2</td>\n",
       "      <td>NaN</td>\n",
       "    </tr>\n",
       "    <tr>\n",
       "      <th>1</th>\n",
       "      <td>4.9</td>\n",
       "      <td>3.0</td>\n",
       "      <td>1.4</td>\n",
       "      <td>0.2</td>\n",
       "      <td>NaN</td>\n",
       "    </tr>\n",
       "    <tr>\n",
       "      <th>2</th>\n",
       "      <td>4.7</td>\n",
       "      <td>3.2</td>\n",
       "      <td>1.3</td>\n",
       "      <td>0.2</td>\n",
       "      <td>NaN</td>\n",
       "    </tr>\n",
       "    <tr>\n",
       "      <th>3</th>\n",
       "      <td>4.6</td>\n",
       "      <td>3.1</td>\n",
       "      <td>1.5</td>\n",
       "      <td>0.2</td>\n",
       "      <td>NaN</td>\n",
       "    </tr>\n",
       "    <tr>\n",
       "      <th>4</th>\n",
       "      <td>5.0</td>\n",
       "      <td>3.6</td>\n",
       "      <td>1.4</td>\n",
       "      <td>0.2</td>\n",
       "      <td>NaN</td>\n",
       "    </tr>\n",
       "    <tr>\n",
       "      <th>...</th>\n",
       "      <td>...</td>\n",
       "      <td>...</td>\n",
       "      <td>...</td>\n",
       "      <td>...</td>\n",
       "      <td>...</td>\n",
       "    </tr>\n",
       "    <tr>\n",
       "      <th>145</th>\n",
       "      <td>6.7</td>\n",
       "      <td>3.0</td>\n",
       "      <td>5.2</td>\n",
       "      <td>2.3</td>\n",
       "      <td>NaN</td>\n",
       "    </tr>\n",
       "    <tr>\n",
       "      <th>146</th>\n",
       "      <td>6.3</td>\n",
       "      <td>2.5</td>\n",
       "      <td>5.0</td>\n",
       "      <td>1.9</td>\n",
       "      <td>NaN</td>\n",
       "    </tr>\n",
       "    <tr>\n",
       "      <th>147</th>\n",
       "      <td>6.5</td>\n",
       "      <td>3.0</td>\n",
       "      <td>5.2</td>\n",
       "      <td>2.0</td>\n",
       "      <td>NaN</td>\n",
       "    </tr>\n",
       "    <tr>\n",
       "      <th>148</th>\n",
       "      <td>6.2</td>\n",
       "      <td>3.4</td>\n",
       "      <td>5.4</td>\n",
       "      <td>2.3</td>\n",
       "      <td>NaN</td>\n",
       "    </tr>\n",
       "    <tr>\n",
       "      <th>149</th>\n",
       "      <td>5.9</td>\n",
       "      <td>3.0</td>\n",
       "      <td>5.1</td>\n",
       "      <td>1.8</td>\n",
       "      <td>NaN</td>\n",
       "    </tr>\n",
       "  </tbody>\n",
       "</table>\n",
       "<p>150 rows × 5 columns</p>\n",
       "</div>"
      ],
      "text/plain": [
       "       A    B    C    D  Category\n",
       "0    5.1  3.5  1.4  0.2       NaN\n",
       "1    4.9  3.0  1.4  0.2       NaN\n",
       "2    4.7  3.2  1.3  0.2       NaN\n",
       "3    4.6  3.1  1.5  0.2       NaN\n",
       "4    5.0  3.6  1.4  0.2       NaN\n",
       "..   ...  ...  ...  ...       ...\n",
       "145  6.7  3.0  5.2  2.3       NaN\n",
       "146  6.3  2.5  5.0  1.9       NaN\n",
       "147  6.5  3.0  5.2  2.0       NaN\n",
       "148  6.2  3.4  5.4  2.3       NaN\n",
       "149  5.9  3.0  5.1  1.8       NaN\n",
       "\n",
       "[150 rows x 5 columns]"
      ]
     },
     "execution_count": 39,
     "metadata": {},
     "output_type": "execute_result"
    }
   ],
   "source": [
    "url = \"https://archive.ics.uci.edu/ml/machine-learning-databases/iris/iris.data\"\n",
    "s = ['A','B','C','D','Category ']\n",
    "arr = np.genfromtxt(url,delimiter=',', names=s)\n",
    "\n",
    "df = pd.DataFrame(arr)\n",
    "df"
   ]
  },
  {
   "cell_type": "code",
   "execution_count": 19,
   "id": "28d89ab2-b5e7-477c-a30b-e5dcdbf71306",
   "metadata": {},
   "outputs": [],
   "source": [
    "import pandas as pd"
   ]
  },
  {
   "cell_type": "code",
   "execution_count": 31,
   "id": "a2e8be99-9f7b-4b79-8bf1-f3a9bca85ca6",
   "metadata": {},
   "outputs": [
    {
     "data": {
      "text/html": [
       "<div>\n",
       "<style scoped>\n",
       "    .dataframe tbody tr th:only-of-type {\n",
       "        vertical-align: middle;\n",
       "    }\n",
       "\n",
       "    .dataframe tbody tr th {\n",
       "        vertical-align: top;\n",
       "    }\n",
       "\n",
       "    .dataframe thead th {\n",
       "        text-align: right;\n",
       "    }\n",
       "</style>\n",
       "<table border=\"1\" class=\"dataframe\">\n",
       "  <thead>\n",
       "    <tr style=\"text-align: right;\">\n",
       "      <th></th>\n",
       "      <th>A</th>\n",
       "      <th>B</th>\n",
       "      <th>C</th>\n",
       "      <th>D</th>\n",
       "      <th>Category</th>\n",
       "    </tr>\n",
       "  </thead>\n",
       "  <tbody>\n",
       "    <tr>\n",
       "      <th>0</th>\n",
       "      <td>5.1</td>\n",
       "      <td>3.5</td>\n",
       "      <td>1.4</td>\n",
       "      <td>0.2</td>\n",
       "      <td>Iris-setosa</td>\n",
       "    </tr>\n",
       "    <tr>\n",
       "      <th>1</th>\n",
       "      <td>4.9</td>\n",
       "      <td>3.0</td>\n",
       "      <td>1.4</td>\n",
       "      <td>0.2</td>\n",
       "      <td>Iris-setosa</td>\n",
       "    </tr>\n",
       "    <tr>\n",
       "      <th>2</th>\n",
       "      <td>4.7</td>\n",
       "      <td>3.2</td>\n",
       "      <td>1.3</td>\n",
       "      <td>0.2</td>\n",
       "      <td>Iris-setosa</td>\n",
       "    </tr>\n",
       "    <tr>\n",
       "      <th>3</th>\n",
       "      <td>4.6</td>\n",
       "      <td>3.1</td>\n",
       "      <td>1.5</td>\n",
       "      <td>0.2</td>\n",
       "      <td>Iris-setosa</td>\n",
       "    </tr>\n",
       "    <tr>\n",
       "      <th>4</th>\n",
       "      <td>5.0</td>\n",
       "      <td>3.6</td>\n",
       "      <td>1.4</td>\n",
       "      <td>0.2</td>\n",
       "      <td>Iris-setosa</td>\n",
       "    </tr>\n",
       "    <tr>\n",
       "      <th>...</th>\n",
       "      <td>...</td>\n",
       "      <td>...</td>\n",
       "      <td>...</td>\n",
       "      <td>...</td>\n",
       "      <td>...</td>\n",
       "    </tr>\n",
       "    <tr>\n",
       "      <th>145</th>\n",
       "      <td>6.7</td>\n",
       "      <td>3.0</td>\n",
       "      <td>5.2</td>\n",
       "      <td>2.3</td>\n",
       "      <td>Iris-virginica</td>\n",
       "    </tr>\n",
       "    <tr>\n",
       "      <th>146</th>\n",
       "      <td>6.3</td>\n",
       "      <td>2.5</td>\n",
       "      <td>5.0</td>\n",
       "      <td>1.9</td>\n",
       "      <td>Iris-virginica</td>\n",
       "    </tr>\n",
       "    <tr>\n",
       "      <th>147</th>\n",
       "      <td>6.5</td>\n",
       "      <td>3.0</td>\n",
       "      <td>5.2</td>\n",
       "      <td>2.0</td>\n",
       "      <td>Iris-virginica</td>\n",
       "    </tr>\n",
       "    <tr>\n",
       "      <th>148</th>\n",
       "      <td>6.2</td>\n",
       "      <td>3.4</td>\n",
       "      <td>5.4</td>\n",
       "      <td>2.3</td>\n",
       "      <td>Iris-virginica</td>\n",
       "    </tr>\n",
       "    <tr>\n",
       "      <th>149</th>\n",
       "      <td>5.9</td>\n",
       "      <td>3.0</td>\n",
       "      <td>5.1</td>\n",
       "      <td>1.8</td>\n",
       "      <td>Iris-virginica</td>\n",
       "    </tr>\n",
       "  </tbody>\n",
       "</table>\n",
       "<p>150 rows × 5 columns</p>\n",
       "</div>"
      ],
      "text/plain": [
       "       A    B    C    D       Category \n",
       "0    5.1  3.5  1.4  0.2     Iris-setosa\n",
       "1    4.9  3.0  1.4  0.2     Iris-setosa\n",
       "2    4.7  3.2  1.3  0.2     Iris-setosa\n",
       "3    4.6  3.1  1.5  0.2     Iris-setosa\n",
       "4    5.0  3.6  1.4  0.2     Iris-setosa\n",
       "..   ...  ...  ...  ...             ...\n",
       "145  6.7  3.0  5.2  2.3  Iris-virginica\n",
       "146  6.3  2.5  5.0  1.9  Iris-virginica\n",
       "147  6.5  3.0  5.2  2.0  Iris-virginica\n",
       "148  6.2  3.4  5.4  2.3  Iris-virginica\n",
       "149  5.9  3.0  5.1  1.8  Iris-virginica\n",
       "\n",
       "[150 rows x 5 columns]"
      ]
     },
     "execution_count": 31,
     "metadata": {},
     "output_type": "execute_result"
    }
   ],
   "source": [
    "s = ['A','B','C','D','Category ']\n",
    "pd.read_csv(url,sep=',', names=s)"
   ]
  },
  {
   "cell_type": "code",
   "execution_count": 43,
   "id": "96846be0-f73f-43d6-9f17-7bfefef008c8",
   "metadata": {},
   "outputs": [],
   "source": [
    "arr1 = np.genfromtxt(url,delimiter=',')"
   ]
  },
  {
   "cell_type": "code",
   "execution_count": 69,
   "id": "78b56c4d-f49d-47dd-bf4e-bd12336d7241",
   "metadata": {},
   "outputs": [
    {
     "data": {
      "text/plain": [
       "array([3.5, 3. , 3.2, 3.1, 3.6, 3.9, 3.4, 3.4, 2.9, 3.1, 3.7, 3.4, 3. ,\n",
       "       3. , 4. , 4.4, 3.9, 3.5, 3.8, 3.8, 3.4, 3.7, 3.6, 3.3, 3.4, 3. ,\n",
       "       3.4, 3.5, 3.4, 3.2, 3.1, 3.4, 4.1, 4.2, 3.1, 3.2, 3.5, 3.1, 3. ,\n",
       "       3.4, 3.5, 2.3, 3.2, 3.5, 3.8, 3. , 3.8, 3.2, 3.7, 3.3, 3.2, 3.2,\n",
       "       3.1, 2.3, 2.8, 2.8, 3.3, 2.4, 2.9, 2.7, 2. , 3. , 2.2, 2.9, 2.9,\n",
       "       3.1, 3. , 2.7, 2.2, 2.5, 3.2, 2.8, 2.5, 2.8, 2.9, 3. , 2.8, 3. ,\n",
       "       2.9, 2.6, 2.4, 2.4, 2.7, 2.7, 3. , 3.4, 3.1, 2.3, 3. , 2.5, 2.6,\n",
       "       3. , 2.6, 2.3, 2.7, 3. , 2.9, 2.9, 2.5, 2.8, 3.3, 2.7, 3. , 2.9,\n",
       "       3. , 3. , 2.5, 2.9, 2.5, 3.6, 3.2, 2.7, 3. , 2.5, 2.8, 3.2, 3. ,\n",
       "       3.8, 2.6, 2.2, 3.2, 2.8, 2.8, 2.7, 3.3, 3.2, 2.8, 3. , 2.8, 3. ,\n",
       "       2.8, 3.8, 2.8, 2.8, 2.6, 3. , 3.4, 3.1, 3. , 3.1, 3.1, 3.1, 2.7,\n",
       "       3.2, 3.3, 3. , 2.5, 3. , 3.4, 3. ])"
      ]
     },
     "execution_count": 69,
     "metadata": {},
     "output_type": "execute_result"
    }
   ],
   "source": [
    "a = arr1[:,1]\n",
    "a"
   ]
  },
  {
   "cell_type": "code",
   "execution_count": 77,
   "id": "dc096c66-e287-410a-bba3-fbe48353f952",
   "metadata": {},
   "outputs": [
    {
     "data": {
      "text/plain": [
       "array([2.8, 3.3])"
      ]
     },
     "execution_count": 77,
     "metadata": {},
     "output_type": "execute_result"
    }
   ],
   "source": [
    "np.quantile(a,[.25,.75])\n"
   ]
  },
  {
   "cell_type": "code",
   "execution_count": 75,
   "id": "8e942377-e321-4b4c-8f6e-8dea0af66c77",
   "metadata": {},
   "outputs": [
    {
     "data": {
      "text/plain": [
       "2.8"
      ]
     },
     "execution_count": 75,
     "metadata": {},
     "output_type": "execute_result"
    }
   ],
   "source": [
    "np.percentile(a,25)"
   ]
  },
  {
   "cell_type": "code",
   "execution_count": 79,
   "id": "08948264-88c5-490c-a3e6-3712aacc69e2",
   "metadata": {},
   "outputs": [],
   "source": [
    "arr = np.array([10, 20, 30, 40, 50])\n",
    "values = [99, 88]"
   ]
  },
  {
   "cell_type": "code",
   "execution_count": 83,
   "id": "c2e406c1-e24e-4eb1-900e-a67109951833",
   "metadata": {},
   "outputs": [
    {
     "data": {
      "text/plain": [
       "array([1, 3])"
      ]
     },
     "execution_count": 83,
     "metadata": {},
     "output_type": "execute_result"
    }
   ],
   "source": [
    "position=np.random.choice(len(arr),len(values))\n",
    "position"
   ]
  },
  {
   "cell_type": "code",
   "execution_count": 87,
   "id": "a813d928-65a7-4d11-9e92-7fd5a5a33a77",
   "metadata": {},
   "outputs": [
    {
     "data": {
      "text/plain": [
       "array([10, 99, 20, 30, 88, 40, 50])"
      ]
     },
     "execution_count": 87,
     "metadata": {},
     "output_type": "execute_result"
    }
   ],
   "source": [
    "np.insert(arr,position,values)"
   ]
  },
  {
   "cell_type": "code",
   "execution_count": null,
   "id": "52e64e14-0b5c-4ee8-b996-8d15d19a4c8c",
   "metadata": {},
   "outputs": [],
   "source": []
  },
  {
   "cell_type": "markdown",
   "id": "f35a1779-9bcf-4e62-bda6-f19353bb39c1",
   "metadata": {},
   "source": [
    "35. How to drop rows that contain a missing value from a numpy array?"
   ]
  },
  {
   "cell_type": "code",
   "execution_count": 4,
   "id": "3a44e364-cdc4-45b2-a2ef-b732cdb50b62",
   "metadata": {},
   "outputs": [],
   "source": [
    "arr = np.array([[1, 2, 3],\n",
    "                [4, np.nan, 6],\n",
    "                [7, 8, 9],\n",
    "                [np.nan, 11, 12]])"
   ]
  },
  {
   "cell_type": "code",
   "execution_count": 17,
   "id": "6a319396-ad46-4b49-967d-e2717a72df57",
   "metadata": {},
   "outputs": [
    {
     "data": {
      "text/plain": [
       "array([[1., 2., 3.],\n",
       "       [7., 8., 9.]])"
      ]
     },
     "execution_count": 17,
     "metadata": {},
     "output_type": "execute_result"
    }
   ],
   "source": [
    "arr[~np.isnan(arr).any(axis=1)]"
   ]
  },
  {
   "cell_type": "code",
   "execution_count": null,
   "id": "d696110e-c0e1-4d19-9749-5a249eb627dd",
   "metadata": {},
   "outputs": [],
   "source": []
  },
  {
   "cell_type": "code",
   "execution_count": 39,
   "id": "c8edc85e-abc2-47ef-bc82-8554f54b41c9",
   "metadata": {},
   "outputs": [],
   "source": [
    "arr = np.array([[1, 2],\n",
    "                [2, 4],\n",
    "                [3, 9],\n",
    "                [4, 8]])"
   ]
  },
  {
   "cell_type": "code",
   "execution_count": 41,
   "id": "ffa19ec4-7981-4170-89a5-7a35200d39bf",
   "metadata": {},
   "outputs": [
    {
     "data": {
      "text/plain": [
       "array([[1.        , 0.89868436],\n",
       "       [0.89868436, 1.        ]])"
      ]
     },
     "execution_count": 41,
     "metadata": {},
     "output_type": "execute_result"
    }
   ],
   "source": [
    "np.corrcoef(arr[:,0],arr[:,1])"
   ]
  },
  {
   "cell_type": "code",
   "execution_count": 49,
   "id": "343dfe1a-bde3-4fb4-9e76-1ca39f29938d",
   "metadata": {},
   "outputs": [
    {
     "data": {
      "text/plain": [
       "array([[ 1.66666667,  3.83333333],\n",
       "       [ 3.83333333, 10.91666667]])"
      ]
     },
     "execution_count": 49,
     "metadata": {},
     "output_type": "execute_result"
    }
   ],
   "source": [
    "co = np.cov(arr[:,0],arr[:,1])\n",
    "co"
   ]
  },
  {
   "cell_type": "code",
   "execution_count": 51,
   "id": "1f326cd8-204e-4dd9-8d41-dc9d5c21faf2",
   "metadata": {},
   "outputs": [
    {
     "data": {
      "text/plain": [
       "3.199120973017432"
      ]
     },
     "execution_count": 51,
     "metadata": {},
     "output_type": "execute_result"
    }
   ],
   "source": [
    "n = (np.std(arr[:,0])*np.std(arr[:,1]))\n",
    "n"
   ]
  },
  {
   "cell_type": "code",
   "execution_count": 47,
   "id": "8e34be2e-4470-45b1-bc9b-5bdceb6379ff",
   "metadata": {},
   "outputs": [
    {
     "data": {
      "text/plain": [
       "array([[0.52097644, 1.19824582],\n",
       "       [1.19824582, 3.4123957 ]])"
      ]
     },
     "execution_count": 47,
     "metadata": {},
     "output_type": "execute_result"
    }
   ],
   "source": [
    "co/n"
   ]
  },
  {
   "cell_type": "code",
   "execution_count": 53,
   "id": "0d0e454b-1c25-456e-b64e-554e6a0736e7",
   "metadata": {},
   "outputs": [],
   "source": [
    "x = arr[:, 0]\n",
    "y = arr[:, 1]\n",
    "\n",
    "# Calculate covariance matrix (2x2)\n",
    "cov_matrix = np.cov(x, y, bias=False)\n",
    "cov_xy = cov_matrix[0, 1]\n",
    "\n",
    "# Calculate standard deviations\n",
    "std_x = np.std(x, ddof=1)  # ddof=1 for sample std\n",
    "std_y = np.std(y, ddof=1)\n",
    "\n",
    "# Calculate correlation\n",
    "corr = cov_xy / (std_x * std_y)"
   ]
  },
  {
   "cell_type": "code",
   "execution_count": 55,
   "id": "349099e8-e10c-4de8-9641-a0760ae4cb76",
   "metadata": {},
   "outputs": [
    {
     "data": {
      "text/plain": [
       "0.8986843649392479"
      ]
     },
     "execution_count": 55,
     "metadata": {},
     "output_type": "execute_result"
    }
   ],
   "source": [
    "corr"
   ]
  },
  {
   "cell_type": "code",
   "execution_count": 63,
   "id": "359b2dd2-4110-430e-ba72-a6ecd7288e74",
   "metadata": {},
   "outputs": [
    {
     "name": "stdout",
     "output_type": "stream",
     "text": [
      "Correlation coefficient: [[ 1.         -0.74033235]\n",
      " [-0.74033235  1.        ]]\n"
     ]
    }
   ],
   "source": [
    "import numpy as np\n",
    "\n",
    "# Sample 2D NumPy array\n",
    "data = np.array([\n",
    "    [10, 200],\n",
    "    [15, 24],\n",
    "    [20, 28],\n",
    "    [25, 35]\n",
    "])\n",
    "\n",
    "# Extract the two columns\n",
    "col1 = data[:, 0]\n",
    "col2 = data[:, 1]\n",
    "\n",
    "# Compute correlation\n",
    "correlation_matrix = np.corrcoef(col1, col2)\n",
    "\n",
    "# Print correlation coefficient\n",
    "print(\"Correlation coefficient:\", correlation_matrix)\n"
   ]
  },
  {
   "cell_type": "code",
   "execution_count": 65,
   "id": "cd0e940c-7974-4198-92ea-e68c772f684f",
   "metadata": {},
   "outputs": [],
   "source": [
    "arr = np.array([1, 2, 2, 3, 3, 3, 4, 4, 4, 4])"
   ]
  },
  {
   "cell_type": "code",
   "execution_count": 71,
   "id": "703db2ef-fd2f-4a3a-9cb7-5fddc373bb4d",
   "metadata": {},
   "outputs": [],
   "source": [
    "unq,count = np.unique(arr,return_counts=True  )"
   ]
  },
  {
   "cell_type": "code",
   "execution_count": 75,
   "id": "08461799-0762-41c6-b01c-f50f07997b30",
   "metadata": {},
   "outputs": [
    {
     "data": {
      "text/plain": [
       "array([1, 2, 3, 4])"
      ]
     },
     "execution_count": 75,
     "metadata": {},
     "output_type": "execute_result"
    }
   ],
   "source": [
    "unq"
   ]
  },
  {
   "cell_type": "code",
   "execution_count": 73,
   "id": "79c1a808-37f9-465b-8a90-1cfc16cc06c2",
   "metadata": {},
   "outputs": [
    {
     "data": {
      "text/plain": [
       "array([1, 2, 3, 4], dtype=int64)"
      ]
     },
     "execution_count": 73,
     "metadata": {},
     "output_type": "execute_result"
    }
   ],
   "source": [
    "count"
   ]
  },
  {
   "cell_type": "code",
   "execution_count": 77,
   "id": "0c106596-07c6-4b66-a3b9-66f65a6e6e34",
   "metadata": {},
   "outputs": [],
   "source": [
    "arr = np.array([[1, 2],\n",
    "                [3, 4],\n",
    "                [5, 6],\n",
    "                [7, 8]])"
   ]
  },
  {
   "cell_type": "code",
   "execution_count": 87,
   "id": "7f9f145a-b252-420b-9ee9-01685f2d2a6f",
   "metadata": {},
   "outputs": [],
   "source": [
    "co = np.cov(arr[:,0],arr[:,1])\n",
    "co = co[0,1]"
   ]
  },
  {
   "cell_type": "code",
   "execution_count": 95,
   "id": "db344ee9-6ac8-45ed-8102-86e316cdb213",
   "metadata": {},
   "outputs": [
    {
     "data": {
      "text/plain": [
       "2.23606797749979"
      ]
     },
     "execution_count": 95,
     "metadata": {},
     "output_type": "execute_result"
    }
   ],
   "source": [
    "s = np.std(arr[:,0])\n",
    "s1 = np.std(arr[:,1])\n",
    "s1"
   ]
  },
  {
   "cell_type": "code",
   "execution_count": 97,
   "id": "33e70a9a-a991-4edb-a0e5-f8944eaf4001",
   "metadata": {},
   "outputs": [
    {
     "data": {
      "text/plain": [
       "5.000000000000001"
      ]
     },
     "execution_count": 97,
     "metadata": {},
     "output_type": "execute_result"
    }
   ],
   "source": [
    "(s*s1)"
   ]
  },
  {
   "cell_type": "code",
   "execution_count": 99,
   "id": "e6cc634a-ecd4-4b1c-a8c4-05e944518b3e",
   "metadata": {},
   "outputs": [
    {
     "data": {
      "text/plain": [
       "6.666666666666666"
      ]
     },
     "execution_count": 99,
     "metadata": {},
     "output_type": "execute_result"
    }
   ],
   "source": [
    "co"
   ]
  },
  {
   "cell_type": "code",
   "execution_count": null,
   "id": "430773e6-2aaf-41ab-9f13-6af479675573",
   "metadata": {},
   "outputs": [],
   "source": []
  },
  {
   "cell_type": "code",
   "execution_count": null,
   "id": "887cae40-d524-4739-b141-1b8726f49a90",
   "metadata": {},
   "outputs": [],
   "source": [
    "\n"
   ]
  }
 ],
 "metadata": {
  "kernelspec": {
   "display_name": "Python 3 (ipykernel)",
   "language": "python",
   "name": "python3"
  },
  "language_info": {
   "codemirror_mode": {
    "name": "ipython",
    "version": 3
   },
   "file_extension": ".py",
   "mimetype": "text/x-python",
   "name": "python",
   "nbconvert_exporter": "python",
   "pygments_lexer": "ipython3",
   "version": "3.12.4"
  }
 },
 "nbformat": 4,
 "nbformat_minor": 5
}
