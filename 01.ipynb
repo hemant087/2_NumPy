{
 "cells": [
  {
   "cell_type": "code",
   "execution_count": 2,
   "id": "b36599f3-1fc4-4b37-9f1e-5f7e2cf91edd",
   "metadata": {},
   "outputs": [],
   "source": [
    "import numpy as np"
   ]
  },
  {
   "cell_type": "code",
   "execution_count": 8,
   "id": "dbe8b45c-a53c-4a4c-bbfe-7551cdbaa5e0",
   "metadata": {},
   "outputs": [
    {
     "data": {
      "text/plain": [
       "array([[1, 2],\n",
       "       [3, 4],\n",
       "       [5, 6]])"
      ]
     },
     "execution_count": 8,
     "metadata": {},
     "output_type": "execute_result"
    }
   ],
   "source": [
    "temp = np.array([[1,2,3],[4,5,6]])\n",
    "temp\n",
    "temp.reshape(3,2)"
   ]
  },
  {
   "cell_type": "code",
   "execution_count": 12,
   "id": "31e588cd-65ca-4d1d-b906-b47bdb49ba0b",
   "metadata": {},
   "outputs": [
    {
     "data": {
      "text/plain": [
       "(2, 3)"
      ]
     },
     "execution_count": 12,
     "metadata": {},
     "output_type": "execute_result"
    }
   ],
   "source": [
    "temp.shape"
   ]
  },
  {
   "cell_type": "code",
   "execution_count": 14,
   "id": "37bd5690-d053-482c-8de4-834243ccf558",
   "metadata": {},
   "outputs": [
    {
     "data": {
      "text/plain": [
       "6"
      ]
     },
     "execution_count": 14,
     "metadata": {},
     "output_type": "execute_result"
    }
   ],
   "source": [
    "temp.size"
   ]
  },
  {
   "cell_type": "code",
   "execution_count": 16,
   "id": "5aeb7054-2dec-45bf-91b4-757e4487da3d",
   "metadata": {},
   "outputs": [
    {
     "data": {
      "text/plain": [
       "2"
      ]
     },
     "execution_count": 16,
     "metadata": {},
     "output_type": "execute_result"
    }
   ],
   "source": [
    "temp.ndim"
   ]
  },
  {
   "cell_type": "code",
   "execution_count": 42,
   "id": "8370cc19-37df-4325-a4f6-66305f87cee9",
   "metadata": {},
   "outputs": [
    {
     "data": {
      "text/plain": [
       "5"
      ]
     },
     "execution_count": 42,
     "metadata": {},
     "output_type": "execute_result"
    }
   ],
   "source": [
    "t = [[1,2,3],[4,5,6]]\n",
    "temp[1,1]\n",
    "\n"
   ]
  },
  {
   "cell_type": "code",
   "execution_count": 58,
   "id": "fd27773f-65db-4f09-9efd-38390d5443b0",
   "metadata": {},
   "outputs": [
    {
     "ename": "TypeError",
     "evalue": "data type '% 0.1f%%' not understood",
     "output_type": "error",
     "traceback": [
      "\u001b[1;31m---------------------------------------------------------------------------\u001b[0m",
      "\u001b[1;31mTypeError\u001b[0m                                 Traceback (most recent call last)",
      "Cell \u001b[1;32mIn[58], line 2\u001b[0m\n\u001b[0;32m      1\u001b[0m \u001b[38;5;28;01mimport\u001b[39;00m \u001b[38;5;21;01mrandom\u001b[39;00m \n\u001b[1;32m----> 2\u001b[0m arr \u001b[38;5;241m=\u001b[39m np\u001b[38;5;241m.\u001b[39mrandom\u001b[38;5;241m.\u001b[39mrandint(\u001b[38;5;241m1\u001b[39m, \u001b[38;5;241m100\u001b[39m, (\u001b[38;5;241m10\u001b[39m,\u001b[38;5;241m5\u001b[39m), \u001b[38;5;124m\"\u001b[39m\u001b[38;5;132;01m% 0.1f\u001b[39;00m\u001b[38;5;132;01m%%\u001b[39;00m\u001b[38;5;124m\"\u001b[39m)\n\u001b[0;32m      3\u001b[0m arr\n",
      "File \u001b[1;32mnumpy\\\\random\\\\mtrand.pyx:761\u001b[0m, in \u001b[0;36mnumpy.random.mtrand.RandomState.randint\u001b[1;34m()\u001b[0m\n",
      "\u001b[1;31mTypeError\u001b[0m: data type '% 0.1f%%' not understood"
     ]
    }
   ],
   "source": [
    "import random \n",
    "arr = np.random.randint(1, 100, (10,5), \"% 0.1f%%\")\n",
    "arr"
   ]
  },
  {
   "cell_type": "code",
   "execution_count": 74,
   "id": "3da8f812-cebc-4623-9337-722a3f1468c9",
   "metadata": {},
   "outputs": [
    {
     "ename": "ValueError",
     "evalue": "operands could not be broadcast together with shapes (2,) (4,) ",
     "output_type": "error",
     "traceback": [
      "\u001b[1;31m---------------------------------------------------------------------------\u001b[0m",
      "\u001b[1;31mValueError\u001b[0m                                Traceback (most recent call last)",
      "Cell \u001b[1;32mIn[74], line 1\u001b[0m\n\u001b[1;32m----> 1\u001b[0m ans \u001b[38;5;241m=\u001b[39m np\u001b[38;5;241m.\u001b[39marray([\u001b[38;5;241m4\u001b[39m,\u001b[38;5;241m10\u001b[39m])\u001b[38;5;241m+\u001b[39mnp\u001b[38;5;241m.\u001b[39marray([\u001b[38;5;241m1\u001b[39m,\u001b[38;5;241m2\u001b[39m,\u001b[38;5;241m3\u001b[39m,\u001b[38;5;241m4\u001b[39m])\n\u001b[0;32m      2\u001b[0m ans2 \u001b[38;5;241m=\u001b[39m [\u001b[38;5;241m1\u001b[39m,\u001b[38;5;241m2\u001b[39m]\u001b[38;5;241m+\u001b[39m[\u001b[38;5;241m2\u001b[39m,\u001b[38;5;241m3\u001b[39m,\u001b[38;5;241m4\u001b[39m]\n\u001b[0;32m      3\u001b[0m ans\n",
      "\u001b[1;31mValueError\u001b[0m: operands could not be broadcast together with shapes (2,) (4,) "
     ]
    }
   ],
   "source": [
    "ans = np.array([4,10])+np.array([1,2,3,4])\n",
    "ans2 = [1,2]+[2,3,4]\n",
    "ans"
   ]
  },
  {
   "cell_type": "code",
   "execution_count": 66,
   "id": "cbeb1e16-4321-43ef-b182-7c45c4cd54b4",
   "metadata": {},
   "outputs": [
    {
     "data": {
      "text/plain": [
       "[1, 2, 3, 4]"
      ]
     },
     "execution_count": 66,
     "metadata": {},
     "output_type": "execute_result"
    }
   ],
   "source": [
    "ans2"
   ]
  },
  {
   "cell_type": "code",
   "execution_count": 70,
   "id": "211d7d33-256d-446e-9609-c3c76000e960",
   "metadata": {},
   "outputs": [],
   "source": [
    "ans2.append(10)"
   ]
  },
  {
   "cell_type": "code",
   "execution_count": null,
   "id": "f9909362-e284-4a40-906c-cbca6f2241f6",
   "metadata": {},
   "outputs": [],
   "source": []
  },
  {
   "cell_type": "code",
   "execution_count": 77,
   "id": "535b05d1-9503-4168-aeff-3d3a0d3e2fba",
   "metadata": {},
   "outputs": [
    {
     "name": "stdout",
     "output_type": "stream",
     "text": [
      "[[-1. -1. -1.]\n",
      " [ 1.  1.  1.]]\n"
     ]
    }
   ],
   "source": [
    "arr = np.array([[1, 2, 3], [4, 5, 6]])\n",
    "\n",
    "mean = np.mean(arr, axis=0) \n",
    "std = np.std(arr, axis = 0) \n",
    "\n",
    "normalization = (arr-mean)/std \n",
    "print(normalization)"
   ]
  },
  {
   "cell_type": "code",
   "execution_count": 79,
   "id": "d2847dc1-7ced-476c-baa8-a948c8219ba3",
   "metadata": {},
   "outputs": [
    {
     "name": "stdout",
     "output_type": "stream",
     "text": [
      "[[-1. -1. -1.]\n",
      " [ 1.  1.  1.]]\n"
     ]
    }
   ],
   "source": [
    "arr = np.array([[1, 2, 3], [4, 5, 6]])\n",
    "mean = np.mean(arr, axis=0)  # Mean of each column\n",
    "std = np.std(arr, axis=0)    # Standard deviation of each column\n",
    "\n",
    "normalized = (arr - mean) / std\n",
    "print(normalized)"
   ]
  },
  {
   "cell_type": "code",
   "execution_count": 89,
   "id": "204d8d87-19aa-40d9-ae21-7c901b09f521",
   "metadata": {},
   "outputs": [
    {
     "ename": "TypeError",
     "evalue": "'numpy.ndarray' object is not callable",
     "output_type": "error",
     "traceback": [
      "\u001b[1;31m---------------------------------------------------------------------------\u001b[0m",
      "\u001b[1;31mTypeError\u001b[0m                                 Traceback (most recent call last)",
      "Cell \u001b[1;32mIn[89], line 5\u001b[0m\n\u001b[0;32m      1\u001b[0m vec1 \u001b[38;5;241m=\u001b[39m np\u001b[38;5;241m.\u001b[39marray([\u001b[38;5;241m1\u001b[39m, \u001b[38;5;241m2\u001b[39m, \u001b[38;5;241m3\u001b[39m])\n\u001b[0;32m      2\u001b[0m vec2 \u001b[38;5;241m=\u001b[39m np\u001b[38;5;241m.\u001b[39marray([\u001b[38;5;241m4\u001b[39m, \u001b[38;5;241m5\u001b[39m])\n\u001b[1;32m----> 5\u001b[0m vec \u001b[38;5;241m=\u001b[39m vec1(np\u001b[38;5;241m.\u001b[39mnewaxis)\u001b[38;5;241m*\u001b[39mvec2\n\u001b[0;32m      6\u001b[0m vec\n",
      "\u001b[1;31mTypeError\u001b[0m: 'numpy.ndarray' object is not callable"
     ]
    }
   ],
   "source": [
    "vec1 = np.array([1, 2, 3])\n",
    "vec2 = np.array([4, 5])\n",
    "\n",
    "\n",
    "vec = vec1(np.newaxis)*vec2\n",
    "vec"
   ]
  },
  {
   "cell_type": "code",
   "execution_count": 2,
   "id": "5fcfa283-f527-464e-8510-1df7b2b7eb0b",
   "metadata": {},
   "outputs": [],
   "source": [
    "import numpy as np"
   ]
  },
  {
   "cell_type": "code",
   "execution_count": 6,
   "id": "253a7dae-a4fb-4cc8-a132-68ee3d5d71c5",
   "metadata": {},
   "outputs": [],
   "source": [
    "arr = np.array([7.5, 6. , 2.2, 3.2, 9.3, 4. , 9.1, 9.3, 3.8, 3.7])"
   ]
  },
  {
   "cell_type": "code",
   "execution_count": 8,
   "id": "1754153f-d64d-466f-809e-8552f68363aa",
   "metadata": {},
   "outputs": [
    {
     "data": {
      "text/plain": [
       "array([7.5, 6. , 2.2, 3.2, 9.3, 4. , 9.1, 9.3, 3.8, 3.7])"
      ]
     },
     "execution_count": 8,
     "metadata": {},
     "output_type": "execute_result"
    }
   ],
   "source": [
    "arr"
   ]
  },
  {
   "cell_type": "code",
   "execution_count": 36,
   "id": "d0e21a47-ecef-400d-88fb-032547fa79db",
   "metadata": {},
   "outputs": [],
   "source": [
    "value = [22,44]"
   ]
  },
  {
   "cell_type": "code",
   "execution_count": 44,
   "id": "a0272b10-8bf2-4400-a0d7-df9915815587",
   "metadata": {},
   "outputs": [],
   "source": [
    "# position = np.random.choice(len(arr),len(value))\n",
    "position = [2,2]"
   ]
  },
  {
   "cell_type": "code",
   "execution_count": 46,
   "id": "80863ae6-054e-4480-a8b2-d67f52df6c6a",
   "metadata": {},
   "outputs": [],
   "source": [
    "arr1 = np.insert(arr,position,value)"
   ]
  },
  {
   "cell_type": "code",
   "execution_count": 48,
   "id": "3f9e85b2-9a89-4ae1-a6fd-a2325ff41527",
   "metadata": {},
   "outputs": [
    {
     "data": {
      "text/plain": [
       "array([ 7.5,  6. , 22. , 44. ,  2.2,  3.2,  9.3,  4. ,  9.1,  9.3,  3.8,\n",
       "        3.7])"
      ]
     },
     "execution_count": 48,
     "metadata": {},
     "output_type": "execute_result"
    }
   ],
   "source": [
    "arr1"
   ]
  },
  {
   "cell_type": "code",
   "execution_count": null,
   "id": "7126c930-4cb2-4bf2-8048-951ef77a1ec7",
   "metadata": {},
   "outputs": [],
   "source": []
  }
 ],
 "metadata": {
  "kernelspec": {
   "display_name": "Python 3 (ipykernel)",
   "language": "python",
   "name": "python3"
  },
  "language_info": {
   "codemirror_mode": {
    "name": "ipython",
    "version": 3
   },
   "file_extension": ".py",
   "mimetype": "text/x-python",
   "name": "python",
   "nbconvert_exporter": "python",
   "pygments_lexer": "ipython3",
   "version": "3.12.4"
  }
 },
 "nbformat": 4,
 "nbformat_minor": 5
}
