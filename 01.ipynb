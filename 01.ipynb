{
 "cells": [
  {
   "cell_type": "code",
   "execution_count": 2,
   "id": "b36599f3-1fc4-4b37-9f1e-5f7e2cf91edd",
   "metadata": {},
   "outputs": [],
   "source": [
    "import numpy as np"
   ]
  },
  {
   "cell_type": "code",
   "execution_count": 8,
   "id": "dbe8b45c-a53c-4a4c-bbfe-7551cdbaa5e0",
   "metadata": {},
   "outputs": [
    {
     "data": {
      "text/plain": [
       "array([[1, 2],\n",
       "       [3, 4],\n",
       "       [5, 6]])"
      ]
     },
     "execution_count": 8,
     "metadata": {},
     "output_type": "execute_result"
    }
   ],
   "source": [
    "temp = np.array([[1,2,3],[4,5,6]])\n",
    "temp\n",
    "temp.reshape(3,2)"
   ]
  },
  {
   "cell_type": "code",
   "execution_count": 12,
   "id": "31e588cd-65ca-4d1d-b906-b47bdb49ba0b",
   "metadata": {},
   "outputs": [
    {
     "data": {
      "text/plain": [
       "(2, 3)"
      ]
     },
     "execution_count": 12,
     "metadata": {},
     "output_type": "execute_result"
    }
   ],
   "source": [
    "temp.shape"
   ]
  },
  {
   "cell_type": "code",
   "execution_count": 14,
   "id": "37bd5690-d053-482c-8de4-834243ccf558",
   "metadata": {},
   "outputs": [
    {
     "data": {
      "text/plain": [
       "6"
      ]
     },
     "execution_count": 14,
     "metadata": {},
     "output_type": "execute_result"
    }
   ],
   "source": [
    "temp.size"
   ]
  },
  {
   "cell_type": "code",
   "execution_count": 16,
   "id": "5aeb7054-2dec-45bf-91b4-757e4487da3d",
   "metadata": {},
   "outputs": [
    {
     "data": {
      "text/plain": [
       "2"
      ]
     },
     "execution_count": 16,
     "metadata": {},
     "output_type": "execute_result"
    }
   ],
   "source": [
    "temp.ndim"
   ]
  },
  {
   "cell_type": "code",
   "execution_count": 42,
   "id": "8370cc19-37df-4325-a4f6-66305f87cee9",
   "metadata": {},
   "outputs": [
    {
     "data": {
      "text/plain": [
       "5"
      ]
     },
     "execution_count": 42,
     "metadata": {},
     "output_type": "execute_result"
    }
   ],
   "source": [
    "t = [[1,2,3],[4,5,6]]\n",
    "temp[1,1]\n",
    "\n"
   ]
  },
  {
   "cell_type": "code",
   "execution_count": 58,
   "id": "fd27773f-65db-4f09-9efd-38390d5443b0",
   "metadata": {},
   "outputs": [
    {
     "ename": "TypeError",
     "evalue": "data type '% 0.1f%%' not understood",
     "output_type": "error",
     "traceback": [
      "\u001b[1;31m---------------------------------------------------------------------------\u001b[0m",
      "\u001b[1;31mTypeError\u001b[0m                                 Traceback (most recent call last)",
      "Cell \u001b[1;32mIn[58], line 2\u001b[0m\n\u001b[0;32m      1\u001b[0m \u001b[38;5;28;01mimport\u001b[39;00m \u001b[38;5;21;01mrandom\u001b[39;00m \n\u001b[1;32m----> 2\u001b[0m arr \u001b[38;5;241m=\u001b[39m np\u001b[38;5;241m.\u001b[39mrandom\u001b[38;5;241m.\u001b[39mrandint(\u001b[38;5;241m1\u001b[39m, \u001b[38;5;241m100\u001b[39m, (\u001b[38;5;241m10\u001b[39m,\u001b[38;5;241m5\u001b[39m), \u001b[38;5;124m\"\u001b[39m\u001b[38;5;132;01m% 0.1f\u001b[39;00m\u001b[38;5;132;01m%%\u001b[39;00m\u001b[38;5;124m\"\u001b[39m)\n\u001b[0;32m      3\u001b[0m arr\n",
      "File \u001b[1;32mnumpy\\\\random\\\\mtrand.pyx:761\u001b[0m, in \u001b[0;36mnumpy.random.mtrand.RandomState.randint\u001b[1;34m()\u001b[0m\n",
      "\u001b[1;31mTypeError\u001b[0m: data type '% 0.1f%%' not understood"
     ]
    }
   ],
   "source": [
    "import random \n",
    "arr = np.random.randint(1, 100, (10,5), \"% 0.1f%%\")\n",
    "arr"
   ]
  },
  {
   "cell_type": "code",
   "execution_count": 74,
   "id": "3da8f812-cebc-4623-9337-722a3f1468c9",
   "metadata": {},
   "outputs": [
    {
     "ename": "ValueError",
     "evalue": "operands could not be broadcast together with shapes (2,) (4,) ",
     "output_type": "error",
     "traceback": [
      "\u001b[1;31m---------------------------------------------------------------------------\u001b[0m",
      "\u001b[1;31mValueError\u001b[0m                                Traceback (most recent call last)",
      "Cell \u001b[1;32mIn[74], line 1\u001b[0m\n\u001b[1;32m----> 1\u001b[0m ans \u001b[38;5;241m=\u001b[39m np\u001b[38;5;241m.\u001b[39marray([\u001b[38;5;241m4\u001b[39m,\u001b[38;5;241m10\u001b[39m])\u001b[38;5;241m+\u001b[39mnp\u001b[38;5;241m.\u001b[39marray([\u001b[38;5;241m1\u001b[39m,\u001b[38;5;241m2\u001b[39m,\u001b[38;5;241m3\u001b[39m,\u001b[38;5;241m4\u001b[39m])\n\u001b[0;32m      2\u001b[0m ans2 \u001b[38;5;241m=\u001b[39m [\u001b[38;5;241m1\u001b[39m,\u001b[38;5;241m2\u001b[39m]\u001b[38;5;241m+\u001b[39m[\u001b[38;5;241m2\u001b[39m,\u001b[38;5;241m3\u001b[39m,\u001b[38;5;241m4\u001b[39m]\n\u001b[0;32m      3\u001b[0m ans\n",
      "\u001b[1;31mValueError\u001b[0m: operands could not be broadcast together with shapes (2,) (4,) "
     ]
    }
   ],
   "source": [
    "ans = np.array([4,10])+np.array([1,2,3,4])\n",
    "ans2 = [1,2]+[2,3,4]\n",
    "ans"
   ]
  },
  {
   "cell_type": "code",
   "execution_count": 66,
   "id": "cbeb1e16-4321-43ef-b182-7c45c4cd54b4",
   "metadata": {},
   "outputs": [
    {
     "data": {
      "text/plain": [
       "[1, 2, 3, 4]"
      ]
     },
     "execution_count": 66,
     "metadata": {},
     "output_type": "execute_result"
    }
   ],
   "source": [
    "ans2"
   ]
  },
  {
   "cell_type": "code",
   "execution_count": 70,
   "id": "211d7d33-256d-446e-9609-c3c76000e960",
   "metadata": {},
   "outputs": [],
   "source": [
    "ans2.append(10)"
   ]
  },
  {
   "cell_type": "code",
   "execution_count": null,
   "id": "f9909362-e284-4a40-906c-cbca6f2241f6",
   "metadata": {},
   "outputs": [],
   "source": []
  },
  {
   "cell_type": "code",
   "execution_count": 77,
   "id": "535b05d1-9503-4168-aeff-3d3a0d3e2fba",
   "metadata": {},
   "outputs": [
    {
     "name": "stdout",
     "output_type": "stream",
     "text": [
      "[[-1. -1. -1.]\n",
      " [ 1.  1.  1.]]\n"
     ]
    }
   ],
   "source": [
    "arr = np.array([[1, 2, 3], [4, 5, 6]])\n",
    "\n",
    "mean = np.mean(arr, axis=0) \n",
    "std = np.std(arr, axis = 0) \n",
    "\n",
    "normalization = (arr-mean)/std \n",
    "print(normalization)"
   ]
  },
  {
   "cell_type": "code",
   "execution_count": 79,
   "id": "d2847dc1-7ced-476c-baa8-a948c8219ba3",
   "metadata": {},
   "outputs": [
    {
     "name": "stdout",
     "output_type": "stream",
     "text": [
      "[[-1. -1. -1.]\n",
      " [ 1.  1.  1.]]\n"
     ]
    }
   ],
   "source": [
    "arr = np.array([[1, 2, 3], [4, 5, 6]])\n",
    "mean = np.mean(arr, axis=0)  # Mean of each column\n",
    "std = np.std(arr, axis=0)    # Standard deviation of each column\n",
    "\n",
    "normalized = (arr - mean) / std\n",
    "print(normalized)"
   ]
  },
  {
   "cell_type": "code",
   "execution_count": 89,
   "id": "204d8d87-19aa-40d9-ae21-7c901b09f521",
   "metadata": {},
   "outputs": [
    {
     "ename": "TypeError",
     "evalue": "'numpy.ndarray' object is not callable",
     "output_type": "error",
     "traceback": [
      "\u001b[1;31m---------------------------------------------------------------------------\u001b[0m",
      "\u001b[1;31mTypeError\u001b[0m                                 Traceback (most recent call last)",
      "Cell \u001b[1;32mIn[89], line 5\u001b[0m\n\u001b[0;32m      1\u001b[0m vec1 \u001b[38;5;241m=\u001b[39m np\u001b[38;5;241m.\u001b[39marray([\u001b[38;5;241m1\u001b[39m, \u001b[38;5;241m2\u001b[39m, \u001b[38;5;241m3\u001b[39m])\n\u001b[0;32m      2\u001b[0m vec2 \u001b[38;5;241m=\u001b[39m np\u001b[38;5;241m.\u001b[39marray([\u001b[38;5;241m4\u001b[39m, \u001b[38;5;241m5\u001b[39m])\n\u001b[1;32m----> 5\u001b[0m vec \u001b[38;5;241m=\u001b[39m vec1(np\u001b[38;5;241m.\u001b[39mnewaxis)\u001b[38;5;241m*\u001b[39mvec2\n\u001b[0;32m      6\u001b[0m vec\n",
      "\u001b[1;31mTypeError\u001b[0m: 'numpy.ndarray' object is not callable"
     ]
    }
   ],
   "source": [
    "vec1 = np.array([1, 2, 3])\n",
    "vec2 = np.array([4, 5])\n",
    "\n",
    "\n",
    "vec = vec1(np.newaxis)*vec2\n",
    "vec"
   ]
  },
  {
   "cell_type": "code",
   "execution_count": 2,
   "id": "5fcfa283-f527-464e-8510-1df7b2b7eb0b",
   "metadata": {},
   "outputs": [],
   "source": [
    "import numpy as np"
   ]
  },
  {
   "cell_type": "code",
   "execution_count": 6,
   "id": "253a7dae-a4fb-4cc8-a132-68ee3d5d71c5",
   "metadata": {},
   "outputs": [],
   "source": [
    "arr = np.array([7.5, 6. , 2.2, 3.2, 9.3, 4. , 9.1, 9.3, 3.8, 3.7])"
   ]
  },
  {
   "cell_type": "code",
   "execution_count": 8,
   "id": "1754153f-d64d-466f-809e-8552f68363aa",
   "metadata": {},
   "outputs": [
    {
     "data": {
      "text/plain": [
       "array([7.5, 6. , 2.2, 3.2, 9.3, 4. , 9.1, 9.3, 3.8, 3.7])"
      ]
     },
     "execution_count": 8,
     "metadata": {},
     "output_type": "execute_result"
    }
   ],
   "source": [
    "arr"
   ]
  },
  {
   "cell_type": "code",
   "execution_count": 36,
   "id": "d0e21a47-ecef-400d-88fb-032547fa79db",
   "metadata": {},
   "outputs": [],
   "source": [
    "value = [22,44]"
   ]
  },
  {
   "cell_type": "code",
   "execution_count": 44,
   "id": "a0272b10-8bf2-4400-a0d7-df9915815587",
   "metadata": {},
   "outputs": [],
   "source": [
    "# position = np.random.choice(len(arr),len(value))\n",
    "position = [2,2]"
   ]
  },
  {
   "cell_type": "code",
   "execution_count": 46,
   "id": "80863ae6-054e-4480-a8b2-d67f52df6c6a",
   "metadata": {},
   "outputs": [],
   "source": [
    "arr1 = np.insert(arr,position,value)"
   ]
  },
  {
   "cell_type": "code",
   "execution_count": 48,
   "id": "3f9e85b2-9a89-4ae1-a6fd-a2325ff41527",
   "metadata": {},
   "outputs": [
    {
     "data": {
      "text/plain": [
       "array([ 7.5,  6. , 22. , 44. ,  2.2,  3.2,  9.3,  4. ,  9.1,  9.3,  3.8,\n",
       "        3.7])"
      ]
     },
     "execution_count": 48,
     "metadata": {},
     "output_type": "execute_result"
    }
   ],
   "source": [
    "arr1"
   ]
  },
  {
   "cell_type": "code",
   "execution_count": 26,
   "id": "7126c930-4cb2-4bf2-8048-951ef77a1ec7",
   "metadata": {},
   "outputs": [
    {
     "data": {
      "text/plain": [
       "array([0, 1, 2, 3, 4, 5, 7, 8, 9])"
      ]
     },
     "execution_count": 26,
     "metadata": {},
     "output_type": "execute_result"
    }
   ],
   "source": [
    "# Input:\n",
    "arr1 = np.arange(3)\n",
    "arr2 = np.arange(3,6)\n",
    "arr3 = np.arange(7,10)\n",
    "\n",
    "array_of_arrays = np.array([arr1, arr2, arr3]).reshape((9))\n",
    "array_of_arrays\n",
    "#> array([array([0, 1, 2]), array([3, 4, 5, 6]), array([7, 8, 9])], dtype=object)"
   ]
  },
  {
   "cell_type": "code",
   "execution_count": 28,
   "id": "4184755b-4ae4-42b5-87bc-6e41f65ad2d9",
   "metadata": {},
   "outputs": [
    {
     "data": {
      "text/plain": [
       "array(['Iris-setosa', 'Iris-setosa', 'Iris-setosa', 'Iris-setosa',\n",
       "       'Iris-setosa', 'Iris-setosa', 'Iris-setosa', 'Iris-versicolor',\n",
       "       'Iris-versicolor', 'Iris-versicolor', 'Iris-versicolor',\n",
       "       'Iris-versicolor', 'Iris-versicolor', 'Iris-virginica',\n",
       "       'Iris-virginica', 'Iris-virginica', 'Iris-virginica',\n",
       "       'Iris-virginica', 'Iris-virginica', 'Iris-virginica'], dtype='<U15')"
      ]
     },
     "execution_count": 28,
     "metadata": {},
     "output_type": "execute_result"
    }
   ],
   "source": [
    "url = 'https://archive.ics.uci.edu/ml/machine-learning-databases/iris/iris.data'\n",
    "species = np.genfromtxt(url, delimiter=',', dtype='str', usecols=4)\n",
    "species_small = np.sort(np.random.choice(species, size=20))\n",
    "species_small\n",
    "#> array(['Iris-setosa', 'Iris-setosa', 'Iris-setosa', 'Iris-setosa',\n",
    "#>        'Iris-setosa', 'Iris-setosa', 'Iris-versicolor', 'Iris-versicolor',\n",
    "#>        'Iris-versicolor', 'Iris-versicolor', 'Iris-versicolor',\n",
    "#>        'Iris-versicolor', 'Iris-virginica', 'Iris-virginica',\n",
    "#>        'Iris-virginica', 'Iris-virginica', 'Iris-virginica',\n",
    "#>        'Iris-virginica', 'Iris-virginica', 'Iris-virginica'],\n",
    "#>       dtype='<U15')"
   ]
  },
  {
   "cell_type": "code",
   "execution_count": 4,
   "id": "0ef95aea-9d6e-462e-b277-e84340593479",
   "metadata": {},
   "outputs": [
    {
     "data": {
      "text/plain": [
       "array([ 9,  4, 15,  0, 17, 16, 17,  8,  9,  0])"
      ]
     },
     "execution_count": 4,
     "metadata": {},
     "output_type": "execute_result"
    }
   ],
   "source": [
    "np.random.seed(10)\n",
    "a = np.random.randint(20, size=10)\n",
    "a\n",
    "#> [ 9  4 15  0 17 16 17  8  9  0]"
   ]
  },
  {
   "cell_type": "code",
   "execution_count": 10,
   "id": "6dc60dd1-6f8a-461d-9433-2bb44fa49bda",
   "metadata": {},
   "outputs": [
    {
     "data": {
      "text/plain": [
       "array([3, 9, 1, 7, 0, 8, 2, 5, 4, 6], dtype=int64)"
      ]
     },
     "execution_count": 10,
     "metadata": {},
     "output_type": "execute_result"
    }
   ],
   "source": [
    "k = np.argsort(a)\n",
    "k"
   ]
  },
  {
   "cell_type": "code",
   "execution_count": 8,
   "id": "635f7973-1b87-453c-ada3-b69dd39cd738",
   "metadata": {
    "scrolled": true
   },
   "outputs": [
    {
     "name": "stdout",
     "output_type": "stream",
     "text": [
      "3  -->  9\n",
      "9  -->  4\n",
      "1  -->  15\n",
      "7  -->  0\n",
      "0  -->  17\n",
      "8  -->  16\n",
      "2  -->  17\n",
      "5  -->  8\n",
      "4  -->  9\n",
      "6  -->  0\n"
     ]
    }
   ],
   "source": [
    "for i in range(len(k)):\n",
    "    print(f\"{k[i]}  -->  {a[i]}\")"
   ]
  },
  {
   "cell_type": "code",
   "execution_count": 12,
   "id": "d65581dc-ce95-446b-8772-78d0af99eb73",
   "metadata": {},
   "outputs": [
    {
     "name": "stdout",
     "output_type": "stream",
     "text": [
      "[[ 9  4 15  0 17]\n",
      " [16 17  8  9  0]]\n"
     ]
    }
   ],
   "source": [
    "np.random.seed(10)\n",
    "a = np.random.randint(20, size=[2,5])\n",
    "print(a)\n",
    "#> [[ 9  4 15  0 17]\n",
    "#>  [16 17  8  9  0]]"
   ]
  },
  {
   "cell_type": "code",
   "execution_count": 24,
   "id": "20bb138d-4715-414b-8a78-ebc3e5f5d29f",
   "metadata": {},
   "outputs": [
    {
     "data": {
      "text/plain": [
       "array([[4, 2, 6, 0, 8],\n",
       "       [7, 9, 3, 5, 1]], dtype=int64)"
      ]
     },
     "execution_count": 24,
     "metadata": {},
     "output_type": "execute_result"
    }
   ],
   "source": [
    "np.argsort(np.ravel(a)).argsort().reshape(a.shape)"
   ]
  },
  {
   "cell_type": "code",
   "execution_count": 34,
   "id": "b9a335a5-ec56-4215-b3b2-8c4ec220ae7a",
   "metadata": {},
   "outputs": [
    {
     "data": {
      "text/plain": [
       "17"
      ]
     },
     "execution_count": 34,
     "metadata": {},
     "output_type": "execute_result"
    }
   ],
   "source": [
    "np.max(a)"
   ]
  },
  {
   "cell_type": "code",
   "execution_count": 36,
   "id": "143028ad-5e8c-4bd0-998d-35387fb0ff1e",
   "metadata": {},
   "outputs": [
    {
     "data": {
      "text/plain": [
       "array([[9, 9, 4],\n",
       "       [8, 8, 1],\n",
       "       [5, 3, 6],\n",
       "       [3, 3, 3],\n",
       "       [2, 1, 9]])"
      ]
     },
     "execution_count": 36,
     "metadata": {},
     "output_type": "execute_result"
    }
   ],
   "source": [
    "np.random.seed(100)\n",
    "a = np.random.randint(1,10, [5,3])\n",
    "a\n",
    "#> array([[9, 9, 4],\n",
    "#>        [8, 8, 1],\n",
    "#>        [5, 3, 6],\n",
    "#>        [3, 3, 3],\n",
    "#>        [2, 1, 9]])"
   ]
  },
  {
   "cell_type": "code",
   "execution_count": 38,
   "id": "796f0404-5304-46bb-acdb-65b8a908daec",
   "metadata": {},
   "outputs": [],
   "source": [
    "ma = np.max(a,axis=1)\n",
    "mi = np.min(a,axis=1)"
   ]
  },
  {
   "cell_type": "code",
   "execution_count": 44,
   "id": "c70987f9-18ab-4767-9a9c-81799de1efff",
   "metadata": {},
   "outputs": [
    {
     "data": {
      "text/plain": [
       "array([0.444, 0.125, 0.5  , 1.   , 0.111])"
      ]
     },
     "execution_count": 44,
     "metadata": {},
     "output_type": "execute_result"
    }
   ],
   "source": [
    "minbymax = mi/ma\n",
    "np.around(minbymax, decimals=3)"
   ]
  },
  {
   "cell_type": "code",
   "execution_count": 55,
   "id": "07938523-5ceb-4441-9b9a-072de253014b",
   "metadata": {},
   "outputs": [
    {
     "ename": "ValueError",
     "evalue": "all the input arrays must have same number of dimensions, but the array at index 0 has 2 dimension(s) and the array at index 1 has 1 dimension(s)",
     "output_type": "error",
     "traceback": [
      "\u001b[1;31m---------------------------------------------------------------------------\u001b[0m",
      "\u001b[1;31mValueError\u001b[0m                                Traceback (most recent call last)",
      "Cell \u001b[1;32mIn[55], line 1\u001b[0m\n\u001b[1;32m----> 1\u001b[0m np\u001b[38;5;241m.\u001b[39mappend(a,minbymax, axis\u001b[38;5;241m=\u001b[39m\u001b[38;5;241m1\u001b[39m)\n",
      "File \u001b[1;32m~\\anaconda3\\Lib\\site-packages\\numpy\\lib\\function_base.py:5618\u001b[0m, in \u001b[0;36mappend\u001b[1;34m(arr, values, axis)\u001b[0m\n\u001b[0;32m   5616\u001b[0m     values \u001b[38;5;241m=\u001b[39m ravel(values)\n\u001b[0;32m   5617\u001b[0m     axis \u001b[38;5;241m=\u001b[39m arr\u001b[38;5;241m.\u001b[39mndim\u001b[38;5;241m-\u001b[39m\u001b[38;5;241m1\u001b[39m\n\u001b[1;32m-> 5618\u001b[0m \u001b[38;5;28;01mreturn\u001b[39;00m concatenate((arr, values), axis\u001b[38;5;241m=\u001b[39maxis)\n",
      "\u001b[1;31mValueError\u001b[0m: all the input arrays must have same number of dimensions, but the array at index 0 has 2 dimension(s) and the array at index 1 has 1 dimension(s)"
     ]
    }
   ],
   "source": [
    "np.append(a,minbymax, axis=1)"
   ]
  },
  {
   "cell_type": "code",
   "execution_count": 81,
   "id": "3092d05f-6570-4dc1-83ed-3b28966cf4ac",
   "metadata": {},
   "outputs": [],
   "source": [
    "url = 'https://archive.ics.uci.edu/ml/machine-learning-databases/iris/iris.data'\n",
    "iris = np.genfromtxt(url, delimiter=',', dtype='float')[:,[0,1,2,3]]\n",
    "iris1 = np.genfromtxt(url, delimiter=',', dtype='object')[:,4]\n",
    "names = ('sepallength', 'sepalwidth', 'petallength', 'petalwidth', 'species')"
   ]
  },
  {
   "cell_type": "code",
   "execution_count": 92,
   "id": "bf58ed68-0ebb-4013-9582-d40972130521",
   "metadata": {},
   "outputs": [
    {
     "ename": "ValueError",
     "evalue": "all input arrays must have the same shape",
     "output_type": "error",
     "traceback": [
      "\u001b[1;31m---------------------------------------------------------------------------\u001b[0m",
      "\u001b[1;31mValueError\u001b[0m                                Traceback (most recent call last)",
      "Cell \u001b[1;32mIn[92], line 1\u001b[0m\n\u001b[1;32m----> 1\u001b[0m np\u001b[38;5;241m.\u001b[39mstack((iris,iris1),axis\u001b[38;5;241m=\u001b[39m\u001b[38;5;241m0\u001b[39m)\n",
      "File \u001b[1;32m~\\anaconda3\\Lib\\site-packages\\numpy\\core\\shape_base.py:449\u001b[0m, in \u001b[0;36mstack\u001b[1;34m(arrays, axis, out, dtype, casting)\u001b[0m\n\u001b[0;32m    447\u001b[0m shapes \u001b[38;5;241m=\u001b[39m {arr\u001b[38;5;241m.\u001b[39mshape \u001b[38;5;28;01mfor\u001b[39;00m arr \u001b[38;5;129;01min\u001b[39;00m arrays}\n\u001b[0;32m    448\u001b[0m \u001b[38;5;28;01mif\u001b[39;00m \u001b[38;5;28mlen\u001b[39m(shapes) \u001b[38;5;241m!=\u001b[39m \u001b[38;5;241m1\u001b[39m:\n\u001b[1;32m--> 449\u001b[0m     \u001b[38;5;28;01mraise\u001b[39;00m \u001b[38;5;167;01mValueError\u001b[39;00m(\u001b[38;5;124m'\u001b[39m\u001b[38;5;124mall input arrays must have the same shape\u001b[39m\u001b[38;5;124m'\u001b[39m)\n\u001b[0;32m    451\u001b[0m result_ndim \u001b[38;5;241m=\u001b[39m arrays[\u001b[38;5;241m0\u001b[39m]\u001b[38;5;241m.\u001b[39mndim \u001b[38;5;241m+\u001b[39m \u001b[38;5;241m1\u001b[39m\n\u001b[0;32m    452\u001b[0m axis \u001b[38;5;241m=\u001b[39m normalize_axis_index(axis, result_ndim)\n",
      "\u001b[1;31mValueError\u001b[0m: all input arrays must have the same shape"
     ]
    }
   ],
   "source": [
    "np.stack((iris,iris1))"
   ]
  },
  {
   "cell_type": "code",
   "execution_count": 77,
   "id": "f3e3451f-5a0b-4321-b1f9-bc6190665aca",
   "metadata": {},
   "outputs": [
    {
     "data": {
      "text/plain": [
       "458.1"
      ]
     },
     "execution_count": 77,
     "metadata": {},
     "output_type": "execute_result"
    }
   ],
   "source": [
    "iris[:,1].sum()"
   ]
  },
  {
   "cell_type": "code",
   "execution_count": 94,
   "id": "ba4ea83d-0b0e-43ca-ba62-bbf0a822d0a6",
   "metadata": {},
   "outputs": [],
   "source": [
    "from io import BytesIO\n",
    "from PIL import Image\n",
    "import PIL, requests\n",
    "\n",
    "# Import image from URL\n",
    "URL = 'https://upload.wikimedia.org/wikipedia/commons/8/8b/Denali_Mt_McKinley.jpg'\n",
    "response = requests.get(URL)\n",
    "\n",
    "# Read it as Image\n",
    "I = Image.open(BytesIO(response.content))\n",
    "\n",
    "# Optionally resize\n",
    "I = I.resize([150,150])\n",
    "\n",
    "# Convert to numpy array\n",
    "arr = np.asarray(I)\n",
    "\n",
    "# Optionaly Convert it back to an image and show\n",
    "im = PIL.Image.fromarray(np.uint8(arr))\n",
    "Image.Image.show(im)"
   ]
  },
  {
   "cell_type": "code",
   "execution_count": 102,
   "id": "2468643c-dd93-462f-8b20-cfad1f1e5930",
   "metadata": {},
   "outputs": [
    {
     "data": {
      "text/plain": [
       "array('C:\\\\Users\\\\ASUS\\\\OneDrive\\\\Desktop\\\\linkdine post\\\\Hem.PNG',\n",
       "      dtype='<U52')"
      ]
     },
     "execution_count": 102,
     "metadata": {},
     "output_type": "execute_result"
    }
   ],
   "source": [
    "np.array(r\"C:\\Users\\ASUS\\OneDrive\\Desktop\\linkdine post\\Hem.PNG\")"
   ]
  },
  {
   "cell_type": "code",
   "execution_count": 114,
   "id": "c7af10e5-1296-4fec-be19-6dfc40a769ec",
   "metadata": {},
   "outputs": [],
   "source": [
    "from PIL import Image"
   ]
  },
  {
   "cell_type": "code",
   "execution_count": 118,
   "id": "519352ed-fdf2-4071-b3a9-c903e14a582a",
   "metadata": {},
   "outputs": [],
   "source": [
    "img = Image.open(r\"C:\\Users\\ASUS\\OneDrive\\Desktop\\linkdine post\\Hem.PNG\")"
   ]
  },
  {
   "cell_type": "code",
   "execution_count": 124,
   "id": "dee4c601-cbf4-43b3-bb54-0cafba465165",
   "metadata": {},
   "outputs": [
    {
     "data": {
      "text/plain": [
       "(4032, 3024, 4)"
      ]
     },
     "execution_count": 124,
     "metadata": {},
     "output_type": "execute_result"
    }
   ],
   "source": [
    "np.array(img).shape"
   ]
  },
  {
   "cell_type": "code",
   "execution_count": 128,
   "id": "e237fd81-a7b1-4c2d-91a5-66668b929338",
   "metadata": {},
   "outputs": [],
   "source": [
    "arr = np.array([1,2,3,np.nan,5,6,7,np.nan])"
   ]
  },
  {
   "cell_type": "code",
   "execution_count": 136,
   "id": "93530089-433c-4e52-8e65-0a587df8f3a9",
   "metadata": {},
   "outputs": [
    {
     "data": {
      "text/plain": [
       "array([1, 2, 3, 5, 6, 7])"
      ]
     },
     "execution_count": 136,
     "metadata": {},
     "output_type": "execute_result"
    }
   ],
   "source": [
    "arr[~np.isnan(arr)].astype(int)"
   ]
  },
  {
   "cell_type": "code",
   "execution_count": 138,
   "id": "d4707386-dabf-4dbe-89dc-992b355e9b2f",
   "metadata": {},
   "outputs": [],
   "source": [
    "a = np.array([1,2,3,4,5])\n",
    "b = np.array([4,5,6,7,8])"
   ]
  },
  {
   "cell_type": "code",
   "execution_count": 144,
   "id": "6e6574ea-9f3d-4a1e-83ed-d282fa6e53cb",
   "metadata": {},
   "outputs": [
    {
     "data": {
      "text/plain": [
       "6.708203932499369"
      ]
     },
     "execution_count": 144,
     "metadata": {},
     "output_type": "execute_result"
    }
   ],
   "source": [
    "np.sqrt(np.sum((a-b)**2))"
   ]
  },
  {
   "cell_type": "code",
   "execution_count": 148,
   "id": "518ee75d-5e5a-4066-ac98-b6438d643ca6",
   "metadata": {},
   "outputs": [
    {
     "data": {
      "text/plain": [
       "6.708203932499369"
      ]
     },
     "execution_count": 148,
     "metadata": {},
     "output_type": "execute_result"
    }
   ],
   "source": [
    "np.linalg.norm(a-b)"
   ]
  },
  {
   "cell_type": "code",
   "execution_count": 150,
   "id": "1bbc34ef-9f25-4f9b-9568-a76edabefecc",
   "metadata": {},
   "outputs": [],
   "source": [
    "a_2d = np.array([[3,3,3],[4,4,4],[5,5,5]])\n",
    "b_1d = np.array([1,2,3])"
   ]
  },
  {
   "cell_type": "code",
   "execution_count": 156,
   "id": "2ff4aac0-5880-482a-81c3-e640f42bdacb",
   "metadata": {},
   "outputs": [],
   "source": [
    "b = b_1d.reshape((len(b_1d),-1))"
   ]
  },
  {
   "cell_type": "code",
   "execution_count": 158,
   "id": "baf58348-7192-4c2d-9f3f-7925847010a4",
   "metadata": {},
   "outputs": [
    {
     "data": {
      "text/plain": [
       "array([[2, 2, 2],\n",
       "       [2, 2, 2],\n",
       "       [2, 2, 2]])"
      ]
     },
     "execution_count": 158,
     "metadata": {},
     "output_type": "execute_result"
    }
   ],
   "source": [
    "a_2d-b"
   ]
  },
  {
   "cell_type": "code",
   "execution_count": 160,
   "id": "dedf89ab-e85e-4178-affa-770b86c87879",
   "metadata": {},
   "outputs": [],
   "source": [
    "x = np.array([1, 2, 1, 1, 3, 4, 3, 1, 1, 2, 1, 1, 2])"
   ]
  },
  {
   "cell_type": "code",
   "execution_count": 162,
   "id": "2183a5dc-e4fa-4bd3-aa46-681c86602287",
   "metadata": {},
   "outputs": [
    {
     "name": "stdout",
     "output_type": "stream",
     "text": [
      "8\n"
     ]
    }
   ],
   "source": [
    "count = 0\n",
    "for i,k in enumerate(x): \n",
    "    if k == 1:\n",
    "        count +=1\n",
    "        if count == 5:\n",
    "            print(i)"
   ]
  },
  {
   "cell_type": "code",
   "execution_count": 164,
   "id": "7f65ba7c-1a6d-4b5b-8b74-e1f430c834b3",
   "metadata": {},
   "outputs": [],
   "source": [
    "np.random.seed(100)\n",
    "Z = np.random.randint(10, size=10)"
   ]
  },
  {
   "cell_type": "code",
   "execution_count": 168,
   "id": "af949844-6266-4c86-a1ee-6e7e4dd2ae23",
   "metadata": {},
   "outputs": [
    {
     "data": {
      "text/plain": [
       "array([8, 8, 3, 7, 7, 0, 4, 2, 5, 2])"
      ]
     },
     "execution_count": 168,
     "metadata": {},
     "output_type": "execute_result"
    }
   ],
   "source": [
    "Z"
   ]
  },
  {
   "cell_type": "code",
   "execution_count": 170,
   "id": "e209e505-fcf3-48d4-bf47-11694f4d7caa",
   "metadata": {},
   "outputs": [
    {
     "data": {
      "text/plain": [
       "[6.333333333333333,\n",
       " 6.0,\n",
       " 5.666666666666667,\n",
       " 4.666666666666667,\n",
       " 3.6666666666666665,\n",
       " 2.0,\n",
       " 3.6666666666666665,\n",
       " 3.0]"
      ]
     },
     "execution_count": 170,
     "metadata": {},
     "output_type": "execute_result"
    }
   ],
   "source": [
    "ans = []\n",
    "for i in range(len(Z)-2): \n",
    "    ans.append(np.mean(Z[i:i+3]))\n",
    "ans\n",
    "    "
   ]
  },
  {
   "cell_type": "code",
   "execution_count": 172,
   "id": "18cc963c-4c01-49ce-ba73-509a682e55eb",
   "metadata": {},
   "outputs": [
    {
     "data": {
      "text/plain": [
       "array([ 5,  8, 11, 14, 17, 20, 23, 26, 29, 32])"
      ]
     },
     "execution_count": 172,
     "metadata": {},
     "output_type": "execute_result"
    }
   ],
   "source": [
    "np.arange(5,5+10*3 ,3)"
   ]
  },
  {
   "cell_type": "code",
   "execution_count": null,
   "id": "154286c3-fde6-4c55-b9ed-04a7a5af1560",
   "metadata": {},
   "outputs": [],
   "source": []
  }
 ],
 "metadata": {
  "kernelspec": {
   "display_name": "Python 3 (ipykernel)",
   "language": "python",
   "name": "python3"
  },
  "language_info": {
   "codemirror_mode": {
    "name": "ipython",
    "version": 3
   },
   "file_extension": ".py",
   "mimetype": "text/x-python",
   "name": "python",
   "nbconvert_exporter": "python",
   "pygments_lexer": "ipython3",
   "version": "3.12.4"
  }
 },
 "nbformat": 4,
 "nbformat_minor": 5
}
