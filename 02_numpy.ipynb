{
 "cells": [
  {
   "cell_type": "code",
   "execution_count": 1,
   "id": "00f5887a-8f62-479c-a25b-17ab76a53344",
   "metadata": {},
   "outputs": [],
   "source": [
    "import numpy as np "
   ]
  },
  {
   "cell_type": "code",
   "execution_count": 2,
   "id": "1628c4a3-3a37-436a-9fee-ad8e275a8e79",
   "metadata": {},
   "outputs": [],
   "source": [
    "data = np.array([1,2,3,4,5,6])"
   ]
  },
  {
   "cell_type": "code",
   "execution_count": 3,
   "id": "8ce6bde1-c965-449e-9cd3-4023a4f13a0e",
   "metadata": {},
   "outputs": [
    {
     "data": {
      "text/plain": [
       "numpy.ndarray"
      ]
     },
     "execution_count": 3,
     "metadata": {},
     "output_type": "execute_result"
    }
   ],
   "source": [
    "type(data)"
   ]
  },
  {
   "cell_type": "code",
   "execution_count": 4,
   "id": "5efb064b-a2c6-48ba-9b08-22beb3c5c177",
   "metadata": {},
   "outputs": [
    {
     "data": {
      "text/plain": [
       "'1.26.4'"
      ]
     },
     "execution_count": 4,
     "metadata": {},
     "output_type": "execute_result"
    }
   ],
   "source": [
    "np.__version__"
   ]
  },
  {
   "cell_type": "code",
   "execution_count": 5,
   "id": "c7e5312f-a5f4-4184-8cd3-c39a5b553f13",
   "metadata": {},
   "outputs": [
    {
     "data": {
      "text/plain": [
       "(6,)"
      ]
     },
     "execution_count": 5,
     "metadata": {},
     "output_type": "execute_result"
    }
   ],
   "source": [
    "data.shape"
   ]
  },
  {
   "cell_type": "code",
   "execution_count": 6,
   "id": "f458da3d-e42f-4810-b780-3362e6c36d8c",
   "metadata": {},
   "outputs": [
    {
     "data": {
      "text/plain": [
       "(2, 3, 2)"
      ]
     },
     "execution_count": 6,
     "metadata": {},
     "output_type": "execute_result"
    }
   ],
   "source": [
    "a = np.array([[[1,2],[2,3],[3,4]],[[1,2],[2,3],[3,4]]])\n",
    "a.shape"
   ]
  },
  {
   "cell_type": "code",
   "execution_count": 7,
   "id": "5c0ca841-ad82-4af4-b667-2429310ec0b6",
   "metadata": {},
   "outputs": [
    {
     "data": {
      "text/plain": [
       "4"
      ]
     },
     "execution_count": 7,
     "metadata": {},
     "output_type": "execute_result"
    }
   ],
   "source": [
    "\n",
    "a.dtype # type of the elements: int32\n",
    "a.ndim # number of dimensions: 1\n",
    "a.size # total number of elements: 5\n",
    "a.itemsize # the size in bytes of each element: 4"
   ]
  },
  {
   "cell_type": "code",
   "execution_count": 8,
   "id": "f829d4bc-85f4-4fa9-98c2-417060f40963",
   "metadata": {},
   "outputs": [
    {
     "data": {
      "text/plain": [
       "dtype('int32')"
      ]
     },
     "execution_count": 8,
     "metadata": {},
     "output_type": "execute_result"
    }
   ],
   "source": [
    "a.dtype"
   ]
  },
  {
   "cell_type": "code",
   "execution_count": 9,
   "id": "d2f82b31-52d9-4ca0-9853-2b3ee8014bd4",
   "metadata": {},
   "outputs": [
    {
     "data": {
      "text/plain": [
       "3"
      ]
     },
     "execution_count": 9,
     "metadata": {},
     "output_type": "execute_result"
    }
   ],
   "source": [
    "a.ndim"
   ]
  },
  {
   "cell_type": "code",
   "execution_count": 10,
   "id": "1deb9db5-f8ac-448f-95dd-5e3887482017",
   "metadata": {},
   "outputs": [
    {
     "data": {
      "text/plain": [
       "12"
      ]
     },
     "execution_count": 10,
     "metadata": {},
     "output_type": "execute_result"
    }
   ],
   "source": [
    "a.size"
   ]
  },
  {
   "cell_type": "code",
   "execution_count": 11,
   "id": "c7bc3f88-b985-4fb0-a6a6-c73841611b4b",
   "metadata": {},
   "outputs": [
    {
     "data": {
      "text/plain": [
       "4"
      ]
     },
     "execution_count": 11,
     "metadata": {},
     "output_type": "execute_result"
    }
   ],
   "source": [
    "a.itemsize"
   ]
  },
  {
   "cell_type": "code",
   "execution_count": 12,
   "id": "0ee41a01-1089-4b01-a5d5-f9abda374a3f",
   "metadata": {},
   "outputs": [
    {
     "name": "stdout",
     "output_type": "stream",
     "text": [
      "[[[1 2]\n",
      "  [2 3]\n",
      "  [3 4]]\n",
      "\n",
      " [[1 2]\n",
      "  [2 3]\n",
      "  [3 4]]]\n"
     ]
    }
   ],
   "source": [
    "print(a)"
   ]
  },
  {
   "cell_type": "code",
   "execution_count": 13,
   "id": "44643912-5699-4c31-8904-bf7254a8117c",
   "metadata": {},
   "outputs": [
    {
     "data": {
      "text/plain": [
       "array([[1, 2],\n",
       "       [2, 3],\n",
       "       [3, 4]])"
      ]
     },
     "execution_count": 13,
     "metadata": {},
     "output_type": "execute_result"
    }
   ],
   "source": [
    "a[0]"
   ]
  },
  {
   "cell_type": "code",
   "execution_count": 14,
   "id": "c806e103-9df9-474c-895e-7cf59f8f8dff",
   "metadata": {},
   "outputs": [
    {
     "data": {
      "text/plain": [
       "array([1, 2])"
      ]
     },
     "execution_count": 14,
     "metadata": {},
     "output_type": "execute_result"
    }
   ],
   "source": [
    "a[0][0]"
   ]
  },
  {
   "cell_type": "code",
   "execution_count": 15,
   "id": "72308980-d749-4314-a9f6-e041f0400632",
   "metadata": {},
   "outputs": [
    {
     "data": {
      "text/plain": [
       "2"
      ]
     },
     "execution_count": 15,
     "metadata": {},
     "output_type": "execute_result"
    }
   ],
   "source": [
    "a[0][0][1]"
   ]
  },
  {
   "cell_type": "code",
   "execution_count": 16,
   "id": "718fa0b3-a59d-4f7c-b8f5-cf4606ac2689",
   "metadata": {},
   "outputs": [
    {
     "data": {
      "text/plain": [
       "array([[2, 3],\n",
       "       [3, 4]])"
      ]
     },
     "execution_count": 16,
     "metadata": {},
     "output_type": "execute_result"
    }
   ],
   "source": [
    "a[0][1:]"
   ]
  },
  {
   "cell_type": "code",
   "execution_count": 17,
   "id": "cf443707-dc06-4c6d-b980-d3f7a5200740",
   "metadata": {},
   "outputs": [
    {
     "data": {
      "text/plain": [
       "10"
      ]
     },
     "execution_count": 17,
     "metadata": {},
     "output_type": "execute_result"
    }
   ],
   "source": [
    "lst = [1,2,3,4]\n",
    "\n",
    "sum(lst)"
   ]
  },
  {
   "cell_type": "code",
   "execution_count": 18,
   "id": "96b3af85-d886-4332-9a4a-1ec299f07092",
   "metadata": {},
   "outputs": [
    {
     "data": {
      "text/plain": [
       "30"
      ]
     },
     "execution_count": 18,
     "metadata": {},
     "output_type": "execute_result"
    }
   ],
   "source": [
    "a.sum()"
   ]
  },
  {
   "cell_type": "code",
   "execution_count": 19,
   "id": "53a0ded5-3557-4c2f-9e00-c8fae3170522",
   "metadata": {},
   "outputs": [],
   "source": [
    "a  = a[0]"
   ]
  },
  {
   "cell_type": "code",
   "execution_count": 20,
   "id": "96826925-b64b-4911-ba01-9235f9c82964",
   "metadata": {},
   "outputs": [
    {
     "data": {
      "text/plain": [
       "array([[1, 2],\n",
       "       [2, 3],\n",
       "       [3, 4]])"
      ]
     },
     "execution_count": 20,
     "metadata": {},
     "output_type": "execute_result"
    }
   ],
   "source": [
    "a"
   ]
  },
  {
   "cell_type": "code",
   "execution_count": 21,
   "id": "d57370f7-7c9e-4409-a64b-54a87f40c6f5",
   "metadata": {},
   "outputs": [
    {
     "data": {
      "text/plain": [
       "array([[   1,   64],\n",
       "       [  64,  729],\n",
       "       [ 729, 4096]], dtype=int32)"
      ]
     },
     "execution_count": 21,
     "metadata": {},
     "output_type": "execute_result"
    }
   ],
   "source": [
    "a**6"
   ]
  },
  {
   "cell_type": "code",
   "execution_count": 22,
   "id": "87d23e38-505d-4798-957b-20d09ea25f99",
   "metadata": {},
   "outputs": [
    {
     "data": {
      "text/plain": [
       "array([[1, 2],\n",
       "       [2, 3],\n",
       "       [3, 4]])"
      ]
     },
     "execution_count": 22,
     "metadata": {},
     "output_type": "execute_result"
    }
   ],
   "source": [
    "a"
   ]
  },
  {
   "cell_type": "code",
   "execution_count": 23,
   "id": "2b774d41-d19e-4ea5-bcee-49abe54c787c",
   "metadata": {},
   "outputs": [],
   "source": [
    "b = np.array([1,2,3,4])\n",
    "c = np.array([1,2,3,4])"
   ]
  },
  {
   "cell_type": "code",
   "execution_count": 24,
   "id": "9a71e6dd-bf51-40c4-a111-4f8cea9921df",
   "metadata": {},
   "outputs": [],
   "source": [
    "d = np.append(b,c)"
   ]
  },
  {
   "cell_type": "code",
   "execution_count": 25,
   "id": "ca72a385-11b7-42ef-bda2-97abc49703b6",
   "metadata": {},
   "outputs": [
    {
     "data": {
      "text/plain": [
       "array([1, 2, 3, 4, 1, 2, 3, 4])"
      ]
     },
     "execution_count": 25,
     "metadata": {},
     "output_type": "execute_result"
    }
   ],
   "source": [
    "d"
   ]
  },
  {
   "cell_type": "code",
   "execution_count": 26,
   "id": "217eda53-bf38-4133-91aa-e73bf55793e8",
   "metadata": {},
   "outputs": [
    {
     "ename": "ValueError",
     "evalue": "shapes (3,) and (2,) not aligned: 3 (dim 0) != 2 (dim 0)",
     "output_type": "error",
     "traceback": [
      "\u001b[1;31m---------------------------------------------------------------------------\u001b[0m",
      "\u001b[1;31mValueError\u001b[0m                                Traceback (most recent call last)",
      "Cell \u001b[1;32mIn[26], line 3\u001b[0m\n\u001b[0;32m      1\u001b[0m a \u001b[38;5;241m=\u001b[39m np\u001b[38;5;241m.\u001b[39marray([\u001b[38;5;241m1\u001b[39m,\u001b[38;5;241m2\u001b[39m,\u001b[38;5;241m4\u001b[39m])\n\u001b[0;32m      2\u001b[0m b \u001b[38;5;241m=\u001b[39m np\u001b[38;5;241m.\u001b[39marray([\u001b[38;5;241m3\u001b[39m,\u001b[38;5;241m4\u001b[39m])\n\u001b[1;32m----> 3\u001b[0m np\u001b[38;5;241m.\u001b[39mdot(a,b)\n",
      "\u001b[1;31mValueError\u001b[0m: shapes (3,) and (2,) not aligned: 3 (dim 0) != 2 (dim 0)"
     ]
    }
   ],
   "source": [
    "a = np.array([1,2,4])\n",
    "b = np.array([3,4])\n",
    "np.dot(a,b)"
   ]
  },
  {
   "cell_type": "code",
   "execution_count": null,
   "id": "1905c76b-13c2-4167-b7de-7d207b59054f",
   "metadata": {},
   "outputs": [],
   "source": [
    "from timeit import default_timer as timer\n",
    "\n",
    "def fib(num): \n",
    "    if num == 0:\n",
    "        return 0 \n",
    "    elif num ==1:\n",
    "        return 1 \n",
    "    else:\n",
    "        return fib(num-1)+fib(num-2)\n",
    "\n",
    "start = timer()\n",
    "lst = []\n",
    "for i in range(2): \n",
    "    lst.append(fib(i))\n",
    "t1 = end-start"
   ]
  },
  {
   "cell_type": "code",
   "execution_count": 39,
   "id": "53c7b629-2950-4be0-98ed-fd60809a00d0",
   "metadata": {},
   "outputs": [],
   "source": [
    "from timeit import default_timer as timer\n",
    "start = timer()\n"
   ]
  },
  {
   "cell_type": "code",
   "execution_count": 41,
   "id": "7561ee59-91f2-4cf9-beaa-93f7f11d9712",
   "metadata": {},
   "outputs": [],
   "source": [
    "end = timer()"
   ]
  },
  {
   "cell_type": "code",
   "execution_count": 43,
   "id": "c0f38888-f5d5-4b4d-848c-3c8d68a7074a",
   "metadata": {},
   "outputs": [],
   "source": [
    "t1 = end-start"
   ]
  },
  {
   "cell_type": "code",
   "execution_count": 45,
   "id": "955c5c41-553c-40a4-b521-bb2263a61344",
   "metadata": {},
   "outputs": [
    {
     "data": {
      "text/plain": [
       "2.7372079999986454"
      ]
     },
     "execution_count": 45,
     "metadata": {},
     "output_type": "execute_result"
    }
   ],
   "source": [
    "t1"
   ]
  },
  {
   "cell_type": "code",
   "execution_count": 55,
   "id": "01f19ae7-0929-4783-8662-de4c84033c45",
   "metadata": {},
   "outputs": [
    {
     "data": {
      "text/plain": [
       "array([[ 3,  8],\n",
       "       [24, 40]])"
      ]
     },
     "execution_count": 55,
     "metadata": {},
     "output_type": "execute_result"
    }
   ],
   "source": [
    "a = np.array([[1,2],[4,5]])\n",
    "b = np.array([[3,4],[6,8]])\n",
    "\n",
    "\n",
    "for i in range(len(a[0])):\n",
    "    for j in range(len(a)): \n",
    "        \n",
    "\n",
    "# c = np.dot(a,b)\n",
    "c = a*b\n",
    "\n",
    "c\n",
    "        "
   ]
  },
  {
   "cell_type": "code",
   "execution_count": 57,
   "id": "0bd6f31a-2534-42af-8b9e-010f4b1b9f61",
   "metadata": {},
   "outputs": [
    {
     "name": "stdout",
     "output_type": "stream",
     "text": [
      "11\n",
      "11\n",
      "[3 8]\n",
      "11\n",
      "11\n",
      "11\n",
      "11\n"
     ]
    }
   ],
   "source": [
    "a = np.array([1,2])\n",
    "b = np.array([3,4])\n",
    "# sum of the products of the corresponding entries\n",
    "# multiply each corresponding elements and then take the sum\n",
    "# cumbersome way for lists\n",
    "dot = 0\n",
    "for i in range(len(a)):\n",
    " dot += a[i] * b[i]\n",
    "print(dot) # 11\n",
    "# easy with numpy :)\n",
    "dot = np.dot(a,b)\n",
    "print(dot) # 11\n",
    "# step by step manually\n",
    "c = a * b\n",
    "print(c) # [3 8]\n",
    "d = np.sum(c)\n",
    "print(d) # 11\n",
    "# most of these functions are also instance methods\n",
    "dot = a.dot(b)\n",
    "print(dot) # 11\n",
    "dot = (a*b).sum()\n",
    "print(dot) # 11\n",
    "# in newer versions\n",
    "dot = a @ b\n",
    "print(dot) # 11"
   ]
  },
  {
   "cell_type": "code",
   "execution_count": 61,
   "id": "81fe05c9-94c3-4f6f-900e-16dd4daf9431",
   "metadata": {},
   "outputs": [
    {
     "name": "stdout",
     "output_type": "stream",
     "text": [
      "Time with lists: 0.2646722999998019\n",
      "Time with array: 0.019432200002484024\n",
      "Ratio 13.6202951784136\n"
     ]
    }
   ],
   "source": [
    "from timeit import default_timer as timer\n",
    "a = np.random.randn(1000)\n",
    "b = np.random.randn(1000)\n",
    "A = list(a)\n",
    "B = list(b)\n",
    "T = 1000\n",
    "def dot1():\n",
    " dot = 0\n",
    " for i in range(len(A)):\n",
    "     dot += A[i]*B[i]\n",
    " return dot\n",
    "def dot2():\n",
    "     return np.dot(a,b)\n",
    "start = timer()\n",
    "for t in range(T):\n",
    " dot1()\n",
    "end = timer()\n",
    "t1 = end-start\n",
    "start = timer()\n",
    "for t in range(T):\n",
    " dot2()\n",
    "end = timer()\n",
    "t2 = end-start\n",
    "print('Time with lists:', t1) # -> 0.19371\n",
    "print('Time with array:', t2) # -> 0.00112\n",
    "print('Ratio', t1/t2) "
   ]
  },
  {
   "cell_type": "code",
   "execution_count": null,
   "id": "f343e161-0834-4c5e-8d41-bf86ce51d80b",
   "metadata": {},
   "outputs": [],
   "source": []
  },
  {
   "cell_type": "code",
   "execution_count": null,
   "id": "64922959-828c-4c3f-906f-e0e1ef7a4302",
   "metadata": {},
   "outputs": [],
   "source": [
    "from timeit import default_timer as timer\n",
    "a = np.random.randn(1000)\n",
    "b = np.random.randn(1000)\n",
    "A = list(a)\n",
    "B = list(b)"
   ]
  },
  {
   "cell_type": "code",
   "execution_count": null,
   "id": "dcb06678-8db1-4ddf-8760-61c6aa1e02c2",
   "metadata": {},
   "outputs": [],
   "source": [
    "# list\n",
    "def dot1():\n",
    " dot = 0\n",
    " for i in range(len(A)):\n",
    "     dot += A[i]*B[i]\n",
    " return dot"
   ]
  },
  {
   "cell_type": "code",
   "execution_count": null,
   "id": "ed16d773-aa1b-4a06-96b1-2cae2fe2b8b1",
   "metadata": {},
   "outputs": [],
   "source": [
    "def dot2():\n",
    "     return np.dot(a,b)"
   ]
  },
  {
   "cell_type": "code",
   "execution_count": 69,
   "id": "52418542-0b56-4a38-9f95-a39308c9eb5d",
   "metadata": {},
   "outputs": [],
   "source": [
    "a = [np.random.randint(100)]"
   ]
  },
  {
   "cell_type": "code",
   "execution_count": 73,
   "id": "394109cd-0824-4d69-96bc-726d1e50ebd6",
   "metadata": {},
   "outputs": [],
   "source": [
    "a = np.array(np.random.randint(100))"
   ]
  },
  {
   "cell_type": "code",
   "execution_count": 75,
   "id": "93efcbd1-b1a0-4a66-9223-0b95a52c1948",
   "metadata": {},
   "outputs": [
    {
     "data": {
      "text/plain": [
       "array(84)"
      ]
     },
     "execution_count": 75,
     "metadata": {},
     "output_type": "execute_result"
    }
   ],
   "source": [
    "a"
   ]
  },
  {
   "cell_type": "code",
   "execution_count": 77,
   "id": "2a42c733-8a19-448e-9d7e-1501a82310c3",
   "metadata": {},
   "outputs": [],
   "source": [
    "a= np.arange(1,100,20)"
   ]
  },
  {
   "cell_type": "code",
   "execution_count": 79,
   "id": "41533d79-69da-4ce1-909c-c496dd9ca580",
   "metadata": {},
   "outputs": [
    {
     "data": {
      "text/plain": [
       "array([ 1, 21, 41, 61, 81])"
      ]
     },
     "execution_count": 79,
     "metadata": {},
     "output_type": "execute_result"
    }
   ],
   "source": [
    "a"
   ]
  },
  {
   "cell_type": "code",
   "execution_count": 95,
   "id": "f66c0ed7-ec53-4a76-9910-21afe14fde72",
   "metadata": {},
   "outputs": [],
   "source": [
    "a = np.array(np.random.rand(1,100))"
   ]
  },
  {
   "cell_type": "code",
   "execution_count": 97,
   "id": "75c07d60-2093-47a2-a886-e383d4721bab",
   "metadata": {},
   "outputs": [
    {
     "data": {
      "text/plain": [
       "array([[[0.27712287, 0.03568047, 0.32337646, ..., 0.37626683,\n",
       "         0.55656789, 0.41755899],\n",
       "        [0.24184682, 0.06344935, 0.46875531, ..., 0.42765494,\n",
       "         0.0415372 , 0.81255449],\n",
       "        [0.75738302, 0.80898936, 0.65714457, ..., 0.81318003,\n",
       "         0.12635713, 0.90790207],\n",
       "        ...,\n",
       "        [0.12751569, 0.44624297, 0.04385702, ..., 0.96584741,\n",
       "         0.35599272, 0.75118972],\n",
       "        [0.56354281, 0.35815465, 0.88559004, ..., 0.98767666,\n",
       "         0.14113165, 0.12426931],\n",
       "        [0.18440653, 0.4125709 , 0.23838883, ..., 0.64471662,\n",
       "         0.30583773, 0.47932284]]])"
      ]
     },
     "execution_count": 97,
     "metadata": {},
     "output_type": "execute_result"
    }
   ],
   "source": [
    "a"
   ]
  },
  {
   "cell_type": "code",
   "execution_count": 99,
   "id": "7ce4945c-9210-4132-a22a-8a773f4a4e56",
   "metadata": {},
   "outputs": [],
   "source": [
    "a = np.array([[[1,2],[2,3],[3,4]],[[1,2],[2,3],[3,4]]])"
   ]
  },
  {
   "cell_type": "code",
   "execution_count": 101,
   "id": "56c58a57-11b3-4562-8eb8-54a90993f8dc",
   "metadata": {},
   "outputs": [
    {
     "data": {
      "text/plain": [
       "array([[[1, 2],\n",
       "        [2, 3],\n",
       "        [3, 4]],\n",
       "\n",
       "       [[1, 2],\n",
       "        [2, 3],\n",
       "        [3, 4]]])"
      ]
     },
     "execution_count": 101,
     "metadata": {},
     "output_type": "execute_result"
    }
   ],
   "source": [
    "a"
   ]
  },
  {
   "cell_type": "code",
   "execution_count": 103,
   "id": "e1d951dc-98a0-4542-993e-404cc945b93b",
   "metadata": {},
   "outputs": [
    {
     "data": {
      "text/plain": [
       "array([1, 2])"
      ]
     },
     "execution_count": 103,
     "metadata": {},
     "output_type": "execute_result"
    }
   ],
   "source": [
    "a[0][0]"
   ]
  },
  {
   "cell_type": "code",
   "execution_count": 109,
   "id": "c45b3ebe-00e8-4ad6-8912-fdb49ad75549",
   "metadata": {},
   "outputs": [
    {
     "data": {
      "text/plain": [
       "array([1, 1])"
      ]
     },
     "execution_count": 109,
     "metadata": {},
     "output_type": "execute_result"
    }
   ],
   "source": [
    "a[0:2,0,0]"
   ]
  },
  {
   "cell_type": "code",
   "execution_count": 111,
   "id": "98dfb1e4-c710-4c25-9dc2-5ab29803005e",
   "metadata": {},
   "outputs": [],
   "source": [
    "a = [[1,2,3],[4,5,6],[7,8,9]]"
   ]
  },
  {
   "cell_type": "code",
   "execution_count": 143,
   "id": "a22ad370-77e6-464e-953b-b8bd4144324b",
   "metadata": {
    "scrolled": true
   },
   "outputs": [
    {
     "data": {
      "text/plain": [
       "[1, 2, 3]"
      ]
     },
     "execution_count": 143,
     "metadata": {},
     "output_type": "execute_result"
    }
   ],
   "source": [
    "a[:3][0]"
   ]
  },
  {
   "cell_type": "code",
   "execution_count": 115,
   "id": "e68b0f7a-459b-4d20-a46e-c819d7fa54b8",
   "metadata": {},
   "outputs": [],
   "source": [
    "b = np.array(a)"
   ]
  },
  {
   "cell_type": "code",
   "execution_count": 147,
   "id": "82289872-966f-4d25-9fd7-ae30d509c96d",
   "metadata": {},
   "outputs": [
    {
     "data": {
      "text/plain": [
       "array([2, 5, 8])"
      ]
     },
     "execution_count": 147,
     "metadata": {},
     "output_type": "execute_result"
    }
   ],
   "source": [
    "# b[:3,0]\n",
    "b[:3,1]"
   ]
  },
  {
   "cell_type": "code",
   "execution_count": 131,
   "id": "500e324b-7dbb-401a-8cb3-176a49a120ca",
   "metadata": {},
   "outputs": [
    {
     "data": {
      "text/plain": [
       "1"
      ]
     },
     "execution_count": 131,
     "metadata": {},
     "output_type": "execute_result"
    }
   ],
   "source": [
    "b[0][0]"
   ]
  },
  {
   "cell_type": "code",
   "execution_count": 167,
   "id": "34ffe103-6d3c-43ca-aee6-03b022cd6fd0",
   "metadata": {},
   "outputs": [
    {
     "ename": "ValueError",
     "evalue": "cannot reshape array of size 9 into shape (1,0)",
     "output_type": "error",
     "traceback": [
      "\u001b[1;31m---------------------------------------------------------------------------\u001b[0m",
      "\u001b[1;31mValueError\u001b[0m                                Traceback (most recent call last)",
      "Cell \u001b[1;32mIn[167], line 1\u001b[0m\n\u001b[1;32m----> 1\u001b[0m d \u001b[38;5;241m=\u001b[39m b\u001b[38;5;241m.\u001b[39mreshape(\u001b[38;5;241m1\u001b[39m,\u001b[38;5;241m0\u001b[39m)\n\u001b[0;32m      2\u001b[0m d\n",
      "\u001b[1;31mValueError\u001b[0m: cannot reshape array of size 9 into shape (1,0)"
     ]
    }
   ],
   "source": [
    "d = b.reshape(1,0)\n",
    "d"
   ]
  },
  {
   "cell_type": "code",
   "execution_count": 177,
   "id": "200b76ea-f65b-48ca-a8fd-cd6760d344ce",
   "metadata": {},
   "outputs": [
    {
     "data": {
      "text/plain": [
       "array([[[1, 2],\n",
       "        [3, 4]],\n",
       "\n",
       "       [[5, 6],\n",
       "        [7, 8]]])"
      ]
     },
     "execution_count": 177,
     "metadata": {},
     "output_type": "execute_result"
    }
   ],
   "source": [
    "a = np.array([1,2,3,4,5,6,7,8])\n",
    "d = a.reshape((2,2,2))\n",
    "d"
   ]
  },
  {
   "cell_type": "code",
   "execution_count": 225,
   "id": "15d5f5ac-90ab-4d9f-ada9-608879c101ec",
   "metadata": {},
   "outputs": [],
   "source": [
    "x = np.array([[1,2,3], [4,5,6], [7,8,9], [10, 11, 12]])\n",
    "y = np.array([[2,2,2],[1,1,1]])"
   ]
  },
  {
   "cell_type": "code",
   "execution_count": 227,
   "id": "4f45dc70-a258-434b-8dbb-14dbcc5d7743",
   "metadata": {},
   "outputs": [
    {
     "ename": "ValueError",
     "evalue": "operands could not be broadcast together with shapes (2,3) (4,3) ",
     "output_type": "error",
     "traceback": [
      "\u001b[1;31m---------------------------------------------------------------------------\u001b[0m",
      "\u001b[1;31mValueError\u001b[0m                                Traceback (most recent call last)",
      "Cell \u001b[1;32mIn[227], line 1\u001b[0m\n\u001b[1;32m----> 1\u001b[0m z \u001b[38;5;241m=\u001b[39m y\u001b[38;5;241m+\u001b[39mx\n",
      "\u001b[1;31mValueError\u001b[0m: operands could not be broadcast together with shapes (2,3) (4,3) "
     ]
    }
   ],
   "source": [
    "z = y+x"
   ]
  },
  {
   "cell_type": "code",
   "execution_count": 203,
   "id": "f74cc6f3-c36b-42cf-94b1-3e51c4da3e1c",
   "metadata": {},
   "outputs": [
    {
     "data": {
      "text/plain": [
       "array([[ 2,  2,  4],\n",
       "       [ 5,  5,  7],\n",
       "       [ 8,  8, 10],\n",
       "       [11, 11, 13]])"
      ]
     },
     "execution_count": 203,
     "metadata": {},
     "output_type": "execute_result"
    }
   ],
   "source": [
    "z"
   ]
  },
  {
   "cell_type": "code",
   "execution_count": null,
   "id": "65ca5c6c-9615-4d4f-b0a6-f531424e10c4",
   "metadata": {},
   "outputs": [],
   "source": []
  }
 ],
 "metadata": {
  "kernelspec": {
   "display_name": "Python 3 (ipykernel)",
   "language": "python",
   "name": "python3"
  },
  "language_info": {
   "codemirror_mode": {
    "name": "ipython",
    "version": 3
   },
   "file_extension": ".py",
   "mimetype": "text/x-python",
   "name": "python",
   "nbconvert_exporter": "python",
   "pygments_lexer": "ipython3",
   "version": "3.12.4"
  }
 },
 "nbformat": 4,
 "nbformat_minor": 5
}
