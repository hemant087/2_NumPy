{
 "cells": [
  {
   "cell_type": "markdown",
   "id": "41a403d8-8c13-44d2-be07-b7ef32088616",
   "metadata": {},
   "source": [
    "1. Import numpy as np and see the version\r\n",
    "Difficulty Level: L1\r\n",
    "\r\n",
    "Q. Import numpy as np and print the version number."
   ]
  },
  {
   "cell_type": "code",
   "execution_count": 2,
   "id": "cbe42ea7-e9f9-4d3a-8862-ff13d705d109",
   "metadata": {},
   "outputs": [],
   "source": [
    "import numpy as np\n",
    "a = np.array([0, 1, 2, 3, 4, 5, 6, 7, 8, 9])"
   ]
  },
  {
   "cell_type": "code",
   "execution_count": 57,
   "id": "9dbb4034-db7a-4880-b8be-850a4c4239cc",
   "metadata": {},
   "outputs": [
    {
     "data": {
      "text/plain": [
       "array([ 0,  1,  2,  3,  4, -1, -1, -1, -1, -1])"
      ]
     },
     "execution_count": 57,
     "metadata": {},
     "output_type": "execute_result"
    }
   ],
   "source": [
    "np.where((a<5) & (8>a),a,-1)"
   ]
  },
  {
   "cell_type": "markdown",
   "id": "6840a100-7ba3-412f-973e-dddfc7afe662",
   "metadata": {},
   "source": [
    "8. How to stack two arrays vertically?\r\n",
    "Difficulty Level: L2\r\n",
    "\r\n",
    "Q. Stack arrays a and b vertically\r\n",
    "\r\n",
    "Input\r\n",
    "\r\n",
    "a = np.arange(10).reshape(2,-1)\r\n",
    "b = np.repeat(1, 10).reshape(2,-1)\r\n",
    "Desired Output:\r\n",
    "\r\n",
    "#> array([[0, 1, 2, 3, 4],\r\n",
    "#>        [5, 6, 7, 8, 9],\r\n",
    "#>        [1, 1, 1, 1, 1],\r\n",
    "#>        [1, 1, 1, 1, 1]])"
   ]
  },
  {
   "cell_type": "code",
   "execution_count": 61,
   "id": "93065fd5-b0b0-4995-9a56-66bc9aabdeb5",
   "metadata": {},
   "outputs": [
    {
     "data": {
      "text/plain": [
       "array([[0, 1, 2, 3, 4],\n",
       "       [5, 6, 7, 8, 9]])"
      ]
     },
     "execution_count": 61,
     "metadata": {},
     "output_type": "execute_result"
    }
   ],
   "source": [
    "a = np.arange(10).reshape(2,-1)\n",
    "a"
   ]
  },
  {
   "cell_type": "code",
   "execution_count": 63,
   "id": "14a06a9a-a1be-46ce-9de0-f3943f255298",
   "metadata": {},
   "outputs": [
    {
     "data": {
      "text/plain": [
       "array([[1, 1, 1, 1, 1],\n",
       "       [1, 1, 1, 1, 1]])"
      ]
     },
     "execution_count": 63,
     "metadata": {},
     "output_type": "execute_result"
    }
   ],
   "source": [
    "b = np.repeat(1, 10).reshape(2,-1)\n",
    "b"
   ]
  },
  {
   "cell_type": "code",
   "execution_count": 65,
   "id": "39e76ecd-aad6-4cd8-8e1d-4bf6de186f5d",
   "metadata": {},
   "outputs": [],
   "source": [
    "ab = np.stack((a,b))"
   ]
  },
  {
   "cell_type": "code",
   "execution_count": 69,
   "id": "e85ea3cd-3628-4d22-b4cb-c609b11702b5",
   "metadata": {},
   "outputs": [
    {
     "data": {
      "text/plain": [
       "(2, 2, 5)"
      ]
     },
     "execution_count": 69,
     "metadata": {},
     "output_type": "execute_result"
    }
   ],
   "source": [
    "ab.shape"
   ]
  },
  {
   "cell_type": "code",
   "execution_count": 71,
   "id": "c105a8f0-e663-448b-82cf-c2edea806148",
   "metadata": {},
   "outputs": [],
   "source": [
    "ad = np.hstack((a,b))"
   ]
  },
  {
   "cell_type": "code",
   "execution_count": 73,
   "id": "cfa5e2c2-04c3-4ad0-88a9-1200aa603e38",
   "metadata": {},
   "outputs": [
    {
     "data": {
      "text/plain": [
       "array([[0, 1, 2, 3, 4, 1, 1, 1, 1, 1],\n",
       "       [5, 6, 7, 8, 9, 1, 1, 1, 1, 1]])"
      ]
     },
     "execution_count": 73,
     "metadata": {},
     "output_type": "execute_result"
    }
   ],
   "source": [
    "ad"
   ]
  },
  {
   "cell_type": "code",
   "execution_count": 75,
   "id": "e75eaa59-d937-41d5-a7fb-15113269a753",
   "metadata": {},
   "outputs": [
    {
     "data": {
      "text/plain": [
       "(2, 10)"
      ]
     },
     "execution_count": 75,
     "metadata": {},
     "output_type": "execute_result"
    }
   ],
   "source": [
    "ad.shape"
   ]
  },
  {
   "cell_type": "markdown",
   "id": "58f3f191-d847-43ba-9cb9-fe743623c0eb",
   "metadata": {},
   "source": [
    "10. How to generate custom sequences in numpy without hardcoding?\r\n",
    "Difficulty Level: L2\r\n",
    "\r\n",
    "Q. Create the following pattern without hardcoding. Use only numpy functions and the below input array a.\r\n",
    "\r\n",
    "Input:\r\n",
    "\r\n",
    "a = np.array([1,2,3])`\r\n",
    "Desired Output:\r\n",
    "\r\n",
    "#> array([1, 1, 1, 2, 2, 2, 3, 3, 3, 1, 2, 3, 1, 2, 3, 1, 2, 3])"
   ]
  },
  {
   "cell_type": "code",
   "execution_count": 132,
   "id": "e28790c9-6d93-4744-8350-3f5419e7ae5a",
   "metadata": {},
   "outputs": [],
   "source": [
    "a = np.array([1,2,3])"
   ]
  },
  {
   "cell_type": "code",
   "execution_count": 144,
   "id": "de775ad3-eed2-418f-9198-2056b9f7c6c8",
   "metadata": {},
   "outputs": [],
   "source": [
    "b = np.repeat(a,3)\n",
    "c = np.hstack((b,a,a,a))"
   ]
  },
  {
   "cell_type": "code",
   "execution_count": 146,
   "id": "c1dbedda-d5c2-4eef-9a80-a60cf73f6d5d",
   "metadata": {},
   "outputs": [
    {
     "data": {
      "text/plain": [
       "array([1, 1, 1, 2, 2, 2, 3, 3, 3, 1, 2, 3, 1, 2, 3, 1, 2, 3])"
      ]
     },
     "execution_count": 146,
     "metadata": {},
     "output_type": "execute_result"
    }
   ],
   "source": [
    "c"
   ]
  },
  {
   "cell_type": "code",
   "execution_count": 156,
   "id": "2f5c6e79-c7f1-41cd-a6eb-84ae45a1e5fc",
   "metadata": {},
   "outputs": [
    {
     "data": {
      "text/plain": [
       "array([1, 1, 1, 2, 2, 2, 3, 3, 3, 1, 2, 3, 1, 2, 3, 1, 2, 3])"
      ]
     },
     "execution_count": 156,
     "metadata": {},
     "output_type": "execute_result"
    }
   ],
   "source": [
    "np.r_[np.repeat(a,3),np.tile(a,3)]"
   ]
  },
  {
   "cell_type": "markdown",
   "id": "7b036cd6-5470-42e5-b473-28c1a978e651",
   "metadata": {},
   "source": [
    "12. How to remove from one array those items that exist in another?\r\n",
    "Difficulty Level: L2\r\n",
    "\r\n",
    "Q. From array a remove all items present in array b\r\n",
    "\r\n",
    "Input:\r\n",
    "\r\n",
    "a = np.array([1,2,3,4,5])\r\n",
    "b = np.array([5,6,7,8,9])\r\n",
    "Desired Output:\r\n",
    "\r\n",
    "array([1,2,3,4])"
   ]
  },
  {
   "cell_type": "code",
   "execution_count": 159,
   "id": "7e551395-7173-41bd-ac86-6100c04fe679",
   "metadata": {},
   "outputs": [],
   "source": [
    "a = np.array([1,2,3,4,5])\n",
    "b = np.array([5,6,7,8,9])"
   ]
  },
  {
   "cell_type": "code",
   "execution_count": 161,
   "id": "7747cb3d-dff2-46ce-99bd-455cdaee6578",
   "metadata": {},
   "outputs": [
    {
     "data": {
      "text/plain": [
       "array([1, 2, 3, 4, 5, 6, 7, 8, 9])"
      ]
     },
     "execution_count": 161,
     "metadata": {},
     "output_type": "execute_result"
    }
   ],
   "source": [
    "np.union1d(a,b)"
   ]
  },
  {
   "cell_type": "markdown",
   "id": "8bad32b2-927f-4f8a-83d9-54c2c126d582",
   "metadata": {},
   "source": [
    "### Boolean Indexing"
   ]
  },
  {
   "cell_type": "code",
   "execution_count": 166,
   "id": "0697fc8a-9251-4515-a36b-cf54ace2b8ef",
   "metadata": {},
   "outputs": [],
   "source": [
    "arr = np.random.randint(1,20,10)"
   ]
  },
  {
   "cell_type": "code",
   "execution_count": 168,
   "id": "a5adbe89-3d27-4061-9d3f-3e1052750b5e",
   "metadata": {},
   "outputs": [
    {
     "data": {
      "text/plain": [
       "array([11, 11,  7,  2, 10, 16, 12, 13,  8,  6])"
      ]
     },
     "execution_count": 168,
     "metadata": {},
     "output_type": "execute_result"
    }
   ],
   "source": [
    "arr"
   ]
  },
  {
   "cell_type": "code",
   "execution_count": 206,
   "id": "570e45cc-24a1-4183-87fe-527bfbef7822",
   "metadata": {},
   "outputs": [
    {
     "data": {
      "text/plain": [
       "array([11, 11, 16, 12, 13])"
      ]
     },
     "execution_count": 206,
     "metadata": {},
     "output_type": "execute_result"
    }
   ],
   "source": [
    "inx = arr[(arr>5) & (10<arr)]\n",
    "inx"
   ]
  },
  {
   "cell_type": "code",
   "execution_count": 202,
   "id": "d0b669c2-a756-45b6-b165-335993827a20",
   "metadata": {},
   "outputs": [
    {
     "data": {
      "text/plain": [
       "(array([0, 1, 5, 6, 7], dtype=int64),)"
      ]
     },
     "execution_count": 202,
     "metadata": {},
     "output_type": "execute_result"
    }
   ],
   "source": [
    "np.where((arr>5) & (10<arr))"
   ]
  },
  {
   "cell_type": "code",
   "execution_count": 204,
   "id": "c7b6a48f-016f-4005-8ef2-fc9b1811f989",
   "metadata": {},
   "outputs": [
    {
     "data": {
      "text/plain": [
       "(array([0, 1, 2, 4, 5, 6, 7, 8, 9], dtype=int64),)"
      ]
     },
     "execution_count": 204,
     "metadata": {},
     "output_type": "execute_result"
    }
   ],
   "source": [
    "np.where((arr>5) | (10<arr))"
   ]
  },
  {
   "cell_type": "markdown",
   "id": "c297ead1-d0ae-45f5-8e32-f87b99394152",
   "metadata": {},
   "source": [
    "12. How to remove from one array those items that exist in another?\r\n",
    "Difficulty Level: L2\r\n",
    "\r\n",
    "Q. From array a remove all items present in array b\r\n",
    "\r\n",
    "Input:\r\n",
    "\r\n",
    "a = np.array([1,2,3,4,5])\r\n",
    "b = np.array([5,6,7,8,9])\r\n",
    "Desired Output:\r\n",
    "\r\n",
    "array([1,2,3,4])"
   ]
  },
  {
   "cell_type": "code",
   "execution_count": 209,
   "id": "f5608145-431a-495e-a5cb-c1401bb6c3fe",
   "metadata": {},
   "outputs": [],
   "source": [
    "a = np.array([1,2,3,4,5])\n",
    "b = np.array([5,6,7,8,9])"
   ]
  },
  {
   "cell_type": "code",
   "execution_count": 227,
   "id": "cabc49b4-3364-4fb1-8c98-93895a56e764",
   "metadata": {},
   "outputs": [
    {
     "data": {
      "text/plain": [
       "array([6, 7, 8, 9])"
      ]
     },
     "execution_count": 227,
     "metadata": {},
     "output_type": "execute_result"
    }
   ],
   "source": [
    "b[~np.isin(b,a)]"
   ]
  },
  {
   "cell_type": "markdown",
   "id": "63e5c559-7ad6-4429-a73a-74e8f698ebbe",
   "metadata": {},
   "source": [
    "13. How to get the positions where elements of two arrays match?\r\n",
    "Difficulty Level: L2\r\n",
    "\r\n",
    "Q. Get the positions where elements of a and b match\r\n",
    "\r\n",
    "Input:\r\n",
    "\r\n",
    "a = np.array([1,2,3,2,3,4,3,4,5,6])\r\n",
    "b = np.array([7,2,10,2,7,4,9,4,9,8])\r\n",
    "Desired Output:\r\n",
    "\r\n",
    "#> (array([1, 3, 5, 7]),)"
   ]
  },
  {
   "cell_type": "code",
   "execution_count": 230,
   "id": "dfb4980d-9f9c-482e-be48-4cbc4b5de362",
   "metadata": {},
   "outputs": [],
   "source": [
    "a = np.array([1,2,3,2,3,4,3,4,5,6])\n",
    "b = np.array([7,2,10,2,7,4,9,4,9,8])"
   ]
  },
  {
   "cell_type": "code",
   "execution_count": 240,
   "id": "543531bb-22b4-44af-8f74-5a60c54a215d",
   "metadata": {},
   "outputs": [
    {
     "data": {
      "text/plain": [
       "(array([1, 3, 5, 7], dtype=int64),)"
      ]
     },
     "execution_count": 240,
     "metadata": {},
     "output_type": "execute_result"
    }
   ],
   "source": [
    "np.where(a==b)"
   ]
  },
  {
   "cell_type": "code",
   "execution_count": null,
   "id": "4fd2267f-eddd-4958-8268-507ad988e1e8",
   "metadata": {},
   "outputs": [],
   "source": []
  },
  {
   "cell_type": "code",
   "execution_count": null,
   "id": "2f4446a0-29ee-4a3d-bee2-3dee5eecfff3",
   "metadata": {},
   "outputs": [],
   "source": []
  },
  {
   "cell_type": "code",
   "execution_count": null,
   "id": "86281870-5c02-47ed-bd8f-fe0793eacb0d",
   "metadata": {},
   "outputs": [],
   "source": []
  },
  {
   "cell_type": "code",
   "execution_count": 262,
   "id": "c77799ba-305b-45a9-be8a-a42d886073e4",
   "metadata": {},
   "outputs": [],
   "source": [
    "a = np.array([2, 6, 1,4,5,7, 9, 10, 3, 27])"
   ]
  },
  {
   "cell_type": "code",
   "execution_count": 264,
   "id": "42a449f9-fae2-4602-9a2d-79b269e7fe90",
   "metadata": {},
   "outputs": [
    {
     "data": {
      "text/plain": [
       "array([ 2,  6,  1,  4,  5,  7,  9, 10,  3, 27])"
      ]
     },
     "execution_count": 264,
     "metadata": {},
     "output_type": "execute_result"
    }
   ],
   "source": [
    "a"
   ]
  },
  {
   "cell_type": "code",
   "execution_count": 276,
   "id": "191664f6-3e50-40f5-bf3c-74f5e38b9d5b",
   "metadata": {},
   "outputs": [
    {
     "data": {
      "text/plain": [
       "array([ 6,  7,  9, 10])"
      ]
     },
     "execution_count": 276,
     "metadata": {},
     "output_type": "execute_result"
    }
   ],
   "source": [
    "a[np.where(((a>5) & (10>=a)),True, False)]"
   ]
  },
  {
   "cell_type": "code",
   "execution_count": 280,
   "id": "7b7dd335-e904-4bf3-bc90-4899bf6f5d1e",
   "metadata": {},
   "outputs": [
    {
     "data": {
      "text/plain": [
       "array([ 6,  7,  9, 10])"
      ]
     },
     "execution_count": 280,
     "metadata": {},
     "output_type": "execute_result"
    }
   ],
   "source": [
    "a[(a>5) & (10>=a)]"
   ]
  },
  {
   "cell_type": "code",
   "execution_count": null,
   "id": "64360a1d-0e0b-49de-94e7-d3371cb0f0e6",
   "metadata": {},
   "outputs": [],
   "source": []
  },
  {
   "cell_type": "code",
   "execution_count": null,
   "id": "203c9201-c670-4ed8-8b96-dc1b624687e8",
   "metadata": {},
   "outputs": [],
   "source": []
  },
  {
   "cell_type": "code",
   "execution_count": null,
   "id": "32fa4f26-492c-4f3a-8c6c-2f1766ef67dc",
   "metadata": {},
   "outputs": [],
   "source": []
  },
  {
   "cell_type": "code",
   "execution_count": null,
   "id": "242cada6-4012-4a6d-bc7b-37fc519ce838",
   "metadata": {},
   "outputs": [],
   "source": []
  },
  {
   "cell_type": "code",
   "execution_count": 292,
   "id": "99edb17c-20a6-4dc0-8a07-434855bc3847",
   "metadata": {},
   "outputs": [
    {
     "data": {
      "text/plain": [
       "array([[0.07364173, 0.41602934, 0.86673246],\n",
       "       [0.91252471, 0.69705443, 0.02494533]])"
      ]
     },
     "execution_count": 292,
     "metadata": {},
     "output_type": "execute_result"
    }
   ],
   "source": [
    "np.random.rand(2,3)"
   ]
  },
  {
   "cell_type": "code",
   "execution_count": 298,
   "id": "e2d88867-abbc-4322-ac2d-754d6c910063",
   "metadata": {},
   "outputs": [
    {
     "data": {
      "text/plain": [
       "array([[4, 7, 6],\n",
       "       [5, 4, 2]])"
      ]
     },
     "execution_count": 298,
     "metadata": {},
     "output_type": "execute_result"
    }
   ],
   "source": [
    "np.random.randint(1,10,(2,3))"
   ]
  },
  {
   "cell_type": "code",
   "execution_count": 312,
   "id": "8740e661-37b5-4154-a8c1-a87623b5105e",
   "metadata": {},
   "outputs": [
    {
     "data": {
      "text/plain": [
       "array([6.11157676, 6.73258771, 3.01209926, 2.95673482, 3.34282194,\n",
       "       4.78433717, 8.53749583, 5.34245377, 3.25318163, 2.26875909])"
      ]
     },
     "execution_count": 312,
     "metadata": {},
     "output_type": "execute_result"
    }
   ],
   "source": [
    "np.random.uniform(1,10,10)"
   ]
  },
  {
   "cell_type": "code",
   "execution_count": 306,
   "id": "a7f9690c-2a7e-4d41-b9a6-c3143901db94",
   "metadata": {},
   "outputs": [
    {
     "data": {
      "text/plain": [
       "array([1, 2, 3, 4, 5, 6, 7, 8, 9])"
      ]
     },
     "execution_count": 306,
     "metadata": {},
     "output_type": "execute_result"
    }
   ],
   "source": [
    "np.arange(1,10)"
   ]
  },
  {
   "cell_type": "code",
   "execution_count": 308,
   "id": "934465a5-35a3-4c58-b048-1b9ffa0cde99",
   "metadata": {},
   "outputs": [
    {
     "data": {
      "text/plain": [
       "array([ 1.  ,  3.25,  5.5 ,  7.75, 10.  ])"
      ]
     },
     "execution_count": 308,
     "metadata": {},
     "output_type": "execute_result"
    }
   ],
   "source": [
    "np.linspace(1,10,5)"
   ]
  },
  {
   "cell_type": "code",
   "execution_count": 18,
   "id": "d56f68db-7838-47a8-9c61-5254132983c6",
   "metadata": {},
   "outputs": [],
   "source": [
    "arr = np.random.uniform(1,10,10)"
   ]
  },
  {
   "cell_type": "code",
   "execution_count": 328,
   "id": "c2e8805d-ee5b-4f55-bbb1-9d320790af36",
   "metadata": {},
   "outputs": [
    {
     "data": {
      "text/plain": [
       "array([5.428, 4.349, 5.77 , 2.673, 7.252, 7.879, 2.113, 9.428, 2.379,\n",
       "       5.023])"
      ]
     },
     "execution_count": 328,
     "metadata": {},
     "output_type": "execute_result"
    }
   ],
   "source": [
    "# np.around(arr, decimals=3)"
   ]
  },
  {
   "cell_type": "code",
   "execution_count": 28,
   "id": "d1dc5390-752d-4784-bb63-0b23ca364e3c",
   "metadata": {},
   "outputs": [
    {
     "data": {
      "text/plain": [
       "array([7.51705056, 6.01897241, 2.16312444, 3.17914869, 9.31962498,\n",
       "       3.99476954, 9.09204424, 9.32804255, 3.79187345, 3.66817646])"
      ]
     },
     "execution_count": 28,
     "metadata": {},
     "output_type": "execute_result"
    }
   ],
   "source": [
    "np.set_printoptions(precision=8,suppress=True)\n",
    "arr"
   ]
  },
  {
   "cell_type": "code",
   "execution_count": 30,
   "id": "6a02f85b-67be-4f1f-a94b-9ed483ad6598",
   "metadata": {},
   "outputs": [
    {
     "data": {
      "text/plain": [
       "array([[0.0005434 , 0.00027837, 0.00042452],\n",
       "       [0.00084478, 0.00000472, 0.00012157],\n",
       "       [0.00067075, 0.00082585, 0.00013671]])"
      ]
     },
     "execution_count": 30,
     "metadata": {},
     "output_type": "execute_result"
    }
   ],
   "source": [
    "np.random.seed(100)\n",
    "rand_arr = np.random.random([3,3])/1e3\n",
    "rand_arr"
   ]
  },
  {
   "cell_type": "code",
   "execution_count": 44,
   "id": "2fc8921d-edb1-4d75-9ba6-61bc5d7943a0",
   "metadata": {},
   "outputs": [
    {
     "data": {
      "text/plain": [
       "array([7.51705056, 6.01897241, 2.16312444, 3.17914869, 9.31962498,\n",
       "       3.99476954, 9.09204424, 9.32804255, 3.79187345, 3.66817646])"
      ]
     },
     "execution_count": 44,
     "metadata": {},
     "output_type": "execute_result"
    }
   ],
   "source": [
    "arr"
   ]
  },
  {
   "cell_type": "code",
   "execution_count": 103,
   "id": "2696e019-8af8-430f-b216-a62ef26b0121",
   "metadata": {},
   "outputs": [
    {
     "data": {
      "text/plain": [
       "3.17914868714368"
      ]
     },
     "execution_count": 103,
     "metadata": {},
     "output_type": "execute_result"
    }
   ],
   "source": [
    "np.random.seed(10000000)\n",
    "np.random.choice(arr)"
   ]
  },
  {
   "cell_type": "code",
   "execution_count": 105,
   "id": "4d7fccce-56cc-47af-932e-5a9dbd4222a4",
   "metadata": {},
   "outputs": [
    {
     "data": {
      "text/plain": [
       "array([7.51705056, 6.01897241, 2.16312444, 3.17914869, 9.31962498,\n",
       "       3.99476954, 9.09204424, 9.32804255, 3.79187345, 3.66817646])"
      ]
     },
     "execution_count": 105,
     "metadata": {},
     "output_type": "execute_result"
    }
   ],
   "source": [
    "arr"
   ]
  },
  {
   "cell_type": "code",
   "execution_count": 127,
   "id": "b8a9b56c-1187-4810-8224-4335b3fa2995",
   "metadata": {},
   "outputs": [],
   "source": [
    "np.set_printoptions(threshold=6)"
   ]
  },
  {
   "cell_type": "code",
   "execution_count": 129,
   "id": "5fc175f3-3d96-4cfe-b67b-72e3486c61da",
   "metadata": {},
   "outputs": [
    {
     "data": {
      "text/plain": [
       "array([7.5, 6. , 2.2, ..., 9.3, 3.8, 3.7])"
      ]
     },
     "execution_count": 129,
     "metadata": {},
     "output_type": "execute_result"
    }
   ],
   "source": [
    "arr"
   ]
  },
  {
   "cell_type": "code",
   "execution_count": 135,
   "id": "aa42556e-36f4-4476-8a71-2faaae382998",
   "metadata": {},
   "outputs": [
    {
     "data": {
      "text/plain": [
       "array([7.5, 6. , 2.2, 3.2, 9.3, 4. , 9.1, 9.3, 3.8, 3.7])"
      ]
     },
     "execution_count": 135,
     "metadata": {},
     "output_type": "execute_result"
    }
   ],
   "source": [
    "np.set_printoptions(threshold=len(arr))\n",
    "arr"
   ]
  },
  {
   "cell_type": "markdown",
   "id": "382af054-30f0-4e7c-9700-2e775356dbf1",
   "metadata": {},
   "source": [
    "25. How to import a dataset with numbers and texts keeping the text intact in python numpy?\r\n",
    "Difficulty Level: L2\r\n",
    "\r\n",
    "Q. Import the iris dataset keeping the text intact."
   ]
  },
  {
   "cell_type": "code",
   "execution_count": 138,
   "id": "23091aa1-2670-4e75-b810-0da31286603c",
   "metadata": {},
   "outputs": [],
   "source": [
    "url = 'https://archive.ics.uci.edu/ml/machine-learning-databases/iris/iris.data'"
   ]
  },
  {
   "cell_type": "code",
   "execution_count": 144,
   "id": "7726e36c-2185-4f56-97e7-ca17f55c6754",
   "metadata": {},
   "outputs": [],
   "source": [
    "import pandas as pd \n",
    "df = pd.read_csv(url,delimiter=\",\")"
   ]
  },
  {
   "cell_type": "code",
   "execution_count": 174,
   "id": "58e1dfbc-b43a-4832-8927-1d0bc0dfe3ac",
   "metadata": {},
   "outputs": [
    {
     "name": "stdout",
     "output_type": "stream",
     "text": [
      "<class 'pandas.core.frame.DataFrame'>\n",
      "RangeIndex: 149 entries, 0 to 148\n",
      "Data columns (total 5 columns):\n",
      " #   Column       Non-Null Count  Dtype  \n",
      "---  ------       --------------  -----  \n",
      " 0   5.1          149 non-null    float64\n",
      " 1   3.5          149 non-null    float64\n",
      " 2   1.4          149 non-null    float64\n",
      " 3   0.2          149 non-null    float64\n",
      " 4   Iris-setosa  149 non-null    object \n",
      "dtypes: float64(4), object(1)\n",
      "memory usage: 5.9+ KB\n"
     ]
    }
   ],
   "source": [
    "df.info()"
   ]
  },
  {
   "cell_type": "code",
   "execution_count": 176,
   "id": "9d0439bc-ecb2-4c46-a207-8abe280bc047",
   "metadata": {},
   "outputs": [],
   "source": [
    "data = np.genfromtxt(url,delimiter=\",\",dtype=object)"
   ]
  },
  {
   "cell_type": "code",
   "execution_count": 182,
   "id": "9bd5bbce-309c-44a5-a926-11b7f2e488e6",
   "metadata": {},
   "outputs": [
    {
     "data": {
      "text/plain": [
       "array([b'0.2', b'0.2', b'0.2', ..., b'2.0', b'2.3', b'1.8'], dtype=object)"
      ]
     },
     "execution_count": 182,
     "metadata": {},
     "output_type": "execute_result"
    }
   ],
   "source": [
    "data[:,3]"
   ]
  },
  {
   "cell_type": "code",
   "execution_count": 184,
   "id": "04f2f03b-87db-4959-8abf-49824444564c",
   "metadata": {},
   "outputs": [
    {
     "data": {
      "text/plain": [
       "array([7.5, 6. , 2.2, 3.2, 9.3, 4. , 9.1, 9.3, 3.8, 3.7])"
      ]
     },
     "execution_count": 184,
     "metadata": {},
     "output_type": "execute_result"
    }
   ],
   "source": [
    "arr"
   ]
  },
  {
   "cell_type": "code",
   "execution_count": 190,
   "id": "f5385984-5d82-4a2f-b769-c2a75fde8795",
   "metadata": {},
   "outputs": [
    {
     "data": {
      "text/plain": [
       "array([9.3, 9.3])"
      ]
     },
     "execution_count": 190,
     "metadata": {},
     "output_type": "execute_result"
    }
   ],
   "source": [
    "position = np.random.choice(arr,2)\n",
    "position"
   ]
  },
  {
   "cell_type": "code",
   "execution_count": null,
   "id": "514270cf-e1a7-4688-bd88-6c8e364a7821",
   "metadata": {},
   "outputs": [],
   "source": []
  },
  {
   "cell_type": "code",
   "execution_count": 17,
   "id": "066ae7af-1c54-4077-9e83-0b756684e4a0",
   "metadata": {},
   "outputs": [
    {
     "data": {
      "text/plain": [
       "array([[1, 2, 3, 4],\n",
       "       [5, 6, 7, 8]])"
      ]
     },
     "execution_count": 17,
     "metadata": {},
     "output_type": "execute_result"
    }
   ],
   "source": [
    "arr = [(1,2),(3,4),(5,6),(7,8)]\n",
    "arr = np.array(arr)\n",
    "arr.reshape(2,4)"
   ]
  },
  {
   "cell_type": "code",
   "execution_count": 22,
   "id": "0e8e49ed-1cd1-461b-b4b8-df797aa463ee",
   "metadata": {},
   "outputs": [
    {
     "data": {
      "text/plain": [
       "array([[1, 3],\n",
       "       [5, 7],\n",
       "       [2, 4],\n",
       "       [6, 8]])"
      ]
     },
     "execution_count": 22,
     "metadata": {},
     "output_type": "execute_result"
    }
   ],
   "source": [
    "arr.transpose().reshape(4,2)"
   ]
  },
  {
   "cell_type": "code",
   "execution_count": 7,
   "id": "8e16b552-d89a-41b2-b0d0-2fc5aa93f4cb",
   "metadata": {},
   "outputs": [
    {
     "data": {
      "text/plain": [
       "(1, 2)"
      ]
     },
     "execution_count": 7,
     "metadata": {},
     "output_type": "execute_result"
    }
   ],
   "source": [
    "arr[0]"
   ]
  },
  {
   "cell_type": "code",
   "execution_count": 9,
   "id": "fb2b1154-c618-4a8d-a46f-91c535a8cb8e",
   "metadata": {},
   "outputs": [
    {
     "data": {
      "text/plain": [
       "1"
      ]
     },
     "execution_count": 9,
     "metadata": {},
     "output_type": "execute_result"
    }
   ],
   "source": [
    "arr[0][0]"
   ]
  },
  {
   "cell_type": "code",
   "execution_count": null,
   "id": "0a2ec5c8-e9c6-4bb2-a25d-710b4dea0ac5",
   "metadata": {},
   "outputs": [],
   "source": []
  },
  {
   "cell_type": "code",
   "execution_count": 29,
   "id": "ebb586ae-5910-4dcf-bb7d-e9bcdb836a82",
   "metadata": {},
   "outputs": [],
   "source": [
    "url = 'https://archive.ics.uci.edu/ml/machine-learning-databases/iris/iris.data'\n",
    "data = np.genfromtxt(url, delimiter=',', dtype=object)"
   ]
  },
  {
   "cell_type": "code",
   "execution_count": 31,
   "id": "81ede17f-7e0d-4e76-8b78-99acac37466b",
   "metadata": {},
   "outputs": [
    {
     "data": {
      "text/plain": [
       "array([[b'5.1', b'3.5', b'1.4', b'0.2', b'Iris-setosa'],\n",
       "       [b'4.9', b'3.0', b'1.4', b'0.2', b'Iris-setosa'],\n",
       "       [b'4.7', b'3.2', b'1.3', b'0.2', b'Iris-setosa'],\n",
       "       [b'4.6', b'3.1', b'1.5', b'0.2', b'Iris-setosa'],\n",
       "       [b'5.0', b'3.6', b'1.4', b'0.2', b'Iris-setosa'],\n",
       "       [b'5.4', b'3.9', b'1.7', b'0.4', b'Iris-setosa'],\n",
       "       [b'4.6', b'3.4', b'1.4', b'0.3', b'Iris-setosa'],\n",
       "       [b'5.0', b'3.4', b'1.5', b'0.2', b'Iris-setosa'],\n",
       "       [b'4.4', b'2.9', b'1.4', b'0.2', b'Iris-setosa'],\n",
       "       [b'4.9', b'3.1', b'1.5', b'0.1', b'Iris-setosa'],\n",
       "       [b'5.4', b'3.7', b'1.5', b'0.2', b'Iris-setosa'],\n",
       "       [b'4.8', b'3.4', b'1.6', b'0.2', b'Iris-setosa'],\n",
       "       [b'4.8', b'3.0', b'1.4', b'0.1', b'Iris-setosa'],\n",
       "       [b'4.3', b'3.0', b'1.1', b'0.1', b'Iris-setosa'],\n",
       "       [b'5.8', b'4.0', b'1.2', b'0.2', b'Iris-setosa'],\n",
       "       [b'5.7', b'4.4', b'1.5', b'0.4', b'Iris-setosa'],\n",
       "       [b'5.4', b'3.9', b'1.3', b'0.4', b'Iris-setosa'],\n",
       "       [b'5.1', b'3.5', b'1.4', b'0.3', b'Iris-setosa'],\n",
       "       [b'5.7', b'3.8', b'1.7', b'0.3', b'Iris-setosa'],\n",
       "       [b'5.1', b'3.8', b'1.5', b'0.3', b'Iris-setosa'],\n",
       "       [b'5.4', b'3.4', b'1.7', b'0.2', b'Iris-setosa'],\n",
       "       [b'5.1', b'3.7', b'1.5', b'0.4', b'Iris-setosa'],\n",
       "       [b'4.6', b'3.6', b'1.0', b'0.2', b'Iris-setosa'],\n",
       "       [b'5.1', b'3.3', b'1.7', b'0.5', b'Iris-setosa'],\n",
       "       [b'4.8', b'3.4', b'1.9', b'0.2', b'Iris-setosa'],\n",
       "       [b'5.0', b'3.0', b'1.6', b'0.2', b'Iris-setosa'],\n",
       "       [b'5.0', b'3.4', b'1.6', b'0.4', b'Iris-setosa'],\n",
       "       [b'5.2', b'3.5', b'1.5', b'0.2', b'Iris-setosa'],\n",
       "       [b'5.2', b'3.4', b'1.4', b'0.2', b'Iris-setosa'],\n",
       "       [b'4.7', b'3.2', b'1.6', b'0.2', b'Iris-setosa'],\n",
       "       [b'4.8', b'3.1', b'1.6', b'0.2', b'Iris-setosa'],\n",
       "       [b'5.4', b'3.4', b'1.5', b'0.4', b'Iris-setosa'],\n",
       "       [b'5.2', b'4.1', b'1.5', b'0.1', b'Iris-setosa'],\n",
       "       [b'5.5', b'4.2', b'1.4', b'0.2', b'Iris-setosa'],\n",
       "       [b'4.9', b'3.1', b'1.5', b'0.1', b'Iris-setosa'],\n",
       "       [b'5.0', b'3.2', b'1.2', b'0.2', b'Iris-setosa'],\n",
       "       [b'5.5', b'3.5', b'1.3', b'0.2', b'Iris-setosa'],\n",
       "       [b'4.9', b'3.1', b'1.5', b'0.1', b'Iris-setosa'],\n",
       "       [b'4.4', b'3.0', b'1.3', b'0.2', b'Iris-setosa'],\n",
       "       [b'5.1', b'3.4', b'1.5', b'0.2', b'Iris-setosa'],\n",
       "       [b'5.0', b'3.5', b'1.3', b'0.3', b'Iris-setosa'],\n",
       "       [b'4.5', b'2.3', b'1.3', b'0.3', b'Iris-setosa'],\n",
       "       [b'4.4', b'3.2', b'1.3', b'0.2', b'Iris-setosa'],\n",
       "       [b'5.0', b'3.5', b'1.6', b'0.6', b'Iris-setosa'],\n",
       "       [b'5.1', b'3.8', b'1.9', b'0.4', b'Iris-setosa'],\n",
       "       [b'4.8', b'3.0', b'1.4', b'0.3', b'Iris-setosa'],\n",
       "       [b'5.1', b'3.8', b'1.6', b'0.2', b'Iris-setosa'],\n",
       "       [b'4.6', b'3.2', b'1.4', b'0.2', b'Iris-setosa'],\n",
       "       [b'5.3', b'3.7', b'1.5', b'0.2', b'Iris-setosa'],\n",
       "       [b'5.0', b'3.3', b'1.4', b'0.2', b'Iris-setosa'],\n",
       "       [b'7.0', b'3.2', b'4.7', b'1.4', b'Iris-versicolor'],\n",
       "       [b'6.4', b'3.2', b'4.5', b'1.5', b'Iris-versicolor'],\n",
       "       [b'6.9', b'3.1', b'4.9', b'1.5', b'Iris-versicolor'],\n",
       "       [b'5.5', b'2.3', b'4.0', b'1.3', b'Iris-versicolor'],\n",
       "       [b'6.5', b'2.8', b'4.6', b'1.5', b'Iris-versicolor'],\n",
       "       [b'5.7', b'2.8', b'4.5', b'1.3', b'Iris-versicolor'],\n",
       "       [b'6.3', b'3.3', b'4.7', b'1.6', b'Iris-versicolor'],\n",
       "       [b'4.9', b'2.4', b'3.3', b'1.0', b'Iris-versicolor'],\n",
       "       [b'6.6', b'2.9', b'4.6', b'1.3', b'Iris-versicolor'],\n",
       "       [b'5.2', b'2.7', b'3.9', b'1.4', b'Iris-versicolor'],\n",
       "       [b'5.0', b'2.0', b'3.5', b'1.0', b'Iris-versicolor'],\n",
       "       [b'5.9', b'3.0', b'4.2', b'1.5', b'Iris-versicolor'],\n",
       "       [b'6.0', b'2.2', b'4.0', b'1.0', b'Iris-versicolor'],\n",
       "       [b'6.1', b'2.9', b'4.7', b'1.4', b'Iris-versicolor'],\n",
       "       [b'5.6', b'2.9', b'3.6', b'1.3', b'Iris-versicolor'],\n",
       "       [b'6.7', b'3.1', b'4.4', b'1.4', b'Iris-versicolor'],\n",
       "       [b'5.6', b'3.0', b'4.5', b'1.5', b'Iris-versicolor'],\n",
       "       [b'5.8', b'2.7', b'4.1', b'1.0', b'Iris-versicolor'],\n",
       "       [b'6.2', b'2.2', b'4.5', b'1.5', b'Iris-versicolor'],\n",
       "       [b'5.6', b'2.5', b'3.9', b'1.1', b'Iris-versicolor'],\n",
       "       [b'5.9', b'3.2', b'4.8', b'1.8', b'Iris-versicolor'],\n",
       "       [b'6.1', b'2.8', b'4.0', b'1.3', b'Iris-versicolor'],\n",
       "       [b'6.3', b'2.5', b'4.9', b'1.5', b'Iris-versicolor'],\n",
       "       [b'6.1', b'2.8', b'4.7', b'1.2', b'Iris-versicolor'],\n",
       "       [b'6.4', b'2.9', b'4.3', b'1.3', b'Iris-versicolor'],\n",
       "       [b'6.6', b'3.0', b'4.4', b'1.4', b'Iris-versicolor'],\n",
       "       [b'6.8', b'2.8', b'4.8', b'1.4', b'Iris-versicolor'],\n",
       "       [b'6.7', b'3.0', b'5.0', b'1.7', b'Iris-versicolor'],\n",
       "       [b'6.0', b'2.9', b'4.5', b'1.5', b'Iris-versicolor'],\n",
       "       [b'5.7', b'2.6', b'3.5', b'1.0', b'Iris-versicolor'],\n",
       "       [b'5.5', b'2.4', b'3.8', b'1.1', b'Iris-versicolor'],\n",
       "       [b'5.5', b'2.4', b'3.7', b'1.0', b'Iris-versicolor'],\n",
       "       [b'5.8', b'2.7', b'3.9', b'1.2', b'Iris-versicolor'],\n",
       "       [b'6.0', b'2.7', b'5.1', b'1.6', b'Iris-versicolor'],\n",
       "       [b'5.4', b'3.0', b'4.5', b'1.5', b'Iris-versicolor'],\n",
       "       [b'6.0', b'3.4', b'4.5', b'1.6', b'Iris-versicolor'],\n",
       "       [b'6.7', b'3.1', b'4.7', b'1.5', b'Iris-versicolor'],\n",
       "       [b'6.3', b'2.3', b'4.4', b'1.3', b'Iris-versicolor'],\n",
       "       [b'5.6', b'3.0', b'4.1', b'1.3', b'Iris-versicolor'],\n",
       "       [b'5.5', b'2.5', b'4.0', b'1.3', b'Iris-versicolor'],\n",
       "       [b'5.5', b'2.6', b'4.4', b'1.2', b'Iris-versicolor'],\n",
       "       [b'6.1', b'3.0', b'4.6', b'1.4', b'Iris-versicolor'],\n",
       "       [b'5.8', b'2.6', b'4.0', b'1.2', b'Iris-versicolor'],\n",
       "       [b'5.0', b'2.3', b'3.3', b'1.0', b'Iris-versicolor'],\n",
       "       [b'5.6', b'2.7', b'4.2', b'1.3', b'Iris-versicolor'],\n",
       "       [b'5.7', b'3.0', b'4.2', b'1.2', b'Iris-versicolor'],\n",
       "       [b'5.7', b'2.9', b'4.2', b'1.3', b'Iris-versicolor'],\n",
       "       [b'6.2', b'2.9', b'4.3', b'1.3', b'Iris-versicolor'],\n",
       "       [b'5.1', b'2.5', b'3.0', b'1.1', b'Iris-versicolor'],\n",
       "       [b'5.7', b'2.8', b'4.1', b'1.3', b'Iris-versicolor'],\n",
       "       [b'6.3', b'3.3', b'6.0', b'2.5', b'Iris-virginica'],\n",
       "       [b'5.8', b'2.7', b'5.1', b'1.9', b'Iris-virginica'],\n",
       "       [b'7.1', b'3.0', b'5.9', b'2.1', b'Iris-virginica'],\n",
       "       [b'6.3', b'2.9', b'5.6', b'1.8', b'Iris-virginica'],\n",
       "       [b'6.5', b'3.0', b'5.8', b'2.2', b'Iris-virginica'],\n",
       "       [b'7.6', b'3.0', b'6.6', b'2.1', b'Iris-virginica'],\n",
       "       [b'4.9', b'2.5', b'4.5', b'1.7', b'Iris-virginica'],\n",
       "       [b'7.3', b'2.9', b'6.3', b'1.8', b'Iris-virginica'],\n",
       "       [b'6.7', b'2.5', b'5.8', b'1.8', b'Iris-virginica'],\n",
       "       [b'7.2', b'3.6', b'6.1', b'2.5', b'Iris-virginica'],\n",
       "       [b'6.5', b'3.2', b'5.1', b'2.0', b'Iris-virginica'],\n",
       "       [b'6.4', b'2.7', b'5.3', b'1.9', b'Iris-virginica'],\n",
       "       [b'6.8', b'3.0', b'5.5', b'2.1', b'Iris-virginica'],\n",
       "       [b'5.7', b'2.5', b'5.0', b'2.0', b'Iris-virginica'],\n",
       "       [b'5.8', b'2.8', b'5.1', b'2.4', b'Iris-virginica'],\n",
       "       [b'6.4', b'3.2', b'5.3', b'2.3', b'Iris-virginica'],\n",
       "       [b'6.5', b'3.0', b'5.5', b'1.8', b'Iris-virginica'],\n",
       "       [b'7.7', b'3.8', b'6.7', b'2.2', b'Iris-virginica'],\n",
       "       [b'7.7', b'2.6', b'6.9', b'2.3', b'Iris-virginica'],\n",
       "       [b'6.0', b'2.2', b'5.0', b'1.5', b'Iris-virginica'],\n",
       "       [b'6.9', b'3.2', b'5.7', b'2.3', b'Iris-virginica'],\n",
       "       [b'5.6', b'2.8', b'4.9', b'2.0', b'Iris-virginica'],\n",
       "       [b'7.7', b'2.8', b'6.7', b'2.0', b'Iris-virginica'],\n",
       "       [b'6.3', b'2.7', b'4.9', b'1.8', b'Iris-virginica'],\n",
       "       [b'6.7', b'3.3', b'5.7', b'2.1', b'Iris-virginica'],\n",
       "       [b'7.2', b'3.2', b'6.0', b'1.8', b'Iris-virginica'],\n",
       "       [b'6.2', b'2.8', b'4.8', b'1.8', b'Iris-virginica'],\n",
       "       [b'6.1', b'3.0', b'4.9', b'1.8', b'Iris-virginica'],\n",
       "       [b'6.4', b'2.8', b'5.6', b'2.1', b'Iris-virginica'],\n",
       "       [b'7.2', b'3.0', b'5.8', b'1.6', b'Iris-virginica'],\n",
       "       [b'7.4', b'2.8', b'6.1', b'1.9', b'Iris-virginica'],\n",
       "       [b'7.9', b'3.8', b'6.4', b'2.0', b'Iris-virginica'],\n",
       "       [b'6.4', b'2.8', b'5.6', b'2.2', b'Iris-virginica'],\n",
       "       [b'6.3', b'2.8', b'5.1', b'1.5', b'Iris-virginica'],\n",
       "       [b'6.1', b'2.6', b'5.6', b'1.4', b'Iris-virginica'],\n",
       "       [b'7.7', b'3.0', b'6.1', b'2.3', b'Iris-virginica'],\n",
       "       [b'6.3', b'3.4', b'5.6', b'2.4', b'Iris-virginica'],\n",
       "       [b'6.4', b'3.1', b'5.5', b'1.8', b'Iris-virginica'],\n",
       "       [b'6.0', b'3.0', b'4.8', b'1.8', b'Iris-virginica'],\n",
       "       [b'6.9', b'3.1', b'5.4', b'2.1', b'Iris-virginica'],\n",
       "       [b'6.7', b'3.1', b'5.6', b'2.4', b'Iris-virginica'],\n",
       "       [b'6.9', b'3.1', b'5.1', b'2.3', b'Iris-virginica'],\n",
       "       [b'5.8', b'2.7', b'5.1', b'1.9', b'Iris-virginica'],\n",
       "       [b'6.8', b'3.2', b'5.9', b'2.3', b'Iris-virginica'],\n",
       "       [b'6.7', b'3.3', b'5.7', b'2.5', b'Iris-virginica'],\n",
       "       [b'6.7', b'3.0', b'5.2', b'2.3', b'Iris-virginica'],\n",
       "       [b'6.3', b'2.5', b'5.0', b'1.9', b'Iris-virginica'],\n",
       "       [b'6.5', b'3.0', b'5.2', b'2.0', b'Iris-virginica'],\n",
       "       [b'6.2', b'3.4', b'5.4', b'2.3', b'Iris-virginica'],\n",
       "       [b'5.9', b'3.0', b'5.1', b'1.8', b'Iris-virginica']], dtype=object)"
      ]
     },
     "execution_count": 31,
     "metadata": {},
     "output_type": "execute_result"
    }
   ],
   "source": [
    "data"
   ]
  },
  {
   "cell_type": "code",
   "execution_count": 35,
   "id": "c952aab1-c0d3-4e38-926e-5d15784f34aa",
   "metadata": {},
   "outputs": [
    {
     "data": {
      "text/plain": [
       "(4, 4)"
      ]
     },
     "execution_count": 35,
     "metadata": {},
     "output_type": "execute_result"
    }
   ],
   "source": [
    "data2 = np.array([row.tolist()[:4] for row in data])\n",
    "data2[:4].shape"
   ]
  },
  {
   "cell_type": "code",
   "execution_count": 37,
   "id": "87b17a68-7865-4c4c-8c75-fe3b9b0cfea6",
   "metadata": {},
   "outputs": [
    {
     "data": {
      "text/plain": [
       "(150, 5)"
      ]
     },
     "execution_count": 37,
     "metadata": {},
     "output_type": "execute_result"
    }
   ],
   "source": [
    "data.shape"
   ]
  },
  {
   "cell_type": "code",
   "execution_count": 51,
   "id": "8258d3f6-087a-46b9-a3fb-e2d9b60520d9",
   "metadata": {},
   "outputs": [
    {
     "data": {
      "text/plain": [
       "array([ 1.,  2.,  3.,  4.,  5.,  6., nan, nan,  7., 13.])"
      ]
     },
     "execution_count": 51,
     "metadata": {},
     "output_type": "execute_result"
    }
   ],
   "source": [
    "arr = np.array([1,2,3,4,5,6,np.nan,np.nan,7,13])\n",
    "arr"
   ]
  },
  {
   "cell_type": "code",
   "execution_count": 41,
   "id": "2a44d58d-0f6b-495c-95bd-ac7c699eb043",
   "metadata": {},
   "outputs": [
    {
     "data": {
      "text/plain": [
       "array([False, False, False, False, False, False,  True,  True, False,\n",
       "       False])"
      ]
     },
     "execution_count": 41,
     "metadata": {},
     "output_type": "execute_result"
    }
   ],
   "source": [
    "np.isnan(arr)"
   ]
  },
  {
   "cell_type": "code",
   "execution_count": 71,
   "id": "d41faf21-62aa-43d5-a315-3e1e4ed5d2ee",
   "metadata": {},
   "outputs": [],
   "source": [
    "temp = np.where(np.isnan(arr))"
   ]
  },
  {
   "cell_type": "code",
   "execution_count": 75,
   "id": "98508441-e861-4dec-9e2a-f89ef514c7a7",
   "metadata": {},
   "outputs": [
    {
     "data": {
      "text/plain": [
       "array([nan, nan])"
      ]
     },
     "execution_count": 75,
     "metadata": {},
     "output_type": "execute_result"
    }
   ],
   "source": [
    "arr[temp]"
   ]
  },
  {
   "cell_type": "markdown",
   "id": "02c0a803-b52f-4267-81ab-febd9828d1e5",
   "metadata": {},
   "source": [
    "### Filtering "
   ]
  },
  {
   "cell_type": "code",
   "execution_count": 91,
   "id": "f32d9022-d9b6-4409-a565-2d7e6d5c2ba6",
   "metadata": {},
   "outputs": [
    {
     "data": {
      "text/plain": [
       "array([96, 71, 28, 76, 85, 48, 40, 90, 50, 26, 95, 67, 53,  5, 24, 36, 79,\n",
       "       27,  3, 51, 96, 96, 23, 50, 51, 93, 19, 86, 36, 13])"
      ]
     },
     "execution_count": 91,
     "metadata": {},
     "output_type": "execute_result"
    }
   ],
   "source": [
    "# boolean filter \n",
    "\n",
    "arr = np.random.randint(size = 30, low = 1,high = 100)\n",
    "arr"
   ]
  },
  {
   "cell_type": "code",
   "execution_count": 104,
   "id": "361a7208-b940-4c42-86ef-7ae4ce8dfc83",
   "metadata": {},
   "outputs": [
    {
     "data": {
      "text/plain": [
       "array([ True, False,  True, False,  True,  True,  True,  True, False,\n",
       "        True,  True, False, False,  True,  True,  True, False,  True,\n",
       "        True, False,  True,  True,  True, False, False,  True,  True,\n",
       "        True,  True,  True])"
      ]
     },
     "execution_count": 104,
     "metadata": {},
     "output_type": "execute_result"
    }
   ],
   "source": [
    "data = ~((arr>=50) & (arr<=80))"
   ]
  },
  {
   "cell_type": "code",
   "execution_count": 108,
   "id": "3bdd86a5-a3ca-4062-a164-9d1d8de7af5d",
   "metadata": {},
   "outputs": [
    {
     "data": {
      "text/plain": [
       "array([96, 28, 85, 48, 40, 90, 26, 95,  5, 24, 36, 27,  3, 96, 96, 23, 93,\n",
       "       19, 86, 36, 13])"
      ]
     },
     "execution_count": 108,
     "metadata": {},
     "output_type": "execute_result"
    }
   ],
   "source": [
    "arr[~((arr>=50) & (arr<=80))]"
   ]
  },
  {
   "cell_type": "code",
   "execution_count": 124,
   "id": "2597920e-5d6c-4e14-91e6-0b987bdd757d",
   "metadata": {},
   "outputs": [
    {
     "data": {
      "text/plain": [
       "array([96,  0, 28,  0, 85, 48, 40, 90,  0, 26, 95,  0,  0,  5, 24, 36,  0,\n",
       "       27,  3,  0, 96, 96, 23,  0,  0, 93, 19, 86, 36, 13])"
      ]
     },
     "execution_count": 124,
     "metadata": {},
     "output_type": "execute_result"
    }
   ],
   "source": [
    "a = np.where(((arr>=50) & (arr<=80)),0,arr)\n",
    "a"
   ]
  },
  {
   "cell_type": "markdown",
   "id": "2e212e58-270a-4b03-96f6-0775fe09a842",
   "metadata": {},
   "source": [
    "33. How to find the position of missing values in numpy array?\r\n",
    "Difficulty Level: L2\r\n",
    "\r\n",
    "Q. Find the number and position of missing values in iris_2d's sepallength (1st column)\r\n",
    "\r\n",
    "# Input\r\n",
    "url = 'https://archive.ics.uci.edu/ml/machine-learning-databases/iris/iris.data'\r\n",
    "iris_2d = np.genfromtxt(url, delimiter=',', dtype='float')\r\n",
    "iris_2d[np.random.randint(150, size=20), np.random.randint(4, size=20)] = np.nan"
   ]
  },
  {
   "cell_type": "code",
   "execution_count": 137,
   "id": "98197257-74ac-4050-b477-ef68b7677297",
   "metadata": {},
   "outputs": [
    {
     "data": {
      "text/plain": [
       "array([[5.1, 3.5, 1.4, 0.2, nan],\n",
       "       [nan, 3. , 1.4, 0.2, nan],\n",
       "       [4.7, 3.2, 1.3, 0.2, nan],\n",
       "       [4.6, 3.1, 1.5, 0.2, nan],\n",
       "       [5. , 3.6, 1.4, 0.2, nan],\n",
       "       [5.4, 3.9, 1.7, 0.4, nan],\n",
       "       [4.6, 3.4, 1.4, 0.3, nan],\n",
       "       [5. , 3.4, 1.5, 0.2, nan],\n",
       "       [4.4, 2.9, 1.4, 0.2, nan],\n",
       "       [4.9, 3.1, 1.5, 0.1, nan],\n",
       "       [5.4, 3.7, 1.5, 0.2, nan],\n",
       "       [4.8, 3.4, 1.6, 0.2, nan],\n",
       "       [4.8, 3. , 1.4, 0.1, nan],\n",
       "       [4.3, nan, 1.1, 0.1, nan],\n",
       "       [5.8, 4. , 1.2, 0.2, nan],\n",
       "       [5.7, 4.4, 1.5, 0.4, nan],\n",
       "       [5.4, 3.9, 1.3, 0.4, nan],\n",
       "       [5.1, 3.5, 1.4, 0.3, nan],\n",
       "       [5.7, 3.8, 1.7, nan, nan],\n",
       "       [5.1, 3.8, 1.5, 0.3, nan],\n",
       "       [5.4, 3.4, 1.7, 0.2, nan],\n",
       "       [5.1, 3.7, 1.5, 0.4, nan],\n",
       "       [4.6, 3.6, 1. , nan, nan],\n",
       "       [5.1, 3.3, 1.7, 0.5, nan],\n",
       "       [4.8, 3.4, 1.9, 0.2, nan],\n",
       "       [5. , 3. , 1.6, 0.2, nan],\n",
       "       [5. , 3.4, 1.6, 0.4, nan],\n",
       "       [5.2, 3.5, 1.5, nan, nan],\n",
       "       [5.2, 3.4, 1.4, 0.2, nan],\n",
       "       [4.7, 3.2, nan, 0.2, nan],\n",
       "       [4.8, 3.1, 1.6, 0.2, nan],\n",
       "       [5.4, 3.4, 1.5, 0.4, nan],\n",
       "       [5.2, 4.1, 1.5, 0.1, nan],\n",
       "       [nan, 4.2, 1.4, 0.2, nan],\n",
       "       [4.9, 3.1, 1.5, 0.1, nan],\n",
       "       [5. , 3.2, 1.2, 0.2, nan],\n",
       "       [5.5, nan, 1.3, 0.2, nan],\n",
       "       [4.9, 3.1, 1.5, 0.1, nan],\n",
       "       [4.4, 3. , 1.3, 0.2, nan],\n",
       "       [5.1, 3.4, 1.5, 0.2, nan],\n",
       "       [5. , 3.5, 1.3, 0.3, nan],\n",
       "       [4.5, 2.3, 1.3, 0.3, nan],\n",
       "       [nan, 3.2, 1.3, 0.2, nan],\n",
       "       [5. , 3.5, 1.6, 0.6, nan],\n",
       "       [5.1, 3.8, 1.9, 0.4, nan],\n",
       "       [4.8, 3. , 1.4, 0.3, nan],\n",
       "       [5.1, 3.8, 1.6, 0.2, nan],\n",
       "       [4.6, 3.2, 1.4, 0.2, nan],\n",
       "       [5.3, 3.7, 1.5, 0.2, nan],\n",
       "       [5. , 3.3, 1.4, 0.2, nan],\n",
       "       [7. , 3.2, 4.7, 1.4, nan],\n",
       "       [6.4, 3.2, 4.5, 1.5, nan],\n",
       "       [6.9, 3.1, 4.9, 1.5, nan],\n",
       "       [5.5, 2.3, 4. , 1.3, nan],\n",
       "       [6.5, 2.8, 4.6, 1.5, nan],\n",
       "       [5.7, 2.8, 4.5, 1.3, nan],\n",
       "       [6.3, 3.3, 4.7, 1.6, nan],\n",
       "       [4.9, 2.4, 3.3, 1. , nan],\n",
       "       [6.6, 2.9, 4.6, 1.3, nan],\n",
       "       [5.2, 2.7, 3.9, 1.4, nan],\n",
       "       [5. , 2. , 3.5, 1. , nan],\n",
       "       [5.9, 3. , 4.2, 1.5, nan],\n",
       "       [6. , 2.2, 4. , 1. , nan],\n",
       "       [6.1, 2.9, 4.7, 1.4, nan],\n",
       "       [5.6, 2.9, 3.6, 1.3, nan],\n",
       "       [6.7, 3.1, 4.4, 1.4, nan],\n",
       "       [5.6, 3. , 4.5, 1.5, nan],\n",
       "       [5.8, 2.7, 4.1, 1. , nan],\n",
       "       [6.2, 2.2, nan, 1.5, nan],\n",
       "       [5.6, 2.5, 3.9, 1.1, nan],\n",
       "       [5.9, 3.2, 4.8, 1.8, nan],\n",
       "       [6.1, 2.8, nan, 1.3, nan],\n",
       "       [6.3, 2.5, 4.9, 1.5, nan],\n",
       "       [6.1, 2.8, 4.7, 1.2, nan],\n",
       "       [nan, 2.9, 4.3, 1.3, nan],\n",
       "       [6.6, 3. , 4.4, 1.4, nan],\n",
       "       [6.8, 2.8, 4.8, 1.4, nan],\n",
       "       [6.7, 3. , 5. , 1.7, nan],\n",
       "       [6. , 2.9, 4.5, 1.5, nan],\n",
       "       [5.7, 2.6, 3.5, 1. , nan],\n",
       "       [5.5, 2.4, 3.8, 1.1, nan],\n",
       "       [5.5, 2.4, 3.7, 1. , nan],\n",
       "       [5.8, 2.7, 3.9, 1.2, nan],\n",
       "       [6. , 2.7, 5.1, 1.6, nan],\n",
       "       [nan, 3. , 4.5, nan, nan],\n",
       "       [6. , 3.4, 4.5, 1.6, nan],\n",
       "       [6.7, 3.1, 4.7, 1.5, nan],\n",
       "       [6.3, 2.3, 4.4, 1.3, nan],\n",
       "       [5.6, 3. , 4.1, 1.3, nan],\n",
       "       [5.5, 2.5, 4. , 1.3, nan],\n",
       "       [5.5, 2.6, 4.4, 1.2, nan],\n",
       "       [6.1, 3. , 4.6, 1.4, nan],\n",
       "       [5.8, 2.6, 4. , 1.2, nan],\n",
       "       [5. , 2.3, 3.3, 1. , nan],\n",
       "       [5.6, 2.7, 4.2, 1.3, nan],\n",
       "       [5.7, 3. , 4.2, 1.2, nan],\n",
       "       [5.7, 2.9, 4.2, 1.3, nan],\n",
       "       [6.2, 2.9, 4.3, 1.3, nan],\n",
       "       [5.1, 2.5, 3. , 1.1, nan],\n",
       "       [5.7, 2.8, 4.1, 1.3, nan],\n",
       "       [6.3, 3.3, 6. , 2.5, nan],\n",
       "       [5.8, 2.7, 5.1, 1.9, nan],\n",
       "       [7.1, 3. , 5.9, 2.1, nan],\n",
       "       [6.3, 2.9, 5.6, 1.8, nan],\n",
       "       [6.5, 3. , 5.8, 2.2, nan],\n",
       "       [7.6, 3. , 6.6, 2.1, nan],\n",
       "       [4.9, nan, 4.5, 1.7, nan],\n",
       "       [7.3, 2.9, 6.3, 1.8, nan],\n",
       "       [6.7, 2.5, 5.8, 1.8, nan],\n",
       "       [7.2, 3.6, 6.1, 2.5, nan],\n",
       "       [6.5, 3.2, 5.1, 2. , nan],\n",
       "       [6.4, 2.7, 5.3, nan, nan],\n",
       "       [6.8, 3. , 5.5, 2.1, nan],\n",
       "       [5.7, 2.5, 5. , 2. , nan],\n",
       "       [5.8, 2.8, 5.1, 2.4, nan],\n",
       "       [6.4, 3.2, 5.3, 2.3, nan],\n",
       "       [6.5, 3. , 5.5, 1.8, nan],\n",
       "       [7.7, 3.8, 6.7, 2.2, nan],\n",
       "       [7.7, 2.6, 6.9, 2.3, nan],\n",
       "       [6. , 2.2, 5. , 1.5, nan],\n",
       "       [6.9, 3.2, 5.7, 2.3, nan],\n",
       "       [5.6, 2.8, 4.9, 2. , nan],\n",
       "       [7.7, 2.8, 6.7, 2. , nan],\n",
       "       [6.3, 2.7, 4.9, 1.8, nan],\n",
       "       [6.7, 3.3, 5.7, 2.1, nan],\n",
       "       [7.2, 3.2, 6. , 1.8, nan],\n",
       "       [6.2, 2.8, 4.8, 1.8, nan],\n",
       "       [6.1, 3. , 4.9, 1.8, nan],\n",
       "       [6.4, 2.8, 5.6, 2.1, nan],\n",
       "       [7.2, 3. , 5.8, 1.6, nan],\n",
       "       [7.4, 2.8, 6.1, 1.9, nan],\n",
       "       [7.9, 3.8, 6.4, 2. , nan],\n",
       "       [6.4, 2.8, 5.6, 2.2, nan],\n",
       "       [6.3, 2.8, 5.1, 1.5, nan],\n",
       "       [6.1, 2.6, 5.6, 1.4, nan],\n",
       "       [7.7, 3. , 6.1, 2.3, nan],\n",
       "       [6.3, 3.4, 5.6, 2.4, nan],\n",
       "       [6.4, 3.1, 5.5, 1.8, nan],\n",
       "       [6. , 3. , 4.8, nan, nan],\n",
       "       [6.9, 3.1, 5.4, nan, nan],\n",
       "       [6.7, 3.1, 5.6, 2.4, nan],\n",
       "       [6.9, 3.1, 5.1, 2.3, nan],\n",
       "       [5.8, 2.7, 5.1, 1.9, nan],\n",
       "       [6.8, 3.2, 5.9, 2.3, nan],\n",
       "       [6.7, 3.3, 5.7, 2.5, nan],\n",
       "       [6.7, 3. , 5.2, nan, nan],\n",
       "       [6.3, 2.5, 5. , 1.9, nan],\n",
       "       [6.5, 3. , 5.2, 2. , nan],\n",
       "       [6.2, 3.4, 5.4, 2.3, nan],\n",
       "       [5.9, 3. , 5.1, 1.8, nan]])"
      ]
     },
     "execution_count": 137,
     "metadata": {},
     "output_type": "execute_result"
    }
   ],
   "source": [
    "url = 'https://archive.ics.uci.edu/ml/machine-learning-databases/iris/iris.data'\n",
    "data = np.genfromtxt(url, delimiter=',', dtype='float')\n",
    "data[np.random.randint(150, size=20), np.random.randint(4, size=20)] = np.nan\n",
    "data"
   ]
  },
  {
   "cell_type": "code",
   "execution_count": 151,
   "id": "e2977993-119c-40c5-88f1-3c63c2d2bea6",
   "metadata": {},
   "outputs": [
    {
     "data": {
      "text/plain": [
       "5"
      ]
     },
     "execution_count": 151,
     "metadata": {},
     "output_type": "execute_result"
    }
   ],
   "source": [
    "data = data[:,:4]\n",
    "np.isnan(data[:,]).sum()"
   ]
  },
  {
   "cell_type": "code",
   "execution_count": 173,
   "id": "fa61c81e-7803-4c1b-9163-3946ddbc6e63",
   "metadata": {},
   "outputs": [],
   "source": [
    "data = data[:,:4]"
   ]
  },
  {
   "cell_type": "code",
   "execution_count": 175,
   "id": "6b1f19da-8726-43a4-bc92-6483e4fd8372",
   "metadata": {},
   "outputs": [
    {
     "data": {
      "text/plain": [
       "array([[5.1, 3.5, 1.4, 0.2],\n",
       "       [nan, 3. , 1.4, 0.2],\n",
       "       [4.7, 3.2, 1.3, 0.2],\n",
       "       [4.6, 3.1, 1.5, 0.2],\n",
       "       [5. , 3.6, 1.4, 0.2],\n",
       "       [5.4, 3.9, 1.7, 0.4],\n",
       "       [4.6, 3.4, 1.4, 0.3],\n",
       "       [5. , 3.4, 1.5, 0.2],\n",
       "       [4.4, 2.9, 1.4, 0.2],\n",
       "       [4.9, 3.1, 1.5, 0.1],\n",
       "       [5.4, 3.7, 1.5, 0.2],\n",
       "       [4.8, 3.4, 1.6, 0.2],\n",
       "       [4.8, 3. , 1.4, 0.1],\n",
       "       [4.3, nan, 1.1, 0.1],\n",
       "       [5.8, 4. , 1.2, 0.2],\n",
       "       [5.7, 4.4, 1.5, 0.4],\n",
       "       [5.4, 3.9, 1.3, 0.4],\n",
       "       [5.1, 3.5, 1.4, 0.3],\n",
       "       [5.7, 3.8, 1.7, nan],\n",
       "       [5.1, 3.8, 1.5, 0.3],\n",
       "       [5.4, 3.4, 1.7, 0.2],\n",
       "       [5.1, 3.7, 1.5, 0.4],\n",
       "       [4.6, 3.6, 1. , nan],\n",
       "       [5.1, 3.3, 1.7, 0.5],\n",
       "       [4.8, 3.4, 1.9, 0.2],\n",
       "       [5. , 3. , 1.6, 0.2],\n",
       "       [5. , 3.4, 1.6, 0.4],\n",
       "       [5.2, 3.5, 1.5, nan],\n",
       "       [5.2, 3.4, 1.4, 0.2],\n",
       "       [4.7, 3.2, nan, 0.2],\n",
       "       [4.8, 3.1, 1.6, 0.2],\n",
       "       [5.4, 3.4, 1.5, 0.4],\n",
       "       [5.2, 4.1, 1.5, 0.1],\n",
       "       [nan, 4.2, 1.4, 0.2],\n",
       "       [4.9, 3.1, 1.5, 0.1],\n",
       "       [5. , 3.2, 1.2, 0.2],\n",
       "       [5.5, nan, 1.3, 0.2],\n",
       "       [4.9, 3.1, 1.5, 0.1],\n",
       "       [4.4, 3. , 1.3, 0.2],\n",
       "       [5.1, 3.4, 1.5, 0.2],\n",
       "       [5. , 3.5, 1.3, 0.3],\n",
       "       [4.5, 2.3, 1.3, 0.3],\n",
       "       [nan, 3.2, 1.3, 0.2],\n",
       "       [5. , 3.5, 1.6, 0.6],\n",
       "       [5.1, 3.8, 1.9, 0.4],\n",
       "       [4.8, 3. , 1.4, 0.3],\n",
       "       [5.1, 3.8, 1.6, 0.2],\n",
       "       [4.6, 3.2, 1.4, 0.2],\n",
       "       [5.3, 3.7, 1.5, 0.2],\n",
       "       [5. , 3.3, 1.4, 0.2],\n",
       "       [7. , 3.2, 4.7, 1.4],\n",
       "       [6.4, 3.2, 4.5, 1.5],\n",
       "       [6.9, 3.1, 4.9, 1.5],\n",
       "       [5.5, 2.3, 4. , 1.3],\n",
       "       [6.5, 2.8, 4.6, 1.5],\n",
       "       [5.7, 2.8, 4.5, 1.3],\n",
       "       [6.3, 3.3, 4.7, 1.6],\n",
       "       [4.9, 2.4, 3.3, 1. ],\n",
       "       [6.6, 2.9, 4.6, 1.3],\n",
       "       [5.2, 2.7, 3.9, 1.4],\n",
       "       [5. , 2. , 3.5, 1. ],\n",
       "       [5.9, 3. , 4.2, 1.5],\n",
       "       [6. , 2.2, 4. , 1. ],\n",
       "       [6.1, 2.9, 4.7, 1.4],\n",
       "       [5.6, 2.9, 3.6, 1.3],\n",
       "       [6.7, 3.1, 4.4, 1.4],\n",
       "       [5.6, 3. , 4.5, 1.5],\n",
       "       [5.8, 2.7, 4.1, 1. ],\n",
       "       [6.2, 2.2, nan, 1.5],\n",
       "       [5.6, 2.5, 3.9, 1.1],\n",
       "       [5.9, 3.2, 4.8, 1.8],\n",
       "       [6.1, 2.8, nan, 1.3],\n",
       "       [6.3, 2.5, 4.9, 1.5],\n",
       "       [6.1, 2.8, 4.7, 1.2],\n",
       "       [nan, 2.9, 4.3, 1.3],\n",
       "       [6.6, 3. , 4.4, 1.4],\n",
       "       [6.8, 2.8, 4.8, 1.4],\n",
       "       [6.7, 3. , 5. , 1.7],\n",
       "       [6. , 2.9, 4.5, 1.5],\n",
       "       [5.7, 2.6, 3.5, 1. ],\n",
       "       [5.5, 2.4, 3.8, 1.1],\n",
       "       [5.5, 2.4, 3.7, 1. ],\n",
       "       [5.8, 2.7, 3.9, 1.2],\n",
       "       [6. , 2.7, 5.1, 1.6],\n",
       "       [nan, 3. , 4.5, nan],\n",
       "       [6. , 3.4, 4.5, 1.6],\n",
       "       [6.7, 3.1, 4.7, 1.5],\n",
       "       [6.3, 2.3, 4.4, 1.3],\n",
       "       [5.6, 3. , 4.1, 1.3],\n",
       "       [5.5, 2.5, 4. , 1.3],\n",
       "       [5.5, 2.6, 4.4, 1.2],\n",
       "       [6.1, 3. , 4.6, 1.4],\n",
       "       [5.8, 2.6, 4. , 1.2],\n",
       "       [5. , 2.3, 3.3, 1. ],\n",
       "       [5.6, 2.7, 4.2, 1.3],\n",
       "       [5.7, 3. , 4.2, 1.2],\n",
       "       [5.7, 2.9, 4.2, 1.3],\n",
       "       [6.2, 2.9, 4.3, 1.3],\n",
       "       [5.1, 2.5, 3. , 1.1],\n",
       "       [5.7, 2.8, 4.1, 1.3],\n",
       "       [6.3, 3.3, 6. , 2.5],\n",
       "       [5.8, 2.7, 5.1, 1.9],\n",
       "       [7.1, 3. , 5.9, 2.1],\n",
       "       [6.3, 2.9, 5.6, 1.8],\n",
       "       [6.5, 3. , 5.8, 2.2],\n",
       "       [7.6, 3. , 6.6, 2.1],\n",
       "       [4.9, nan, 4.5, 1.7],\n",
       "       [7.3, 2.9, 6.3, 1.8],\n",
       "       [6.7, 2.5, 5.8, 1.8],\n",
       "       [7.2, 3.6, 6.1, 2.5],\n",
       "       [6.5, 3.2, 5.1, 2. ],\n",
       "       [6.4, 2.7, 5.3, nan],\n",
       "       [6.8, 3. , 5.5, 2.1],\n",
       "       [5.7, 2.5, 5. , 2. ],\n",
       "       [5.8, 2.8, 5.1, 2.4],\n",
       "       [6.4, 3.2, 5.3, 2.3],\n",
       "       [6.5, 3. , 5.5, 1.8],\n",
       "       [7.7, 3.8, 6.7, 2.2],\n",
       "       [7.7, 2.6, 6.9, 2.3],\n",
       "       [6. , 2.2, 5. , 1.5],\n",
       "       [6.9, 3.2, 5.7, 2.3],\n",
       "       [5.6, 2.8, 4.9, 2. ],\n",
       "       [7.7, 2.8, 6.7, 2. ],\n",
       "       [6.3, 2.7, 4.9, 1.8],\n",
       "       [6.7, 3.3, 5.7, 2.1],\n",
       "       [7.2, 3.2, 6. , 1.8],\n",
       "       [6.2, 2.8, 4.8, 1.8],\n",
       "       [6.1, 3. , 4.9, 1.8],\n",
       "       [6.4, 2.8, 5.6, 2.1],\n",
       "       [7.2, 3. , 5.8, 1.6],\n",
       "       [7.4, 2.8, 6.1, 1.9],\n",
       "       [7.9, 3.8, 6.4, 2. ],\n",
       "       [6.4, 2.8, 5.6, 2.2],\n",
       "       [6.3, 2.8, 5.1, 1.5],\n",
       "       [6.1, 2.6, 5.6, 1.4],\n",
       "       [7.7, 3. , 6.1, 2.3],\n",
       "       [6.3, 3.4, 5.6, 2.4],\n",
       "       [6.4, 3.1, 5.5, 1.8],\n",
       "       [6. , 3. , 4.8, nan],\n",
       "       [6.9, 3.1, 5.4, nan],\n",
       "       [6.7, 3.1, 5.6, 2.4],\n",
       "       [6.9, 3.1, 5.1, 2.3],\n",
       "       [5.8, 2.7, 5.1, 1.9],\n",
       "       [6.8, 3.2, 5.9, 2.3],\n",
       "       [6.7, 3.3, 5.7, 2.5],\n",
       "       [6.7, 3. , 5.2, nan],\n",
       "       [6.3, 2.5, 5. , 1.9],\n",
       "       [6.5, 3. , 5.2, 2. ],\n",
       "       [6.2, 3.4, 5.4, 2.3],\n",
       "       [5.9, 3. , 5.1, 1.8]])"
      ]
     },
     "execution_count": 175,
     "metadata": {},
     "output_type": "execute_result"
    }
   ],
   "source": [
    "data"
   ]
  },
  {
   "cell_type": "code",
   "execution_count": 203,
   "id": "f8b28d9e-b08a-4c46-a12f-c456bb7a857d",
   "metadata": {},
   "outputs": [
    {
     "name": "stdout",
     "output_type": "stream",
     "text": [
      "[nan 3.  1.4 0.2]\n",
      "[4.3 nan 1.1 0.1]\n",
      "[5.7 3.8 1.7 nan]\n",
      "[4.6 3.6 1.  nan]\n",
      "[5.2 3.5 1.5 nan]\n",
      "[4.7 3.2 nan 0.2]\n",
      "[nan 4.2 1.4 0.2]\n",
      "[5.5 nan 1.3 0.2]\n",
      "[nan 3.2 1.3 0.2]\n",
      "[6.2 2.2 nan 1.5]\n",
      "[6.1 2.8 nan 1.3]\n",
      "[nan 2.9 4.3 1.3]\n",
      "[nan 3.  4.5 nan]\n",
      "[4.9 nan 4.5 1.7]\n",
      "[6.4 2.7 5.3 nan]\n",
      "[6.  3.  4.8 nan]\n",
      "[6.9 3.1 5.4 nan]\n",
      "[6.7 3.  5.2 nan]\n"
     ]
    }
   ],
   "source": [
    "d=  np.where(np.isnan(data))[0]\n",
    "for i in range(len(data)):\n",
    "    if i in d:\n",
    "        np.delete(data,i)\n",
    "        print(data[i])"
   ]
  },
  {
   "cell_type": "code",
   "execution_count": 167,
   "id": "f7415229-fe68-45c3-b27a-86ca49680c82",
   "metadata": {},
   "outputs": [
    {
     "ename": "IndexError",
     "evalue": "arrays used as indices must be of integer (or boolean) type",
     "output_type": "error",
     "traceback": [
      "\u001b[1;31m---------------------------------------------------------------------------\u001b[0m",
      "\u001b[1;31mIndexError\u001b[0m                                Traceback (most recent call last)",
      "Cell \u001b[1;32mIn[167], line 1\u001b[0m\n\u001b[1;32m----> 1\u001b[0m np\u001b[38;5;241m.\u001b[39mdelete(data,data[d])\n",
      "File \u001b[1;32m~\\anaconda3\\Lib\\site-packages\\numpy\\lib\\function_base.py:5354\u001b[0m, in \u001b[0;36mdelete\u001b[1;34m(arr, obj, axis)\u001b[0m\n\u001b[0;32m   5352\u001b[0m \u001b[38;5;28;01melse\u001b[39;00m:\n\u001b[0;32m   5353\u001b[0m     keep \u001b[38;5;241m=\u001b[39m ones(N, dtype\u001b[38;5;241m=\u001b[39m\u001b[38;5;28mbool\u001b[39m)\n\u001b[1;32m-> 5354\u001b[0m     keep[obj,] \u001b[38;5;241m=\u001b[39m \u001b[38;5;28;01mFalse\u001b[39;00m\n\u001b[0;32m   5356\u001b[0m slobj[axis] \u001b[38;5;241m=\u001b[39m keep\n\u001b[0;32m   5357\u001b[0m new \u001b[38;5;241m=\u001b[39m arr[\u001b[38;5;28mtuple\u001b[39m(slobj)]\n",
      "\u001b[1;31mIndexError\u001b[0m: arrays used as indices must be of integer (or boolean) type"
     ]
    }
   ],
   "source": []
  },
  {
   "cell_type": "code",
   "execution_count": null,
   "id": "902d75ca-cbf6-4eac-8daf-8ca640cd1a63",
   "metadata": {},
   "outputs": [],
   "source": []
  },
  {
   "cell_type": "code",
   "execution_count": 4,
   "id": "61d11342-2963-4b92-8089-1d2ae7711698",
   "metadata": {},
   "outputs": [],
   "source": [
    "import numpy as np"
   ]
  },
  {
   "cell_type": "code",
   "execution_count": 8,
   "id": "64234b8f-3151-43a6-855b-ba5320119f6c",
   "metadata": {},
   "outputs": [],
   "source": [
    "arr = np.empty((4,4))"
   ]
  },
  {
   "cell_type": "code",
   "execution_count": 10,
   "id": "12f5c98f-7465-4925-907a-a87a55c72740",
   "metadata": {},
   "outputs": [
    {
     "data": {
      "text/plain": [
       "array([[6.23042070e-307, 4.67296746e-307, 1.69121096e-306,\n",
       "        4.67293691e-307],\n",
       "       [1.11256817e-306, 1.06811422e-306, 1.42417221e-306,\n",
       "        1.11260619e-306],\n",
       "       [8.90094053e-307, 1.86919378e-306, 1.06809792e-306,\n",
       "        1.37962456e-306],\n",
       "       [1.69111861e-306, 1.78020169e-306, 1.37961777e-306,\n",
       "        7.56599807e-307]])"
      ]
     },
     "execution_count": 10,
     "metadata": {},
     "output_type": "execute_result"
    }
   ],
   "source": [
    "arr"
   ]
  },
  {
   "cell_type": "code",
   "execution_count": 12,
   "id": "90387a8f-2329-4782-aa9f-8e11a2cd4c8a",
   "metadata": {},
   "outputs": [],
   "source": [
    "url = 'https://archive.ics.uci.edu/ml/machine-learning-databases/iris/iris.data'\n",
    "iris_2d = np.genfromtxt(url, delimiter=',', dtype='object')\n",
    "names = ('sepallength', 'sepalwidth', 'petallength', 'petalwidth', 'species')"
   ]
  },
  {
   "cell_type": "code",
   "execution_count": 14,
   "id": "13721153-4fb9-4609-85ae-862b7d34112c",
   "metadata": {},
   "outputs": [],
   "source": [
    "a = np.array(['Iris-setosa', 'Iris-versicolor', 'Iris-virginica'])\n",
    "species_out = np.random.choice(a, 150, p=[0.5, 0.25, 0.25])"
   ]
  },
  {
   "cell_type": "code",
   "execution_count": 17,
   "id": "9caea013-9d67-4b77-9b3a-4a8fe3708110",
   "metadata": {},
   "outputs": [
    {
     "data": {
      "text/plain": [
       "array(['Iris-setosa', 'Iris-versicolor', 'Iris-setosa', 'Iris-virginica',\n",
       "       'Iris-setosa', 'Iris-virginica', 'Iris-setosa', 'Iris-virginica',\n",
       "       'Iris-setosa', 'Iris-virginica', 'Iris-versicolor', 'Iris-setosa',\n",
       "       'Iris-setosa', 'Iris-versicolor', 'Iris-virginica', 'Iris-setosa',\n",
       "       'Iris-setosa', 'Iris-virginica', 'Iris-versicolor', 'Iris-setosa',\n",
       "       'Iris-setosa', 'Iris-virginica', 'Iris-setosa', 'Iris-setosa',\n",
       "       'Iris-virginica', 'Iris-virginica', 'Iris-virginica',\n",
       "       'Iris-versicolor', 'Iris-setosa', 'Iris-versicolor',\n",
       "       'Iris-versicolor', 'Iris-versicolor', 'Iris-setosa', 'Iris-setosa',\n",
       "       'Iris-virginica', 'Iris-versicolor', 'Iris-setosa', 'Iris-setosa',\n",
       "       'Iris-setosa', 'Iris-setosa', 'Iris-versicolor', 'Iris-setosa',\n",
       "       'Iris-setosa', 'Iris-setosa', 'Iris-versicolor', 'Iris-virginica',\n",
       "       'Iris-versicolor', 'Iris-setosa', 'Iris-setosa', 'Iris-setosa',\n",
       "       'Iris-versicolor', 'Iris-setosa', 'Iris-virginica', 'Iris-setosa',\n",
       "       'Iris-setosa', 'Iris-versicolor', 'Iris-virginica',\n",
       "       'Iris-virginica', 'Iris-versicolor', 'Iris-setosa', 'Iris-setosa',\n",
       "       'Iris-virginica', 'Iris-versicolor', 'Iris-versicolor',\n",
       "       'Iris-setosa', 'Iris-setosa', 'Iris-versicolor', 'Iris-setosa',\n",
       "       'Iris-versicolor', 'Iris-setosa', 'Iris-setosa', 'Iris-setosa',\n",
       "       'Iris-setosa', 'Iris-virginica', 'Iris-setosa', 'Iris-versicolor',\n",
       "       'Iris-virginica', 'Iris-setosa', 'Iris-versicolor', 'Iris-setosa',\n",
       "       'Iris-versicolor', 'Iris-versicolor', 'Iris-versicolor',\n",
       "       'Iris-virginica', 'Iris-virginica', 'Iris-setosa', 'Iris-setosa',\n",
       "       'Iris-versicolor', 'Iris-virginica', 'Iris-setosa', 'Iris-setosa',\n",
       "       'Iris-virginica', 'Iris-virginica', 'Iris-virginica',\n",
       "       'Iris-virginica', 'Iris-setosa', 'Iris-setosa', 'Iris-versicolor',\n",
       "       'Iris-virginica', 'Iris-setosa', 'Iris-setosa', 'Iris-setosa',\n",
       "       'Iris-virginica', 'Iris-setosa', 'Iris-setosa', 'Iris-setosa',\n",
       "       'Iris-setosa', 'Iris-setosa', 'Iris-setosa', 'Iris-setosa',\n",
       "       'Iris-setosa', 'Iris-virginica', 'Iris-versicolor',\n",
       "       'Iris-versicolor', 'Iris-versicolor', 'Iris-setosa', 'Iris-setosa',\n",
       "       'Iris-setosa', 'Iris-virginica', 'Iris-versicolor',\n",
       "       'Iris-versicolor', 'Iris-setosa', 'Iris-versicolor', 'Iris-setosa',\n",
       "       'Iris-setosa', 'Iris-setosa', 'Iris-versicolor', 'Iris-setosa',\n",
       "       'Iris-versicolor', 'Iris-versicolor', 'Iris-setosa',\n",
       "       'Iris-versicolor', 'Iris-setosa', 'Iris-setosa', 'Iris-virginica',\n",
       "       'Iris-setosa', 'Iris-virginica', 'Iris-virginica',\n",
       "       'Iris-versicolor', 'Iris-virginica', 'Iris-setosa',\n",
       "       'Iris-versicolor', 'Iris-setosa', 'Iris-virginica', 'Iris-setosa',\n",
       "       'Iris-virginica', 'Iris-virginica', 'Iris-versicolor',\n",
       "       'Iris-versicolor', 'Iris-setosa'], dtype='<U15')"
      ]
     },
     "execution_count": 17,
     "metadata": {},
     "output_type": "execute_result"
    }
   ],
   "source": [
    "species_out"
   ]
  },
  {
   "cell_type": "code",
   "execution_count": null,
   "id": "72501b3e-22d1-47b6-8a07-28f11a7f3d81",
   "metadata": {},
   "outputs": [],
   "source": []
  },
  {
   "cell_type": "code",
   "execution_count": 20,
   "id": "2411b1fd-d08b-420e-89e1-0333be9eeda7",
   "metadata": {},
   "outputs": [
    {
     "data": {
      "text/plain": [
       "array([2, 3, 2, 2, 2, 1])"
      ]
     },
     "execution_count": 20,
     "metadata": {},
     "output_type": "execute_result"
    }
   ],
   "source": [
    "np.random.seed(101) \n",
    "arr = np.random.randint(1,4, size=6)\n",
    "arr\n",
    "#> array([2, 3, 2, 2, 2, 1])"
   ]
  },
  {
   "cell_type": "code",
   "execution_count": 22,
   "id": "af144aea-d33c-42af-83da-fd30782eb962",
   "metadata": {},
   "outputs": [],
   "source": [
    "name = np.unique(arr)"
   ]
  },
  {
   "cell_type": "code",
   "execution_count": 24,
   "id": "d556ab69-9b28-47f3-9aa4-6948851644e3",
   "metadata": {},
   "outputs": [
    {
     "data": {
      "text/plain": [
       "array([1, 2, 3])"
      ]
     },
     "execution_count": 24,
     "metadata": {},
     "output_type": "execute_result"
    }
   ],
   "source": [
    "name"
   ]
  },
  {
   "cell_type": "code",
   "execution_count": 26,
   "id": "47aa66df-31ae-461b-8910-8da2b630fe4b",
   "metadata": {},
   "outputs": [],
   "source": [
    "def one_hot_en(num):\n",
    "    if num == 1: \n",
    "        return [1,0,0]\n",
    "    elif num == 2:\n",
    "        return [0,1,0]\n",
    "    elif num == 3:\n",
    "        return [0,0,1]"
   ]
  },
  {
   "cell_type": "code",
   "execution_count": 28,
   "id": "1b804415-8b78-4e6d-9d4c-e821400ade8a",
   "metadata": {},
   "outputs": [],
   "source": [
    "lst = []\n",
    "for i in arr:\n",
    "    lst.append(one_hot_en(i))\n",
    "    "
   ]
  },
  {
   "cell_type": "code",
   "execution_count": 32,
   "id": "a0ea0263-9dda-4dcd-96ae-2e7a3ce04a42",
   "metadata": {},
   "outputs": [
    {
     "name": "stdout",
     "output_type": "stream",
     "text": [
      "[0, 1, 0]\n",
      "[0, 0, 1]\n",
      "[0, 1, 0]\n",
      "[0, 1, 0]\n",
      "[0, 1, 0]\n",
      "[1, 0, 0]\n"
     ]
    }
   ],
   "source": [
    "for i in lst:\n",
    "    print(i)"
   ]
  },
  {
   "cell_type": "code",
   "execution_count": null,
   "id": "380541c4-1b34-4670-9559-746ee754554b",
   "metadata": {},
   "outputs": [],
   "source": []
  },
  {
   "cell_type": "code",
   "execution_count": 64,
   "id": "31f7ac4c-7f6d-45f4-b612-eddf4abce105",
   "metadata": {},
   "outputs": [
    {
     "name": "stdout",
     "output_type": "stream",
     "text": [
      "[ 0  0  4  8  9  9 15 16 17 17]\n"
     ]
    }
   ],
   "source": [
    "np.random.seed(10)\n",
    "arr = np.random.randint(20, size=10)\n",
    "print(a)\n",
    "#> [ 9  4 15  0 17 16 17  8  9  0]"
   ]
  },
  {
   "cell_type": "code",
   "execution_count": null,
   "id": "7a1d1a7f-5f59-4dc7-9bec-2d07fc097713",
   "metadata": {},
   "outputs": [],
   "source": []
  },
  {
   "cell_type": "code",
   "execution_count": 62,
   "id": "26bfc36d-da78-4b63-8f74-8877420387f0",
   "metadata": {},
   "outputs": [
    {
     "name": "stdout",
     "output_type": "stream",
     "text": [
      "0 ====> 0\n",
      "1 ====> 0\n",
      "2 ====> 4\n",
      "3 ====> 8\n",
      "4 ====> 9\n",
      "5 ====> 9\n",
      "6 ====> 15\n",
      "7 ====> 16\n",
      "8 ====> 17\n",
      "9 ====> 17\n"
     ]
    }
   ],
   "source": [
    "for i , k in enumerate(np.sort(a)):\n",
    "    print(f\"{i} ====> {k}\")"
   ]
  },
  {
   "cell_type": "code",
   "execution_count": 57,
   "id": "e4c02225-a49a-44e3-b641-a90715e041be",
   "metadata": {},
   "outputs": [
    {
     "data": {
      "text/plain": [
       "0"
      ]
     },
     "execution_count": 57,
     "metadata": {},
     "output_type": "execute_result"
    }
   ],
   "source": [
    "a.argmin()"
   ]
  },
  {
   "cell_type": "code",
   "execution_count": null,
   "id": "750bbf16-5c73-403a-9db8-4fcb1c4aae61",
   "metadata": {},
   "outputs": [],
   "source": []
  }
 ],
 "metadata": {
  "kernelspec": {
   "display_name": "Python 3 (ipykernel)",
   "language": "python",
   "name": "python3"
  },
  "language_info": {
   "codemirror_mode": {
    "name": "ipython",
    "version": 3
   },
   "file_extension": ".py",
   "mimetype": "text/x-python",
   "name": "python",
   "nbconvert_exporter": "python",
   "pygments_lexer": "ipython3",
   "version": "3.12.4"
  }
 },
 "nbformat": 4,
 "nbformat_minor": 5
}
