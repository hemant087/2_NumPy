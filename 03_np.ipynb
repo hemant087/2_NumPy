{
 "cells": [
  {
   "cell_type": "code",
   "execution_count": 2,
   "id": "da30c5d7-23b9-4ba3-82a1-28378bcc3445",
   "metadata": {},
   "outputs": [],
   "source": [
    "import numpy as np"
   ]
  },
  {
   "cell_type": "code",
   "execution_count": null,
   "id": "e323d619-eb94-48da-9192-d730513fe278",
   "metadata": {},
   "outputs": [],
   "source": []
  },
  {
   "cell_type": "code",
   "execution_count": 51,
   "id": "738584f9-3dad-439f-b72b-7953a178c277",
   "metadata": {
    "scrolled": true
   },
   "outputs": [
    {
     "data": {
      "text/plain": [
       "array([1, 2, 3, 4, 5, 6, 7, 8, 9])"
      ]
     },
     "execution_count": 51,
     "metadata": {},
     "output_type": "execute_result"
    }
   ],
   "source": [
    "# arr = np.arange(1,10).reshape(3,3)\n",
    "arr = np.arange(1,10)\n",
    "arr"
   ]
  },
  {
   "cell_type": "code",
   "execution_count": 61,
   "id": "5f4b1b7c-5ec3-4cc8-a846-9eedcbe53d74",
   "metadata": {},
   "outputs": [
    {
     "data": {
      "text/plain": [
       "array([[6, 4, 3],\n",
       "       [6, 7, 5],\n",
       "       [8, 4, 7]])"
      ]
     },
     "execution_count": 61,
     "metadata": {},
     "output_type": "execute_result"
    }
   ],
   "source": [
    "arr1 = np.random.randint(1,10,(3,3))\n",
    "arr1"
   ]
  },
  {
   "cell_type": "code",
   "execution_count": 93,
   "id": "90013fa8-a456-4c96-aa3d-d5d13fd06d18",
   "metadata": {},
   "outputs": [
    {
     "ename": "TypeError",
     "evalue": "'type' object cannot be interpreted as an integer",
     "output_type": "error",
     "traceback": [
      "\u001b[1;31m---------------------------------------------------------------------------\u001b[0m",
      "\u001b[1;31mTypeError\u001b[0m                                 Traceback (most recent call last)",
      "Cell \u001b[1;32mIn[93], line 1\u001b[0m\n\u001b[1;32m----> 1\u001b[0m arr2 \u001b[38;5;241m=\u001b[39m np\u001b[38;5;241m.\u001b[39meye(\u001b[38;5;241m3\u001b[39m,\u001b[38;5;28mint\u001b[39m)\n\u001b[0;32m      2\u001b[0m arr2\n",
      "File \u001b[1;32m~\\anaconda3\\Lib\\site-packages\\numpy\\lib\\twodim_base.py:211\u001b[0m, in \u001b[0;36meye\u001b[1;34m(N, M, k, dtype, order, like)\u001b[0m\n\u001b[0;32m    209\u001b[0m \u001b[38;5;28;01mif\u001b[39;00m M \u001b[38;5;129;01mis\u001b[39;00m \u001b[38;5;28;01mNone\u001b[39;00m:\n\u001b[0;32m    210\u001b[0m     M \u001b[38;5;241m=\u001b[39m N\n\u001b[1;32m--> 211\u001b[0m m \u001b[38;5;241m=\u001b[39m zeros((N, M), dtype\u001b[38;5;241m=\u001b[39mdtype, order\u001b[38;5;241m=\u001b[39morder)\n\u001b[0;32m    212\u001b[0m \u001b[38;5;28;01mif\u001b[39;00m k \u001b[38;5;241m>\u001b[39m\u001b[38;5;241m=\u001b[39m M:\n\u001b[0;32m    213\u001b[0m     \u001b[38;5;28;01mreturn\u001b[39;00m m\n",
      "\u001b[1;31mTypeError\u001b[0m: 'type' object cannot be interpreted as an integer"
     ]
    }
   ],
   "source": [
    "arr2 = np.eye(3)\n",
    "arr2"
   ]
  },
  {
   "cell_type": "code",
   "execution_count": 99,
   "id": "55caa435-818b-4732-bd5a-cb6b586da1c8",
   "metadata": {},
   "outputs": [
    {
     "data": {
      "text/plain": [
       "array([ 0. , 12.5, 25. , 37.5, 50. ])"
      ]
     },
     "execution_count": 99,
     "metadata": {},
     "output_type": "execute_result"
    }
   ],
   "source": [
    "arr3 = np.linspace(0,50,5)\n",
    "arr3"
   ]
  },
  {
   "cell_type": "code",
   "execution_count": null,
   "id": "b9f1580f-facc-478b-bf31-677bbc1a1648",
   "metadata": {},
   "outputs": [],
   "source": [
    "12.5"
   ]
  },
  {
   "cell_type": "code",
   "execution_count": 4,
   "id": "38e0b088-f1b8-401b-a172-0d46005c3e9d",
   "metadata": {},
   "outputs": [
    {
     "name": "stdout",
     "output_type": "stream",
     "text": [
      "[[1 2]\n",
      " [3 4]\n",
      " [5 6]]\n"
     ]
    }
   ],
   "source": [
    "# Boolean indexing:\n",
    "a = np.array([[1,2], [3, 4], [5, 6]])\n",
    "print(a)\n",
    "# [[1 2]\n",
    "# [3 4]\n",
    "# [5 6]]"
   ]
  },
  {
   "cell_type": "code",
   "execution_count": 6,
   "id": "0f25dcd0-90ac-41f1-b7f5-054a6860e62f",
   "metadata": {},
   "outputs": [
    {
     "name": "stdout",
     "output_type": "stream",
     "text": [
      "[[False False]\n",
      " [ True  True]\n",
      " [ True  True]]\n"
     ]
    }
   ],
   "source": [
    "# same shape with True or False for the condition\n",
    "bool_idx = a > 2\n",
    "print(bool_idx)"
   ]
  },
  {
   "cell_type": "code",
   "execution_count": 8,
   "id": "540f671f-7e73-447a-bda1-86b0163af0cb",
   "metadata": {},
   "outputs": [
    {
     "name": "stdout",
     "output_type": "stream",
     "text": [
      "[3 4 5 6]\n"
     ]
    }
   ],
   "source": [
    "# note: this will be a rank 1 array!\n",
    "print(a[bool_idx]) # [3 4 5 6]"
   ]
  },
  {
   "cell_type": "code",
   "execution_count": 1,
   "id": "d620cb2b-7fb9-43e2-817d-1a67a219612b",
   "metadata": {},
   "outputs": [
    {
     "ename": "NameError",
     "evalue": "name 'a' is not defined",
     "output_type": "error",
     "traceback": [
      "\u001b[1;31m---------------------------------------------------------------------------\u001b[0m",
      "\u001b[1;31mNameError\u001b[0m                                 Traceback (most recent call last)",
      "Cell \u001b[1;32mIn[1], line 2\u001b[0m\n\u001b[0;32m      1\u001b[0m \u001b[38;5;66;03m# We can do all of the above in a single concise statement:\u001b[39;00m\n\u001b[1;32m----> 2\u001b[0m \u001b[38;5;28mprint\u001b[39m(a[a \u001b[38;5;241m>\u001b[39m \u001b[38;5;241m2\u001b[39m]) \u001b[38;5;66;03m# [3 4 5 6]\u001b[39;00m\n\u001b[0;32m      3\u001b[0m \u001b[38;5;66;03m# np.where(): same size with modified values\u001b[39;00m\n\u001b[0;32m      4\u001b[0m b \u001b[38;5;241m=\u001b[39m np\u001b[38;5;241m.\u001b[39mwhere(a\u001b[38;5;241m>\u001b[39m\u001b[38;5;241m2\u001b[39m, a, \u001b[38;5;241m-\u001b[39m\u001b[38;5;241m1\u001b[39m)\n",
      "\u001b[1;31mNameError\u001b[0m: name 'a' is not defined"
     ]
    }
   ],
   "source": [
    "# We can do all of the above in a single concise statement:\n",
    "print(a[a > 2]) # [3 4 5 6]\n",
    "# np.where(): same size with modified values\n",
    "b = np.where(a>2, a, -1)\n",
    "print(b)\n",
    "# [[-1 -1]\n",
    "# [ 3 4]\n",
    "# [ 5 6]]\n",
    "# fancy indexing: access multiple indices at once\n",
    "a = np.array([10,19,30,41,50,61])\n",
    "b = a[[1,3,5]]\n",
    "print(b) # [19 41 61]\n",
    "# compute indices where condition is True\n",
    "even = np.argwhere(a%2==0).flatten()\n",
    "print(even) # [0 2 4]\n",
    "a_even = a[even]\n",
    "print(a_even) # [10 30 50]"
   ]
  },
  {
   "cell_type": "code",
   "execution_count": 4,
   "id": "4eb1f2b7-976f-403e-b2a6-cf1ba85ffc45",
   "metadata": {},
   "outputs": [
    {
     "name": "stdout",
     "output_type": "stream",
     "text": [
      "[[10 11 12]\n",
      " [ 9 10 11]\n",
      " [ 8  9 10]]\n",
      "[[10 11 12]\n",
      " [ 9 10 11]\n",
      " [ 8  9 10]]\n"
     ]
    }
   ],
   "source": [
    "a1 = np.array([1,2,3])\n",
    "a2 = np.array([[9],[8],[7]])\n",
    "\n",
    "print(a1+a2)\n",
    "print(a2+a1)"
   ]
  },
  {
   "cell_type": "code",
   "execution_count": 24,
   "id": "c2c8a4cc-9bb8-464f-aa2b-9dbb4e63b1aa",
   "metadata": {},
   "outputs": [
    {
     "data": {
      "text/plain": [
       "20"
      ]
     },
     "execution_count": 24,
     "metadata": {},
     "output_type": "execute_result"
    }
   ],
   "source": [
    "a = np.array([1,2,3,4,5])\n",
    "len(a) * a.itemsize"
   ]
  },
  {
   "cell_type": "code",
   "execution_count": 26,
   "id": "4b14384c-3a2c-437a-928f-496a3d32364f",
   "metadata": {},
   "outputs": [
    {
     "data": {
      "text/plain": [
       "'[1, 1, 1, 1],\\n       [1, 0, 0, 1],\\n       [1, 0, 0, 1],\\n       [1, 1, 1, 1]'"
      ]
     },
     "execution_count": 26,
     "metadata": {},
     "output_type": "execute_result"
    }
   ],
   "source": [
    "'''[1, 1, 1, 1],\n",
    "       [1, 0, 0, 1],\n",
    "       [1, 0, 0, 1],\n",
    "       [1, 1, 1, 1]'''"
   ]
  },
  {
   "cell_type": "code",
   "execution_count": 28,
   "id": "40134bcc-bc48-43d2-91a3-9a04686161b3",
   "metadata": {},
   "outputs": [
    {
     "data": {
      "text/plain": [
       "[[1, 1, 1, 1], [1, 0, 0, 1], [1, 0, 0, 1], [1, 1, 1, 1]]"
      ]
     },
     "execution_count": 28,
     "metadata": {},
     "output_type": "execute_result"
    }
   ],
   "source": [
    "a = [[1, 1, 1, 1],\n",
    "       [1, 0, 0, 1],\n",
    "       [1, 0, 0, 1],\n",
    "       [1, 1, 1, 1]]\n",
    "a"
   ]
  },
  {
   "cell_type": "code",
   "execution_count": 42,
   "id": "6b55ddab-f6e3-4253-ae7e-4f58c3d824b3",
   "metadata": {},
   "outputs": [
    {
     "data": {
      "text/plain": [
       "[[1, 2, 3, 4, 5, 6, 7, 8], [4, 5, 6, 7, 4, 10]]"
      ]
     },
     "execution_count": 42,
     "metadata": {},
     "output_type": "execute_result"
    }
   ],
   "source": [
    "a = [[1,2,3,4,5,6,7,8],[4, 5,6,7,4,10]]\n",
    "a"
   ]
  },
  {
   "cell_type": "code",
   "execution_count": 48,
   "id": "a549639b-fd8c-45e4-a5c8-206056bc9306",
   "metadata": {},
   "outputs": [],
   "source": [
    "arr = np.ones((4,4),int)"
   ]
  },
  {
   "cell_type": "code",
   "execution_count": 50,
   "id": "f99fba96-d515-4dc8-9282-ac0c7011834b",
   "metadata": {},
   "outputs": [
    {
     "data": {
      "text/plain": [
       "array([[1, 1, 1, 1],\n",
       "       [1, 1, 1, 1],\n",
       "       [1, 1, 1, 1],\n",
       "       [1, 1, 1, 1]])"
      ]
     },
     "execution_count": 50,
     "metadata": {},
     "output_type": "execute_result"
    }
   ],
   "source": [
    "arr"
   ]
  },
  {
   "cell_type": "code",
   "execution_count": 54,
   "id": "44eed815-f81f-4017-84ea-fc57a8d9ceb7",
   "metadata": {},
   "outputs": [],
   "source": [
    "arr[3] = 0"
   ]
  },
  {
   "cell_type": "code",
   "execution_count": 56,
   "id": "df8e2b1c-f5ab-415a-8ea8-6d35c788bf0d",
   "metadata": {},
   "outputs": [
    {
     "data": {
      "text/plain": [
       "array([[1, 1, 1, 1],\n",
       "       [1, 1, 1, 1],\n",
       "       [1, 1, 1, 1],\n",
       "       [0, 0, 0, 0]])"
      ]
     },
     "execution_count": 56,
     "metadata": {},
     "output_type": "execute_result"
    }
   ],
   "source": [
    "arr"
   ]
  },
  {
   "cell_type": "code",
   "execution_count": 58,
   "id": "7dce75bf-cb43-4fd2-b0c4-d7c6432b8837",
   "metadata": {},
   "outputs": [],
   "source": [
    "arr[0] = 0"
   ]
  },
  {
   "cell_type": "code",
   "execution_count": 60,
   "id": "b2661d5a-88c6-431c-87ad-a3b40a7d7cc4",
   "metadata": {},
   "outputs": [
    {
     "data": {
      "text/plain": [
       "array([[0, 0, 0, 0],\n",
       "       [1, 1, 1, 1],\n",
       "       [1, 1, 1, 1],\n",
       "       [0, 0, 0, 0]])"
      ]
     },
     "execution_count": 60,
     "metadata": {},
     "output_type": "execute_result"
    }
   ],
   "source": [
    "arr"
   ]
  },
  {
   "cell_type": "code",
   "execution_count": 76,
   "id": "c2c3d45a-6e26-49be-b940-0b9df6e12f2f",
   "metadata": {},
   "outputs": [],
   "source": [
    "arr[:,0] = 0"
   ]
  },
  {
   "cell_type": "code",
   "execution_count": 78,
   "id": "9b8a7002-b69e-4b51-8444-26b67d261771",
   "metadata": {},
   "outputs": [
    {
     "data": {
      "text/plain": [
       "array([[0, 0, 0, 0],\n",
       "       [0, 1, 1, 0],\n",
       "       [0, 1, 1, 0],\n",
       "       [0, 0, 0, 0]])"
      ]
     },
     "execution_count": 78,
     "metadata": {},
     "output_type": "execute_result"
    }
   ],
   "source": [
    "arr"
   ]
  },
  {
   "cell_type": "code",
   "execution_count": 70,
   "id": "9c3cd1bb-20fb-44e2-9500-aad1f73f4481",
   "metadata": {},
   "outputs": [],
   "source": [
    "arr[:,3] = 0"
   ]
  },
  {
   "cell_type": "code",
   "execution_count": 72,
   "id": "40fca6d5-6847-4c0c-86ac-3f1d831c6ecc",
   "metadata": {},
   "outputs": [
    {
     "data": {
      "text/plain": [
       "array([0, 0, 0, 0])"
      ]
     },
     "execution_count": 72,
     "metadata": {},
     "output_type": "execute_result"
    }
   ],
   "source": [
    "arr[:][3]"
   ]
  },
  {
   "cell_type": "code",
   "execution_count": 102,
   "id": "904ee027-e244-4e91-9cf7-f0b90d9706ab",
   "metadata": {},
   "outputs": [
    {
     "data": {
      "text/plain": [
       "array([[0.81279691, 0.86786265, 0.07134227, 0.8846022 ],\n",
       "       [0.89535449, 0.51216616, 0.89820667, 0.45758968],\n",
       "       [0.51579446, 0.32958743, 0.44570515, 0.68398355],\n",
       "       [0.27950014, 0.23148965, 0.12160894, 0.79699605]])"
      ]
     },
     "execution_count": 102,
     "metadata": {},
     "output_type": "execute_result"
    }
   ],
   "source": [
    "a = np.random.rand(16).reshape(4,4)\n",
    "\n",
    "a"
   ]
  },
  {
   "cell_type": "code",
   "execution_count": 104,
   "id": "454c1a0c-64d9-4549-b46e-fe3c75d226df",
   "metadata": {},
   "outputs": [],
   "source": [
    "lst = [[0.81279691, 0.86786265, 0.07134227, 0.8846022 ],\n",
    "       [0.89535449, 0.51216616, 0.89820667, 0.45758968],\n",
    "       [0.51579446, 0.32958743, 0.44570515, 0.68398355],\n",
    "       [0.27950014, 0.23148965, 0.12160894, 0.79699605]]"
   ]
  },
  {
   "cell_type": "code",
   "execution_count": 114,
   "id": "9984f20c-ad21-474a-8326-a1065c1dc799",
   "metadata": {},
   "outputs": [
    {
     "data": {
      "text/plain": [
       "array([0.8846022 , 0.45758968, 0.68398355, 0.79699605])"
      ]
     },
     "execution_count": 114,
     "metadata": {},
     "output_type": "execute_result"
    }
   ],
   "source": [
    "a[:,3]"
   ]
  },
  {
   "cell_type": "code",
   "execution_count": 106,
   "id": "f6ad869e-cfa5-4bec-9435-60cf5e564e99",
   "metadata": {},
   "outputs": [
    {
     "data": {
      "text/plain": [
       "[[0.81279691, 0.86786265, 0.07134227, 0.8846022],\n",
       " [0.89535449, 0.51216616, 0.89820667, 0.45758968],\n",
       " [0.51579446, 0.32958743, 0.44570515, 0.68398355],\n",
       " [0.27950014, 0.23148965, 0.12160894, 0.79699605]]"
      ]
     },
     "execution_count": 106,
     "metadata": {},
     "output_type": "execute_result"
    }
   ],
   "source": [
    "lst"
   ]
  },
  {
   "cell_type": "code",
   "execution_count": 112,
   "id": "07ea24d6-e196-468d-82a4-ea62ca4368e4",
   "metadata": {},
   "outputs": [
    {
     "data": {
      "text/plain": [
       "[0.81279691, 0.86786265, 0.07134227, 0.8846022]"
      ]
     },
     "execution_count": 112,
     "metadata": {},
     "output_type": "execute_result"
    }
   ],
   "source": []
  },
  {
   "cell_type": "code",
   "execution_count": null,
   "id": "2bd4748b-156e-45d5-813c-a8976dbe7e5f",
   "metadata": {},
   "outputs": [],
   "source": [
    "\n",
    "temp = -inf\n",
    "print(temp)"
   ]
  },
  {
   "cell_type": "code",
   "execution_count": 3,
   "id": "3d1b6401-aebe-4315-9ed5-4505d542e520",
   "metadata": {},
   "outputs": [
    {
     "data": {
      "text/plain": [
       "[[1, 0, 1, 0, 1, 0, 1, 0],\n",
       " [0, 1, 0, 1, 0, 1, 0, 1],\n",
       " [1, 0, 1, 0, 1, 0, 1, 0],\n",
       " [0, 1, 0, 1, 0, 1, 0, 1],\n",
       " [1, 0, 1, 0, 1, 0, 1, 0],\n",
       " [0, 1, 0, 1, 0, 1, 0, 1],\n",
       " [1, 0, 1, 0, 1, 0, 1, 0],\n",
       " [0, 1, 0, 1, 0, 1, 0, 1]]"
      ]
     },
     "execution_count": 3,
     "metadata": {},
     "output_type": "execute_result"
    }
   ],
   "source": [
    "mat = []\n",
    "flag = True\n",
    "for i in range(8):\n",
    "    temp = []\n",
    "    for j in range(8):\n",
    "        if flag:\n",
    "            if j % 2 == 0:\n",
    "                temp.append(1)\n",
    "            else:\n",
    "                temp.append(0)\n",
    "        else:\n",
    "            if j % 2 == 0:\n",
    "                temp.append(0)\n",
    "            else:\n",
    "                temp.append(1)\n",
    "    mat.append(temp)\n",
    "    if flag:\n",
    "        flag = False\n",
    "    else:\n",
    "        flag = True\n",
    "mat\n",
    "        "
   ]
  },
  {
   "cell_type": "code",
   "execution_count": 1,
   "id": "6b96c6e0-3bc8-4ba1-9cb5-96887de43da7",
   "metadata": {},
   "outputs": [],
   "source": [
    "import numpy as np"
   ]
  },
  {
   "cell_type": "code",
   "execution_count": 7,
   "id": "a8954c79-bf1a-4b5e-8393-92c27f5f7890",
   "metadata": {},
   "outputs": [
    {
     "data": {
      "text/plain": [
       "array([[29, 41, 85, 48, 14],\n",
       "       [ 9, 84, 26, 43, 80],\n",
       "       [38, 72, 42, 94, 59],\n",
       "       [32, 37, 60, 29, 73],\n",
       "       [84,  7, 15, 13, 46]])"
      ]
     },
     "execution_count": 7,
     "metadata": {},
     "output_type": "execute_result"
    }
   ],
   "source": [
    "a = np.random.randint(1,100,25).reshape(5,5)\n",
    "a\n",
    "# for i in np.nditer(a):\n",
    "#     print(i)"
   ]
  },
  {
   "cell_type": "code",
   "execution_count": 9,
   "id": "47d9b2f5-cb66-4fbc-a73b-c638665e7ba7",
   "metadata": {},
   "outputs": [
    {
     "data": {
      "text/plain": [
       "array([29, 41, 85, 48, 14,  9, 84, 26, 43, 80, 38, 72, 42, 94, 59, 32, 37,\n",
       "       60, 29, 73, 84,  7, 15, 13, 46])"
      ]
     },
     "execution_count": 9,
     "metadata": {},
     "output_type": "execute_result"
    }
   ],
   "source": [
    "np.ravel(a)"
   ]
  },
  {
   "cell_type": "code",
   "execution_count": 16,
   "id": "e337f3c9-ed5b-4c69-887f-8d1d2900ce26",
   "metadata": {},
   "outputs": [
    {
     "data": {
      "text/plain": [
       "array([[29,  9, 38, 32, 84],\n",
       "       [41, 84, 72, 37,  7],\n",
       "       [85, 26, 42, 60, 15],\n",
       "       [48, 43, 94, 29, 13],\n",
       "       [14, 80, 59, 73, 46]])"
      ]
     },
     "execution_count": 16,
     "metadata": {},
     "output_type": "execute_result"
    }
   ],
   "source": [
    "np.transpose(a)"
   ]
  },
  {
   "cell_type": "code",
   "execution_count": 22,
   "id": "bc2e6b4b-f344-4d6e-9665-a3e8a3d635bd",
   "metadata": {},
   "outputs": [],
   "source": [
    "a1 = a.transpose()"
   ]
  },
  {
   "cell_type": "code",
   "execution_count": 30,
   "id": "5e223366-b9c9-475f-9fb2-5836bb3d2bf2",
   "metadata": {},
   "outputs": [
    {
     "data": {
      "text/plain": [
       "array([[[29, 41, 85, 48, 14],\n",
       "        [ 9, 84, 26, 43, 80],\n",
       "        [38, 72, 42, 94, 59],\n",
       "        [32, 37, 60, 29, 73],\n",
       "        [84,  7, 15, 13, 46]],\n",
       "\n",
       "       [[29,  9, 38, 32, 84],\n",
       "        [41, 84, 72, 37,  7],\n",
       "        [85, 26, 42, 60, 15],\n",
       "        [48, 43, 94, 29, 13],\n",
       "        [14, 80, 59, 73, 46]]])"
      ]
     },
     "execution_count": 30,
     "metadata": {},
     "output_type": "execute_result"
    }
   ],
   "source": [
    "np.stack((a,a1))"
   ]
  },
  {
   "cell_type": "code",
   "execution_count": 32,
   "id": "4db524d5-7882-4836-b28c-c581b44001cd",
   "metadata": {},
   "outputs": [
    {
     "data": {
      "text/plain": [
       "array([[29, 41, 85, 48, 14, 29,  9, 38, 32, 84],\n",
       "       [ 9, 84, 26, 43, 80, 41, 84, 72, 37,  7],\n",
       "       [38, 72, 42, 94, 59, 85, 26, 42, 60, 15],\n",
       "       [32, 37, 60, 29, 73, 48, 43, 94, 29, 13],\n",
       "       [84,  7, 15, 13, 46, 14, 80, 59, 73, 46]])"
      ]
     },
     "execution_count": 32,
     "metadata": {},
     "output_type": "execute_result"
    }
   ],
   "source": [
    "np.hstack((a,a1))"
   ]
  },
  {
   "cell_type": "code",
   "execution_count": 54,
   "id": "2b277809-82c0-4f6a-8932-0c241eedf811",
   "metadata": {},
   "outputs": [
    {
     "data": {
      "text/plain": [
       "[array([[29, 41, 85],\n",
       "        [ 9, 84, 26],\n",
       "        [38, 72, 42],\n",
       "        [32, 37, 60],\n",
       "        [84,  7, 15]]),\n",
       " array([[48, 14],\n",
       "        [43, 80],\n",
       "        [94, 59],\n",
       "        [29, 73],\n",
       "        [13, 46]])]"
      ]
     },
     "execution_count": 54,
     "metadata": {},
     "output_type": "execute_result"
    }
   ],
   "source": [
    "np.hsplit((a),2.5)"
   ]
  },
  {
   "cell_type": "code",
   "execution_count": 56,
   "id": "53fa4774-c189-4428-ba74-54ca9012fe1f",
   "metadata": {},
   "outputs": [
    {
     "data": {
      "text/plain": [
       "array([ 0. ,  2.5,  5. ,  7.5, 10. ])"
      ]
     },
     "execution_count": 56,
     "metadata": {},
     "output_type": "execute_result"
    }
   ],
   "source": [
    "np.linspace(0,10,5)"
   ]
  },
  {
   "cell_type": "code",
   "execution_count": 60,
   "id": "feb86b41-5559-4dd1-b0ca-4e7dfc443ef9",
   "metadata": {},
   "outputs": [
    {
     "data": {
      "text/plain": [
       "array([8.23721864, 7.14601316, 8.1265803 , 5.02069623, 9.1554725 ])"
      ]
     },
     "execution_count": 60,
     "metadata": {},
     "output_type": "execute_result"
    }
   ],
   "source": [
    "np.random.uniform(1,10,5)"
   ]
  },
  {
   "cell_type": "code",
   "execution_count": 3,
   "id": "8953eeb5-706a-455d-a89c-c03f1075f283",
   "metadata": {},
   "outputs": [],
   "source": [
    "import numpy as np"
   ]
  },
  {
   "cell_type": "code",
   "execution_count": 47,
   "id": "cc32459e-20e6-41a5-89d0-148b99f0bcd8",
   "metadata": {},
   "outputs": [
    {
     "data": {
      "text/plain": [
       "array([0.5488135 , 0.71518937, 0.60276338, 0.54488318, 0.4236548 ])"
      ]
     },
     "execution_count": 47,
     "metadata": {},
     "output_type": "execute_result"
    }
   ],
   "source": [
    "np.random.seed(0)\n",
    "np.random.rand(5)"
   ]
  },
  {
   "cell_type": "code",
   "execution_count": 49,
   "id": "2f6d6c1b-f8a2-479e-87b9-6a1038c6d421",
   "metadata": {},
   "outputs": [
    {
     "data": {
      "text/plain": [
       "array([0.64589411, 0.43758721, 0.891773  , 0.96366276, 0.38344152])"
      ]
     },
     "execution_count": 49,
     "metadata": {},
     "output_type": "execute_result"
    }
   ],
   "source": [
    "np.random.rand(5)"
   ]
  },
  {
   "cell_type": "code",
   "execution_count": null,
   "id": "bab8330e-25e6-48df-b98c-8f240e805052",
   "metadata": {},
   "outputs": [],
   "source": []
  },
  {
   "cell_type": "code",
   "execution_count": null,
   "id": "4fa00a22-d61b-4cc2-aad1-8ddb47ffea69",
   "metadata": {},
   "outputs": [],
   "source": []
  },
  {
   "cell_type": "code",
   "execution_count": null,
   "id": "b8a6f2d6-2bc6-4260-a1c4-f971f1311ff6",
   "metadata": {},
   "outputs": [],
   "source": []
  }
 ],
 "metadata": {
  "kernelspec": {
   "display_name": "Python 3 (ipykernel)",
   "language": "python",
   "name": "python3"
  },
  "language_info": {
   "codemirror_mode": {
    "name": "ipython",
    "version": 3
   },
   "file_extension": ".py",
   "mimetype": "text/x-python",
   "name": "python",
   "nbconvert_exporter": "python",
   "pygments_lexer": "ipython3",
   "version": "3.12.4"
  }
 },
 "nbformat": 4,
 "nbformat_minor": 5
}
